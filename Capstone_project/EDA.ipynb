{
 "cells": [
  {
   "cell_type": "code",
   "execution_count": 2,
   "metadata": {
    "collapsed": true
   },
   "outputs": [],
   "source": [
    "import pandas as pd\n",
    "import numpy as np\n",
    "import seaborn as sns\n",
    "import matplotlib.pyplot as plt\n",
    "%matplotlib inline"
   ]
  },
  {
   "cell_type": "code",
   "execution_count": 3,
   "metadata": {
    "collapsed": true
   },
   "outputs": [],
   "source": [
    "movies = pd.read_pickle('movies.pkl')\n",
    "\n",
    "#Replace missing values with actual Python NaN.\n",
    "movies = movies.replace('N/A', np.NaN)\n",
    "movies = movies.replace('NA', np.NaN)\n",
    "movies = movies.replace('NULL', np.NaN)\n",
    "\n",
    "#Set the imdbRating column as float instead of strings\n",
    "movies.imdbRating = movies.imdbRating.astype(float)\n"
   ]
  },
  {
   "cell_type": "code",
   "execution_count": 4,
   "metadata": {
    "collapsed": true
   },
   "outputs": [],
   "source": [
    "#Makes a new Data Frame without movies with script missing.\n",
    "movie_scripts = movies[(movies.script.notnull())].copy()\n",
    "movie_scripts.reset_index(inplace = True)\n",
    "del movie_scripts['index']"
   ]
  },
  {
   "cell_type": "code",
   "execution_count": 22,
   "metadata": {
    "collapsed": true
   },
   "outputs": [],
   "source": [
    "from textblob import TextBlob, Word\n",
    "def sentiment(script, pages = 100, ma = 5):\n",
    "    #Creates a moving average of the sentiment polarity of the script pages (or %)\n",
    "    try:\n",
    "        sentiment = []\n",
    "        for i in range(pages+1):\n",
    "            sentiment.append(TextBlob(script[i*len(script)/pages:(i+1)*len(script)/pages]).sentiment.polarity)\n",
    "        MA = []\n",
    "        for i in range(len(sentiment)-ma):\n",
    "            MA.append(np.mean(sentiment[i:i+ma]))\n",
    "        return MA\n",
    "    except:\n",
    "        return [0]\n",
    "movie_scripts['sentiment'] = movies.script.apply(lambda x: sentiment(x))\n"
   ]
  },
  {
   "cell_type": "code",
   "execution_count": 30,
   "metadata": {
    "collapsed": false
   },
   "outputs": [
    {
     "name": "stderr",
     "output_type": "stream",
     "text": [
      "C:\\Anaconda2\\lib\\site-packages\\ipykernel\\__main__.py:1: FutureWarning: sort(columns=....) is deprecated, use sort_values(by=.....)\n",
      "  if __name__ == '__main__':\n"
     ]
    },
    {
     "data": {
      "text/html": [
       "<div>\n",
       "<table border=\"1\" class=\"dataframe\">\n",
       "  <thead>\n",
       "    <tr style=\"text-align: right;\">\n",
       "      <th></th>\n",
       "      <th>title</th>\n",
       "      <th>script</th>\n",
       "      <th>IMDB_info</th>\n",
       "      <th>Actors</th>\n",
       "      <th>imdbID</th>\n",
       "      <th>Awards</th>\n",
       "      <th>Country</th>\n",
       "      <th>Director</th>\n",
       "      <th>Genre</th>\n",
       "      <th>Language</th>\n",
       "      <th>...</th>\n",
       "      <th>Writer</th>\n",
       "      <th>Year</th>\n",
       "      <th>imdbRating</th>\n",
       "      <th>imdbVotes</th>\n",
       "      <th>financials</th>\n",
       "      <th>Budget</th>\n",
       "      <th>Revenue</th>\n",
       "      <th>Profits</th>\n",
       "      <th>primaryGenre</th>\n",
       "      <th>sentiment</th>\n",
       "    </tr>\n",
       "  </thead>\n",
       "  <tbody>\n",
       "    <tr>\n",
       "      <th>807</th>\n",
       "      <td>Pride and Prejudice</td>\n",
       "      <td>\\n\\r\\n\\r\\n\\r\\n\\r\\n\\r\\n                        ...</td>\n",
       "      <td>{u'totalSeasons': u'1', u'Plot': u'Jane Austen...</td>\n",
       "      <td>Jennifer Ehle, Colin Firth, Susannah Harker, J...</td>\n",
       "      <td>tt0112130</td>\n",
       "      <td>0</td>\n",
       "      <td>UK</td>\n",
       "      <td>NaN</td>\n",
       "      <td>Drama, Romance</td>\n",
       "      <td>English</td>\n",
       "      <td>...</td>\n",
       "      <td>NaN</td>\n",
       "      <td>1995</td>\n",
       "      <td>9.0</td>\n",
       "      <td>53,965</td>\n",
       "      <td>[NULL, NULL]</td>\n",
       "      <td>NaN</td>\n",
       "      <td>NaN</td>\n",
       "      <td>NaN</td>\n",
       "      <td>Drama</td>\n",
       "      <td>[0.0459324171767, 0.0085323450266, 0.008002669...</td>\n",
       "    </tr>\n",
       "    <tr>\n",
       "      <th>819</th>\n",
       "      <td>Pulp Fiction</td>\n",
       "      <td>\\n\\n\\n\"PULP FICTION\" -- by Quentin Tarantino &amp;...</td>\n",
       "      <td>{u'Plot': u'The lives of two mob hit men, a bo...</td>\n",
       "      <td>Tim Roth, Amanda Plummer, Laura Lovelace, John...</td>\n",
       "      <td>tt0110912</td>\n",
       "      <td>0</td>\n",
       "      <td>USA</td>\n",
       "      <td>Quentin Tarantino</td>\n",
       "      <td>Crime, Drama</td>\n",
       "      <td>English, Spanish, French</td>\n",
       "      <td>...</td>\n",
       "      <td>Quentin Tarantino (story), Roger Avary (story)...</td>\n",
       "      <td>1994</td>\n",
       "      <td>8.9</td>\n",
       "      <td>1,343,852</td>\n",
       "      <td>[8000000.0, 107930000.0]</td>\n",
       "      <td>8000000.0</td>\n",
       "      <td>107930000.0</td>\n",
       "      <td>99.930000</td>\n",
       "      <td>Crime</td>\n",
       "      <td>[0.0951546451914, 0.0692741888422, 0.107902435...</td>\n",
       "    </tr>\n",
       "    <tr>\n",
       "      <th>879</th>\n",
       "      <td>Schindler's List</td>\n",
       "      <td>\\n\\n\\n\\n&lt;b&gt;&lt;!--\\n&lt;/b&gt;if (window!= top)\\ntop.lo...</td>\n",
       "      <td>{u'Plot': u'In German-occupied Poland during W...</td>\n",
       "      <td>Liam Neeson, Ben Kingsley, Ralph Fiennes, Caro...</td>\n",
       "      <td>tt0108052</td>\n",
       "      <td>0</td>\n",
       "      <td>USA</td>\n",
       "      <td>Steven Spielberg</td>\n",
       "      <td>Biography, Drama, History</td>\n",
       "      <td>English, Hebrew, German, Polish</td>\n",
       "      <td>...</td>\n",
       "      <td>Thomas Keneally (book), Steven Zaillian (scree...</td>\n",
       "      <td>1993</td>\n",
       "      <td>8.9</td>\n",
       "      <td>877,500</td>\n",
       "      <td>[22000000.0, 96067179.0]</td>\n",
       "      <td>22000000.0</td>\n",
       "      <td>96067179.0</td>\n",
       "      <td>74.067179</td>\n",
       "      <td>Biography</td>\n",
       "      <td>[0.0, 0.0, 0.0, 0.0, 0.0, 0.0, 0.0, 0.0, 0.0, ...</td>\n",
       "    </tr>\n",
       "    <tr>\n",
       "      <th>1047</th>\n",
       "      <td>Twin Peaks</td>\n",
       "      <td>\\n\\n                           T W I N   P E A...</td>\n",
       "      <td>{u'totalSeasons': u'2', u'Plot': u'An idiosync...</td>\n",
       "      <td>Kyle MacLachlan, Michael Ontkean, Mädchen Amic...</td>\n",
       "      <td>tt0098936</td>\n",
       "      <td>0</td>\n",
       "      <td>USA</td>\n",
       "      <td>NaN</td>\n",
       "      <td>Crime, Drama, Mystery</td>\n",
       "      <td>English, Icelandic, Afrikaans, Norwegian</td>\n",
       "      <td>...</td>\n",
       "      <td>Mark Frost, David Lynch</td>\n",
       "      <td>1990–1991</td>\n",
       "      <td>8.9</td>\n",
       "      <td>112,001</td>\n",
       "      <td>[NULL, NULL]</td>\n",
       "      <td>NaN</td>\n",
       "      <td>NaN</td>\n",
       "      <td>NaN</td>\n",
       "      <td>Crime</td>\n",
       "      <td>[-0.0234867845118, -0.0353584054834, -0.021048...</td>\n",
       "    </tr>\n",
       "    <tr>\n",
       "      <th>527</th>\n",
       "      <td>Inception</td>\n",
       "      <td>\\n\\r\\n\\r\\n\\r\\n\\r\\n\\r\\n                        ...</td>\n",
       "      <td>{u'Plot': u'A thief, who steals corporate secr...</td>\n",
       "      <td>Leonardo DiCaprio, Joseph Gordon-Levitt, Ellen...</td>\n",
       "      <td>tt1375666</td>\n",
       "      <td>0</td>\n",
       "      <td>USA, UK</td>\n",
       "      <td>Christopher Nolan</td>\n",
       "      <td>Action, Adventure, Sci-Fi</td>\n",
       "      <td>English, Japanese, French</td>\n",
       "      <td>...</td>\n",
       "      <td>Christopher Nolan</td>\n",
       "      <td>2010</td>\n",
       "      <td>8.8</td>\n",
       "      <td>1,489,067</td>\n",
       "      <td>[160000000.0, 292568851.0]</td>\n",
       "      <td>160000000.0</td>\n",
       "      <td>292568851.0</td>\n",
       "      <td>132.568851</td>\n",
       "      <td>Action</td>\n",
       "      <td>[-0.0232043787724, 0.00399606214466, 0.0191459...</td>\n",
       "    </tr>\n",
       "  </tbody>\n",
       "</table>\n",
       "<p>5 rows × 25 columns</p>\n",
       "</div>"
      ],
      "text/plain": [
       "                    title                                             script  \\\n",
       "807   Pride and Prejudice  \\n\\r\\n\\r\\n\\r\\n\\r\\n\\r\\n                        ...   \n",
       "819          Pulp Fiction  \\n\\n\\n\"PULP FICTION\" -- by Quentin Tarantino &...   \n",
       "879      Schindler's List  \\n\\n\\n\\n<b><!--\\n</b>if (window!= top)\\ntop.lo...   \n",
       "1047           Twin Peaks  \\n\\n                           T W I N   P E A...   \n",
       "527             Inception  \\n\\r\\n\\r\\n\\r\\n\\r\\n\\r\\n                        ...   \n",
       "\n",
       "                                              IMDB_info  \\\n",
       "807   {u'totalSeasons': u'1', u'Plot': u'Jane Austen...   \n",
       "819   {u'Plot': u'The lives of two mob hit men, a bo...   \n",
       "879   {u'Plot': u'In German-occupied Poland during W...   \n",
       "1047  {u'totalSeasons': u'2', u'Plot': u'An idiosync...   \n",
       "527   {u'Plot': u'A thief, who steals corporate secr...   \n",
       "\n",
       "                                                 Actors     imdbID  Awards  \\\n",
       "807   Jennifer Ehle, Colin Firth, Susannah Harker, J...  tt0112130       0   \n",
       "819   Tim Roth, Amanda Plummer, Laura Lovelace, John...  tt0110912       0   \n",
       "879   Liam Neeson, Ben Kingsley, Ralph Fiennes, Caro...  tt0108052       0   \n",
       "1047  Kyle MacLachlan, Michael Ontkean, Mädchen Amic...  tt0098936       0   \n",
       "527   Leonardo DiCaprio, Joseph Gordon-Levitt, Ellen...  tt1375666       0   \n",
       "\n",
       "      Country           Director                      Genre  \\\n",
       "807        UK                NaN             Drama, Romance   \n",
       "819       USA  Quentin Tarantino               Crime, Drama   \n",
       "879       USA   Steven Spielberg  Biography, Drama, History   \n",
       "1047      USA                NaN      Crime, Drama, Mystery   \n",
       "527   USA, UK  Christopher Nolan  Action, Adventure, Sci-Fi   \n",
       "\n",
       "                                      Language  \\\n",
       "807                                    English   \n",
       "819                   English, Spanish, French   \n",
       "879            English, Hebrew, German, Polish   \n",
       "1047  English, Icelandic, Afrikaans, Norwegian   \n",
       "527                  English, Japanese, French   \n",
       "\n",
       "                            ...                          \\\n",
       "807                         ...                           \n",
       "819                         ...                           \n",
       "879                         ...                           \n",
       "1047                        ...                           \n",
       "527                         ...                           \n",
       "\n",
       "                                                 Writer       Year imdbRating  \\\n",
       "807                                                 NaN       1995        9.0   \n",
       "819   Quentin Tarantino (story), Roger Avary (story)...       1994        8.9   \n",
       "879   Thomas Keneally (book), Steven Zaillian (scree...       1993        8.9   \n",
       "1047                            Mark Frost, David Lynch  1990–1991        8.9   \n",
       "527                                   Christopher Nolan       2010        8.8   \n",
       "\n",
       "      imdbVotes                  financials       Budget      Revenue  \\\n",
       "807      53,965                [NULL, NULL]          NaN          NaN   \n",
       "819   1,343,852    [8000000.0, 107930000.0]    8000000.0  107930000.0   \n",
       "879     877,500    [22000000.0, 96067179.0]   22000000.0   96067179.0   \n",
       "1047    112,001                [NULL, NULL]          NaN          NaN   \n",
       "527   1,489,067  [160000000.0, 292568851.0]  160000000.0  292568851.0   \n",
       "\n",
       "         Profits primaryGenre  \\\n",
       "807          NaN        Drama   \n",
       "819    99.930000        Crime   \n",
       "879    74.067179    Biography   \n",
       "1047         NaN        Crime   \n",
       "527   132.568851       Action   \n",
       "\n",
       "                                              sentiment  \n",
       "807   [0.0459324171767, 0.0085323450266, 0.008002669...  \n",
       "819   [0.0951546451914, 0.0692741888422, 0.107902435...  \n",
       "879   [0.0, 0.0, 0.0, 0.0, 0.0, 0.0, 0.0, 0.0, 0.0, ...  \n",
       "1047  [-0.0234867845118, -0.0353584054834, -0.021048...  \n",
       "527   [-0.0232043787724, 0.00399606214466, 0.0191459...  \n",
       "\n",
       "[5 rows x 25 columns]"
      ]
     },
     "execution_count": 30,
     "metadata": {},
     "output_type": "execute_result"
    }
   ],
   "source": [
    "movie_scripts.sort(columns = 'imdbRating', ascending = False).head()"
   ]
  },
  {
   "cell_type": "code",
   "execution_count": 38,
   "metadata": {
    "collapsed": false
   },
   "outputs": [
    {
     "data": {
      "text/plain": [
       "<matplotlib.axes._subplots.AxesSubplot at 0x2eb7fa20>"
      ]
     },
     "execution_count": 38,
     "metadata": {},
     "output_type": "execute_result"
    },
    {
     "data": {
      "image/png": "[encoded data removed]",
      "text/plain": [
       "<matplotlib.figure.Figure at 0x2e6c1a58>"
      ]
     },
     "metadata": {},
     "output_type": "display_data"
    }
   ],
   "source": [
    "pd.Series(movie_scripts.sentiment[819]).plot(title = 'Sentiment Pulp Fiction', c = '0.4')"
   ]
  },
  {
   "cell_type": "code",
   "execution_count": null,
   "metadata": {
    "collapsed": true
   },
   "outputs": [],
   "source": []
  },
  {
   "cell_type": "code",
   "execution_count": 5,
   "metadata": {
    "collapsed": false
   },
   "outputs": [
    {
     "data": {
      "text/html": [
       "<div>\n",
       "<table border=\"1\" class=\"dataframe\">\n",
       "  <thead>\n",
       "    <tr style=\"text-align: right;\">\n",
       "      <th></th>\n",
       "      <th>title</th>\n",
       "      <th>script</th>\n",
       "      <th>IMDB_info</th>\n",
       "      <th>Actors</th>\n",
       "      <th>imdbID</th>\n",
       "      <th>Awards</th>\n",
       "      <th>Country</th>\n",
       "      <th>Director</th>\n",
       "      <th>Genre</th>\n",
       "      <th>Language</th>\n",
       "      <th>...</th>\n",
       "      <th>Rated</th>\n",
       "      <th>Released</th>\n",
       "      <th>Runtime</th>\n",
       "      <th>Writer</th>\n",
       "      <th>Year</th>\n",
       "      <th>imdbRating</th>\n",
       "      <th>imdbVotes</th>\n",
       "      <th>financials</th>\n",
       "      <th>Budget</th>\n",
       "      <th>Revenue</th>\n",
       "    </tr>\n",
       "  </thead>\n",
       "  <tbody>\n",
       "    <tr>\n",
       "      <th>0</th>\n",
       "      <td>10 Things I Hate About You</td>\n",
       "      <td>\\n\\n\\n\\n&lt;b&gt;&lt;!--\\n&lt;/b&gt;if (window!= top)\\ntop.lo...</td>\n",
       "      <td>{u'Plot': u'A pretty, popular teenager can't g...</td>\n",
       "      <td>Heath Ledger, Julia Stiles, Joseph Gordon-Levi...</td>\n",
       "      <td>tt0147800</td>\n",
       "      <td>2 wins &amp; 12 nominations.</td>\n",
       "      <td>USA</td>\n",
       "      <td>Gil Junger</td>\n",
       "      <td>Comedy, Drama, Romance</td>\n",
       "      <td>English, French</td>\n",
       "      <td>...</td>\n",
       "      <td>PG-13</td>\n",
       "      <td>31 Mar 1999</td>\n",
       "      <td>97 min</td>\n",
       "      <td>Karen McCullah, Kirsten Smith</td>\n",
       "      <td>1999</td>\n",
       "      <td>7.2</td>\n",
       "      <td>225,311</td>\n",
       "      <td>[16000000.0, 38176108.0]</td>\n",
       "      <td>16000000.0</td>\n",
       "      <td>38176108.0</td>\n",
       "    </tr>\n",
       "    <tr>\n",
       "      <th>1</th>\n",
       "      <td>12</td>\n",
       "      <td>\\n\\n\\n  \\n  12 - Script\\n</td>\n",
       "      <td>{u'Plot': u'Twelve jurors must decide the fate...</td>\n",
       "      <td>Sergey Makovetskiy, Nikita Mikhalkov, Sergey G...</td>\n",
       "      <td>tt0488478</td>\n",
       "      <td>Nominated for 1 Oscar. Another 5 wins &amp; 5 nomi...</td>\n",
       "      <td>Russia</td>\n",
       "      <td>Nikita Mikhalkov</td>\n",
       "      <td>Crime, Drama, Thriller</td>\n",
       "      <td>Russian, Chechen</td>\n",
       "      <td>...</td>\n",
       "      <td>PG-13</td>\n",
       "      <td>20 Sep 2007</td>\n",
       "      <td>159 min</td>\n",
       "      <td>Nikita Mikhalkov, Aleksandr Novototskiy-Vlasov...</td>\n",
       "      <td>2007</td>\n",
       "      <td>7.8</td>\n",
       "      <td>11,741</td>\n",
       "      <td>[4000000.0, 125024.0]</td>\n",
       "      <td>4000000.0</td>\n",
       "      <td>125024.0</td>\n",
       "    </tr>\n",
       "    <tr>\n",
       "      <th>2</th>\n",
       "      <td>12 and Holding</td>\n",
       "      <td>\\n           \\n          \\n          \\n       ...</td>\n",
       "      <td>{u'Plot': u'After his twin brother is accident...</td>\n",
       "      <td>Conor Donovan, Jesse Camacho, Zoe Weizenbaum, ...</td>\n",
       "      <td>tt0417385</td>\n",
       "      <td>5 nominations.</td>\n",
       "      <td>USA</td>\n",
       "      <td>Michael Cuesta</td>\n",
       "      <td>Drama</td>\n",
       "      <td>English</td>\n",
       "      <td>...</td>\n",
       "      <td>R</td>\n",
       "      <td>07 Jul 2006</td>\n",
       "      <td>94 min</td>\n",
       "      <td>Anthony Cipriano</td>\n",
       "      <td>2005</td>\n",
       "      <td>7.6</td>\n",
       "      <td>6,157</td>\n",
       "      <td>[400000.0, 95687.0]</td>\n",
       "      <td>400000.0</td>\n",
       "      <td>95687.0</td>\n",
       "    </tr>\n",
       "    <tr>\n",
       "      <th>3</th>\n",
       "      <td>12 Monkeys</td>\n",
       "      <td>\\n\\n\\n\\n&lt;b&gt;&lt;!--\\n&lt;/b&gt;if (window!= top)\\ntop.lo...</td>\n",
       "      <td>{u'totalSeasons': u'2', u'Plot': u'Follows the...</td>\n",
       "      <td>Aaron Stanford, Amanda Schull, Kirk Acevedo, B...</td>\n",
       "      <td>tt3148266</td>\n",
       "      <td>2 wins &amp; 2 nominations.</td>\n",
       "      <td>USA</td>\n",
       "      <td>NaN</td>\n",
       "      <td>Adventure, Drama, Mystery</td>\n",
       "      <td>English</td>\n",
       "      <td>...</td>\n",
       "      <td>TV-14</td>\n",
       "      <td>16 Jan 2015</td>\n",
       "      <td>42 min</td>\n",
       "      <td>Travis Fickett, Terry Matalas</td>\n",
       "      <td>2015–</td>\n",
       "      <td>7.6</td>\n",
       "      <td>21,688</td>\n",
       "      <td>[NULL, NULL]</td>\n",
       "      <td>NaN</td>\n",
       "      <td>NaN</td>\n",
       "    </tr>\n",
       "    <tr>\n",
       "      <th>4</th>\n",
       "      <td>12 Years a Slave</td>\n",
       "      <td>\\n\\r\\n\\r\\n\\r\\n                             12 ...</td>\n",
       "      <td>{u'Plot': u'In the antebellum United States, S...</td>\n",
       "      <td>Chiwetel Ejiofor, Dwight Henry, Dickie Gravois...</td>\n",
       "      <td>tt2024544</td>\n",
       "      <td>Won 3 Oscars. Another 234 wins &amp; 312 nominations.</td>\n",
       "      <td>USA, UK</td>\n",
       "      <td>Steve McQueen</td>\n",
       "      <td>Biography, Drama, History</td>\n",
       "      <td>English</td>\n",
       "      <td>...</td>\n",
       "      <td>R</td>\n",
       "      <td>08 Nov 2013</td>\n",
       "      <td>134 min</td>\n",
       "      <td>John Ridley (screenplay), Solomon Northup (bas...</td>\n",
       "      <td>2013</td>\n",
       "      <td>8.1</td>\n",
       "      <td>448,530</td>\n",
       "      <td>[20000000.0, 56667870.0]</td>\n",
       "      <td>20000000.0</td>\n",
       "      <td>56667870.0</td>\n",
       "    </tr>\n",
       "  </tbody>\n",
       "</table>\n",
       "<p>5 rows × 22 columns</p>\n",
       "</div>"
      ],
      "text/plain": [
       "                        title  \\\n",
       "0  10 Things I Hate About You   \n",
       "1                          12   \n",
       "2              12 and Holding   \n",
       "3                  12 Monkeys   \n",
       "4            12 Years a Slave   \n",
       "\n",
       "                                              script  \\\n",
       "0  \\n\\n\\n\\n<b><!--\\n</b>if (window!= top)\\ntop.lo...   \n",
       "1                          \\n\\n\\n  \\n  12 - Script\\n   \n",
       "2  \\n           \\n          \\n          \\n       ...   \n",
       "3  \\n\\n\\n\\n<b><!--\\n</b>if (window!= top)\\ntop.lo...   \n",
       "4  \\n\\r\\n\\r\\n\\r\\n                             12 ...   \n",
       "\n",
       "                                           IMDB_info  \\\n",
       "0  {u'Plot': u'A pretty, popular teenager can't g...   \n",
       "1  {u'Plot': u'Twelve jurors must decide the fate...   \n",
       "2  {u'Plot': u'After his twin brother is accident...   \n",
       "3  {u'totalSeasons': u'2', u'Plot': u'Follows the...   \n",
       "4  {u'Plot': u'In the antebellum United States, S...   \n",
       "\n",
       "                                              Actors     imdbID  \\\n",
       "0  Heath Ledger, Julia Stiles, Joseph Gordon-Levi...  tt0147800   \n",
       "1  Sergey Makovetskiy, Nikita Mikhalkov, Sergey G...  tt0488478   \n",
       "2  Conor Donovan, Jesse Camacho, Zoe Weizenbaum, ...  tt0417385   \n",
       "3  Aaron Stanford, Amanda Schull, Kirk Acevedo, B...  tt3148266   \n",
       "4  Chiwetel Ejiofor, Dwight Henry, Dickie Gravois...  tt2024544   \n",
       "\n",
       "                                              Awards  Country  \\\n",
       "0                           2 wins & 12 nominations.      USA   \n",
       "1  Nominated for 1 Oscar. Another 5 wins & 5 nomi...   Russia   \n",
       "2                                     5 nominations.      USA   \n",
       "3                            2 wins & 2 nominations.      USA   \n",
       "4  Won 3 Oscars. Another 234 wins & 312 nominations.  USA, UK   \n",
       "\n",
       "           Director                      Genre          Language     ...      \\\n",
       "0        Gil Junger     Comedy, Drama, Romance   English, French     ...       \n",
       "1  Nikita Mikhalkov     Crime, Drama, Thriller  Russian, Chechen     ...       \n",
       "2    Michael Cuesta                      Drama           English     ...       \n",
       "3               NaN  Adventure, Drama, Mystery           English     ...       \n",
       "4     Steve McQueen  Biography, Drama, History           English     ...       \n",
       "\n",
       "   Rated     Released  Runtime  \\\n",
       "0  PG-13  31 Mar 1999   97 min   \n",
       "1  PG-13  20 Sep 2007  159 min   \n",
       "2      R  07 Jul 2006   94 min   \n",
       "3  TV-14  16 Jan 2015   42 min   \n",
       "4      R  08 Nov 2013  134 min   \n",
       "\n",
       "                                              Writer   Year imdbRating  \\\n",
       "0                      Karen McCullah, Kirsten Smith   1999        7.2   \n",
       "1  Nikita Mikhalkov, Aleksandr Novototskiy-Vlasov...   2007        7.8   \n",
       "2                                   Anthony Cipriano   2005        7.6   \n",
       "3                      Travis Fickett, Terry Matalas  2015–        7.6   \n",
       "4  John Ridley (screenplay), Solomon Northup (bas...   2013        8.1   \n",
       "\n",
       "  imdbVotes                financials      Budget     Revenue  \n",
       "0   225,311  [16000000.0, 38176108.0]  16000000.0  38176108.0  \n",
       "1    11,741     [4000000.0, 125024.0]   4000000.0    125024.0  \n",
       "2     6,157       [400000.0, 95687.0]    400000.0     95687.0  \n",
       "3    21,688              [NULL, NULL]         NaN         NaN  \n",
       "4   448,530  [20000000.0, 56667870.0]  20000000.0  56667870.0  \n",
       "\n",
       "[5 rows x 22 columns]"
      ]
     },
     "execution_count": 5,
     "metadata": {},
     "output_type": "execute_result"
    }
   ],
   "source": [
    "movie_scripts.head()\n"
   ]
  },
  {
   "cell_type": "code",
   "execution_count": 6,
   "metadata": {
    "collapsed": true
   },
   "outputs": [],
   "source": [
    "import ast\n",
    "#Select only the movies that were found with the IMDB API\n",
    "movie_scripts = movie_scripts[movie_scripts.IMDB_info.apply(lambda x: ast.literal_eval(x['Response']))]\n"
   ]
  },
  {
   "cell_type": "code",
   "execution_count": 20,
   "metadata": {
    "collapsed": false
   },
   "outputs": [],
   "source": [
    "def awards(award):\n",
    "    try:\n",
    "        if 'Oscar' in award:\n",
    "            return 1\n",
    "        else:\n",
    "            return 0\n",
    "    except:\n",
    "        return 0\n",
    "movie_scripts.Awards = movie_scripts.Awards.apply(lambda x: awards(x)) \n",
    "\n",
    "\n",
    "def runtime(r):\n",
    "    try:\n",
    "        return int(r.replace('min','')) \n",
    "    except:\n",
    "        return np.NaN\n",
    "\n",
    "movie_scripts['Runtime'] = movie_scripts.Runtime.apply(lambda x: runtime(x))"
   ]
  },
  {
   "cell_type": "code",
   "execution_count": 8,
   "metadata": {
    "collapsed": false
   },
   "outputs": [
    {
     "data": {
      "text/plain": [
       "<matplotlib.text.Text at 0xc8fac18>"
      ]
     },
     "execution_count": 8,
     "metadata": {},
     "output_type": "execute_result"
    },
    {
     "data": {
      "image/png": "[encoded data removed]",
      "text/plain": [
       "<matplotlib.figure.Figure at 0xdd817b8>"
      ]
     },
     "metadata": {},
     "output_type": "display_data"
    }
   ],
   "source": [
    "movie_scripts['Profits'] = (movie_scripts.Revenue - movie_scripts.Budget)/1000000\n",
    "movie_scripts.Profits.hist(bins=20, color = '0.7')\n",
    "plt.title('Distribution of movie profit')\n",
    "plt.xlabel('M US$')\n",
    "plt.ylabel('Count')"
   ]
  },
  {
   "cell_type": "code",
   "execution_count": 53,
   "metadata": {
    "collapsed": false
   },
   "outputs": [
    {
     "data": {
      "text/html": [
       "<div>\n",
       "<table border=\"1\" class=\"dataframe\">\n",
       "  <thead>\n",
       "    <tr style=\"text-align: right;\">\n",
       "      <th></th>\n",
       "      <th>title</th>\n",
       "      <th>script</th>\n",
       "      <th>IMDB_info</th>\n",
       "      <th>Actors</th>\n",
       "      <th>imdbID</th>\n",
       "      <th>Awards</th>\n",
       "      <th>Country</th>\n",
       "      <th>Director</th>\n",
       "      <th>Genre</th>\n",
       "      <th>Language</th>\n",
       "      <th>...</th>\n",
       "      <th>financials</th>\n",
       "      <th>Budget</th>\n",
       "      <th>Revenue</th>\n",
       "      <th>sentiment</th>\n",
       "      <th>sentiment_avg</th>\n",
       "      <th>sentiment_stdev</th>\n",
       "      <th>Profits</th>\n",
       "      <th>primaryGenre</th>\n",
       "      <th>Star</th>\n",
       "      <th>uniqueDirectors</th>\n",
       "    </tr>\n",
       "  </thead>\n",
       "  <tbody>\n",
       "    <tr>\n",
       "      <th>0</th>\n",
       "      <td>10 Things I Hate About You</td>\n",
       "      <td>\\n\\n\\n\\n&lt;b&gt;&lt;!--\\n&lt;/b&gt;if (window!= top)\\ntop.lo...</td>\n",
       "      <td>{u'Plot': u'A pretty, popular teenager can't g...</td>\n",
       "      <td>Heath Ledger, Julia Stiles, Joseph Gordon-Levi...</td>\n",
       "      <td>tt0147800</td>\n",
       "      <td>0</td>\n",
       "      <td>USA</td>\n",
       "      <td>Gil Junger</td>\n",
       "      <td>Comedy, Drama, Romance</td>\n",
       "      <td>English, French</td>\n",
       "      <td>...</td>\n",
       "      <td>[16000000.0, 38176108.0]</td>\n",
       "      <td>16000000.0</td>\n",
       "      <td>38176108.0</td>\n",
       "      <td>[0.11383952936, 0.105862606283, 0.081115874257...</td>\n",
       "      <td>0.050608</td>\n",
       "      <td>0.060887</td>\n",
       "      <td>22.176108</td>\n",
       "      <td>Comedy</td>\n",
       "      <td>Heath Ledger</td>\n",
       "      <td>Gil Junger</td>\n",
       "    </tr>\n",
       "    <tr>\n",
       "      <th>2</th>\n",
       "      <td>12 and Holding</td>\n",
       "      <td>\\n           \\n          \\n          \\n       ...</td>\n",
       "      <td>{u'Plot': u'After his twin brother is accident...</td>\n",
       "      <td>Conor Donovan, Jesse Camacho, Zoe Weizenbaum, ...</td>\n",
       "      <td>tt0417385</td>\n",
       "      <td>0</td>\n",
       "      <td>USA</td>\n",
       "      <td>Michael Cuesta</td>\n",
       "      <td>Drama</td>\n",
       "      <td>English</td>\n",
       "      <td>...</td>\n",
       "      <td>[400000.0, 95687.0]</td>\n",
       "      <td>400000.0</td>\n",
       "      <td>95687.0</td>\n",
       "      <td>[0.0166268533054, -0.00886338353005, -0.051273...</td>\n",
       "      <td>0.012207</td>\n",
       "      <td>0.075825</td>\n",
       "      <td>-0.304313</td>\n",
       "      <td>Drama</td>\n",
       "      <td>Conor Donovan</td>\n",
       "      <td>Michael Cuesta</td>\n",
       "    </tr>\n",
       "    <tr>\n",
       "      <th>3</th>\n",
       "      <td>12 Monkeys</td>\n",
       "      <td>\\n\\n\\n\\n&lt;b&gt;&lt;!--\\n&lt;/b&gt;if (window!= top)\\ntop.lo...</td>\n",
       "      <td>{u'totalSeasons': u'2', u'Plot': u'Follows the...</td>\n",
       "      <td>Aaron Stanford, Amanda Schull, Kirk Acevedo, B...</td>\n",
       "      <td>tt3148266</td>\n",
       "      <td>0</td>\n",
       "      <td>USA</td>\n",
       "      <td>NaN</td>\n",
       "      <td>Adventure, Drama, Mystery</td>\n",
       "      <td>English</td>\n",
       "      <td>...</td>\n",
       "      <td>[NULL, NULL]</td>\n",
       "      <td>NaN</td>\n",
       "      <td>NaN</td>\n",
       "      <td>[0.0139348074864, 0.010821345948, 0.0288479275...</td>\n",
       "      <td>-0.002714</td>\n",
       "      <td>0.053064</td>\n",
       "      <td>NaN</td>\n",
       "      <td>Adventure</td>\n",
       "      <td>Aaron Stanford</td>\n",
       "      <td>NaN</td>\n",
       "    </tr>\n",
       "    <tr>\n",
       "      <th>4</th>\n",
       "      <td>12 Years a Slave</td>\n",
       "      <td>\\n\\r\\n\\r\\n\\r\\n                             12 ...</td>\n",
       "      <td>{u'Plot': u'In the antebellum United States, S...</td>\n",
       "      <td>Chiwetel Ejiofor, Dwight Henry, Dickie Gravois...</td>\n",
       "      <td>tt2024544</td>\n",
       "      <td>1</td>\n",
       "      <td>USA, UK</td>\n",
       "      <td>Steve McQueen</td>\n",
       "      <td>Biography, Drama, History</td>\n",
       "      <td>English</td>\n",
       "      <td>...</td>\n",
       "      <td>[20000000.0, 56667870.0]</td>\n",
       "      <td>20000000.0</td>\n",
       "      <td>56667870.0</td>\n",
       "      <td>[0.144452514765, 0.152337532525, 0.14795544635...</td>\n",
       "      <td>0.049629</td>\n",
       "      <td>0.064201</td>\n",
       "      <td>36.667870</td>\n",
       "      <td>Biography</td>\n",
       "      <td>Chiwetel Ejiofor</td>\n",
       "      <td>Steve McQueen</td>\n",
       "    </tr>\n",
       "    <tr>\n",
       "      <th>5</th>\n",
       "      <td>127 Hours</td>\n",
       "      <td>\\n\\r\\n\\r\\n \\r\\n                               ...</td>\n",
       "      <td>{u'Plot': u'An adventurous mountain climber be...</td>\n",
       "      <td>James Franco, Kate Mara, Amber Tamblyn, Sean Bott</td>\n",
       "      <td>tt1542344</td>\n",
       "      <td>1</td>\n",
       "      <td>USA, UK</td>\n",
       "      <td>Danny Boyle</td>\n",
       "      <td>Adventure, Biography, Drama</td>\n",
       "      <td>English, Italian</td>\n",
       "      <td>...</td>\n",
       "      <td>[18000000.0, 18329466.0]</td>\n",
       "      <td>18000000.0</td>\n",
       "      <td>18329466.0</td>\n",
       "      <td>[-0.00192164832522, -0.00922014348086, -0.0075...</td>\n",
       "      <td>0.052450</td>\n",
       "      <td>0.061374</td>\n",
       "      <td>0.329466</td>\n",
       "      <td>Adventure</td>\n",
       "      <td>James Franco</td>\n",
       "      <td>Danny Boyle</td>\n",
       "    </tr>\n",
       "  </tbody>\n",
       "</table>\n",
       "<p>5 rows × 29 columns</p>\n",
       "</div>"
      ],
      "text/plain": [
       "                        title  \\\n",
       "0  10 Things I Hate About You   \n",
       "2              12 and Holding   \n",
       "3                  12 Monkeys   \n",
       "4            12 Years a Slave   \n",
       "5                   127 Hours   \n",
       "\n",
       "                                              script  \\\n",
       "0  \\n\\n\\n\\n<b><!--\\n</b>if (window!= top)\\ntop.lo...   \n",
       "2  \\n           \\n          \\n          \\n       ...   \n",
       "3  \\n\\n\\n\\n<b><!--\\n</b>if (window!= top)\\ntop.lo...   \n",
       "4  \\n\\r\\n\\r\\n\\r\\n                             12 ...   \n",
       "5  \\n\\r\\n\\r\\n \\r\\n                               ...   \n",
       "\n",
       "                                           IMDB_info  \\\n",
       "0  {u'Plot': u'A pretty, popular teenager can't g...   \n",
       "2  {u'Plot': u'After his twin brother is accident...   \n",
       "3  {u'totalSeasons': u'2', u'Plot': u'Follows the...   \n",
       "4  {u'Plot': u'In the antebellum United States, S...   \n",
       "5  {u'Plot': u'An adventurous mountain climber be...   \n",
       "\n",
       "                                              Actors     imdbID  Awards  \\\n",
       "0  Heath Ledger, Julia Stiles, Joseph Gordon-Levi...  tt0147800       0   \n",
       "2  Conor Donovan, Jesse Camacho, Zoe Weizenbaum, ...  tt0417385       0   \n",
       "3  Aaron Stanford, Amanda Schull, Kirk Acevedo, B...  tt3148266       0   \n",
       "4  Chiwetel Ejiofor, Dwight Henry, Dickie Gravois...  tt2024544       1   \n",
       "5  James Franco, Kate Mara, Amber Tamblyn, Sean Bott  tt1542344       1   \n",
       "\n",
       "   Country        Director                        Genre          Language  \\\n",
       "0      USA      Gil Junger       Comedy, Drama, Romance   English, French   \n",
       "2      USA  Michael Cuesta                        Drama           English   \n",
       "3      USA             NaN    Adventure, Drama, Mystery           English   \n",
       "4  USA, UK   Steve McQueen    Biography, Drama, History           English   \n",
       "5  USA, UK     Danny Boyle  Adventure, Biography, Drama  English, Italian   \n",
       "\n",
       "        ...                      financials      Budget     Revenue  \\\n",
       "0       ...        [16000000.0, 38176108.0]  16000000.0  38176108.0   \n",
       "2       ...             [400000.0, 95687.0]    400000.0     95687.0   \n",
       "3       ...                    [NULL, NULL]         NaN         NaN   \n",
       "4       ...        [20000000.0, 56667870.0]  20000000.0  56667870.0   \n",
       "5       ...        [18000000.0, 18329466.0]  18000000.0  18329466.0   \n",
       "\n",
       "                                           sentiment sentiment_avg  \\\n",
       "0  [0.11383952936, 0.105862606283, 0.081115874257...      0.050608   \n",
       "2  [0.0166268533054, -0.00886338353005, -0.051273...      0.012207   \n",
       "3  [0.0139348074864, 0.010821345948, 0.0288479275...     -0.002714   \n",
       "4  [0.144452514765, 0.152337532525, 0.14795544635...      0.049629   \n",
       "5  [-0.00192164832522, -0.00922014348086, -0.0075...      0.052450   \n",
       "\n",
       "  sentiment_stdev    Profits  primaryGenre              Star uniqueDirectors  \n",
       "0        0.060887  22.176108        Comedy      Heath Ledger      Gil Junger  \n",
       "2        0.075825  -0.304313         Drama     Conor Donovan  Michael Cuesta  \n",
       "3        0.053064        NaN     Adventure    Aaron Stanford             NaN  \n",
       "4        0.064201  36.667870     Biography  Chiwetel Ejiofor   Steve McQueen  \n",
       "5        0.061374   0.329466     Adventure      James Franco     Danny Boyle  \n",
       "\n",
       "[5 rows x 29 columns]"
      ]
     },
     "execution_count": 53,
     "metadata": {},
     "output_type": "execute_result"
    }
   ],
   "source": [
    "movie_scripts.head()"
   ]
  },
  {
   "cell_type": "code",
   "execution_count": 9,
   "metadata": {
    "collapsed": false
   },
   "outputs": [
    {
     "data": {
      "text/plain": [
       "<matplotlib.text.Text at 0xdf654a8>"
      ]
     },
     "execution_count": 9,
     "metadata": {},
     "output_type": "execute_result"
    },
    {
     "data": {
      "image/png": "[encoded data removed]",
      "text/plain": [
       "<matplotlib.figure.Figure at 0xdd81128>"
      ]
     },
     "metadata": {},
     "output_type": "display_data"
    }
   ],
   "source": [
    "movie_scripts.imdbRating.hist(color ='0.7')\n",
    "plt.title('Distribution of IMDB ratings')\n",
    "plt.xlabel('Rating')\n",
    "plt.ylabel('Count')"
   ]
  },
  {
   "cell_type": "code",
   "execution_count": 12,
   "metadata": {
    "collapsed": false
   },
   "outputs": [
    {
     "data": {
      "text/plain": [
       "<matplotlib.text.Text at 0x2b788748>"
      ]
     },
     "execution_count": 12,
     "metadata": {},
     "output_type": "execute_result"
    },
    {
     "data": {
      "image/png": "[encoded data removed]",
      "text/plain": [
       "<matplotlib.figure.Figure at 0x2b628438>"
      ]
     },
     "metadata": {},
     "output_type": "display_data"
    }
   ],
   "source": [
    "sns.pairplot(movie_scripts, x_vars=['imdbRating'], y_vars='Profits', size=6, aspect=1, kind='reg')\n",
    "plt.title('Profit versus rating')\n",
    "plt.ylabel('Profit (M US$)')\n",
    "plt.xlabel('IMDB Rating')"
   ]
  },
  {
   "cell_type": "code",
   "execution_count": null,
   "metadata": {
    "collapsed": true
   },
   "outputs": [],
   "source": []
  },
  {
   "cell_type": "code",
   "execution_count": 14,
   "metadata": {
    "collapsed": false
   },
   "outputs": [
    {
     "data": {
      "text/plain": [
       "array([u'Comedy', u'Crime', u'Drama', u'Adventure', u'Biography',\n",
       "       u'Action', u'Short', u'Mystery', u'Documentary', u'Animation',\n",
       "       u'Horror', u'Sci-Fi', u'Family', u'Game-Show', nan, u'Fantasy',\n",
       "       u'Adult', u'Thriller', u'Romance'], dtype=object)"
      ]
     },
     "execution_count": 14,
     "metadata": {},
     "output_type": "execute_result"
    }
   ],
   "source": [
    "movie_scripts['primaryGenre'] = movie_scripts[movie_scripts.Genre.notnull()].Genre.apply(lambda x: x.split(',')[0])\n",
    "movie_scripts['primaryGenre'].unique()"
   ]
  },
  {
   "cell_type": "code",
   "execution_count": 33,
   "metadata": {
    "collapsed": false
   },
   "outputs": [
    {
     "data": {
      "text/plain": [
       "(0, 450000000.0)"
      ]
     },
     "execution_count": 33,
     "metadata": {},
     "output_type": "execute_result"
    },
    {
     "data": {
      "image/png": "[encoded data removed]",
      "text/plain": [
       "<matplotlib.figure.Figure at 0x2e43fa20>"
      ]
     },
     "metadata": {},
     "output_type": "display_data"
    }
   ],
   "source": [
    "ax1 = movie_scripts.boxplot(column='Revenue', by='primaryGenre', rot = 90, figsize=(15,10))\n",
    "ax1.set_ylim(0,0.45*1e9)\n"
   ]
  },
  {
   "cell_type": "code",
   "execution_count": 16,
   "metadata": {
    "collapsed": false
   },
   "outputs": [
    {
     "data": {
      "text/plain": [
       "(3, 10)"
      ]
     },
     "execution_count": 16,
     "metadata": {},
     "output_type": "execute_result"
    },
    {
     "data": {
      "image/png": "[encoded data removed]",
      "text/plain": [
       "<matplotlib.figure.Figure at 0x2c117198>"
      ]
     },
     "metadata": {},
     "output_type": "display_data"
    }
   ],
   "source": [
    "ax1 = movie_scripts.boxplot(column='imdbRating', by='primaryGenre', rot = 90, figsize=(8,8))\n",
    "ax1.set_ylim(3,10)"
   ]
  },
  {
   "cell_type": "code",
   "execution_count": 18,
   "metadata": {
    "collapsed": false
   },
   "outputs": [
    {
     "data": {
      "text/plain": [
       "array([u'Heath Ledger', u'Conor Donovan', u'Aaron Stanford',\n",
       "       u'Chiwetel Ejiofor', u'James Franco', u'G\\xe9rard Depardieu',\n",
       "       u'Robert De Niro', u'Zac Efron', u'Danny Romo', u'Keir Dullea',\n",
       "       u'John Cusack', u'Edward Norton', u'Jesse Eisenberg',\n",
       "       u'Chadwick Boseman', u'Ray Winstone', u'Oliver Ackland',\n",
       "       u'Joseph Gordon-Levitt', u'Nicolas Cage', u'Tom Cruise',\n",
       "       u'Michael Stuhlbarg', u'Clint Eastwood', u'Jim Carrey',\n",
       "       u'Nick Nolte', u'Olivia Schaperjohn', u'Christina Ricci',\n",
       "       u'Jane Fonda', u'Harrison Ford', u'Scott Weinger', u'Will Smith',\n",
       "       u'Tom Skerritt', u'Sigourney Weaver', u'James Caan', nan,\n",
       "       u'Bette Davis', u'Sandra Bullock', u'Sean Penn', u'Dustin Hoffman',\n",
       "       u'Billy Crudup', u'F. Murray Abraham', u'Hilary Swank',\n",
       "       u'Kevin Spacey', u'Denzel Washington', u'Richard Dreyfuss',\n",
       "       u'Christian Bale', u'Walter Huston', u'Colin Farrell',\n",
       "       u'Jason Biggs', u'Chris Ambrose', u'Joe Belcher',\n",
       "       u'Jean-Louis Trintignant', u'Carey Mulligan', u'Meg Ryan',\n",
       "       u'Jennifer Lopez', u'Tom Hanks', u'Matthew Macfadyen',\n",
       "       u'Woody Allen', u'Rhys Ifans', u'Ryan Phillippe', u'Brad Renfro',\n",
       "       u'Richard Gere', u'Megan Ward', u'Rutger Hauer', u'Ben Affleck',\n",
       "       u'Bruce Willis', u'Bruce Campbell', u'Cary Grant', u'Russell Brand',\n",
       "       u'Tom Grut', u'Jack Nicholson', u'Sylvester Stallone',\n",
       "       u'Val Kilmer', u'Meryl Streep', u'Mike Myers', u'Kaley Cuoco',\n",
       "       u'Sam Worthington', u'Honor Blackman', u'Brad Pitt',\n",
       "       u'Michael J. Fox', u'Kurt Russell', u'Lisa Boyle', u'Matt Dillon',\n",
       "       u'Spencer Tracy', u'Jennifer Rubin', u'Harvey Keitel',\n",
       "       u'Billy Bob Thornton', u'Cameron Diaz', u'Martin Sheen',\n",
       "       u'Damon Wayans', u\"Ryan O'Neal\", u'John Turturro', u'John Travolta',\n",
       "       u'Michael Douglas', u'Jeffrey Wright', u'Michael Keaton',\n",
       "       u'Clancy Brown', u'Quvenzhan\\xe9 Wallis', u'Mike Judge',\n",
       "       u'Ewan McGregor', u'Peter Sellers', u'Yada Beener',\n",
       "       u'Nate Prochnau', u'Virna Lisi', u'Nicole Kidman',\n",
       "       u'Samuel L. Jackson', u'Natalie Portman', u'Wesley Snipes',\n",
       "       u'Seong-il An', u'Ryan Gosling', u'Isabella Rossellini',\n",
       "       u'Phoebe Cates', u'William Hurt', u'Madonna', u'Salman Khan',\n",
       "       u'Warren Beatty', u'Luis Guzm\\xe1n', u'Luke Wilson',\n",
       "       u'Jennifer Tilly', u'Reef Karim', u'James Karen', u'Scott Weil',\n",
       "       u'James Robinson', u'Jonathan Pryce', u'Frank Krueger',\n",
       "       u'Dennis Christopher', u'Kristen Wiig', u'Pen\\xe9lope Cruz',\n",
       "       u'Sarah Michelle Gellar', u'Kevin Costner', u'Ryan Reynolds',\n",
       "       u'Cher', u'George Clooney', u'Jotham Annan', u'Allie Mickelson',\n",
       "       u'Sissy Spacek', u'Larry the Cable Guy', u'Ren\\xe9e Zellweger',\n",
       "       u'Paul Sanchez', u'Leonardo DiCaprio', u'Halle Berry', u'Ed Helms',\n",
       "       u'Andrea Del Boca', u'Caroline Aaron', u'Angelina Jolie',\n",
       "       u'Jason Statham', u'Ethan Suplee', u'Jeff Daniels',\n",
       "       u'Brittany Murphy', u'Jessica Blankenship', u'Dane DeHaan',\n",
       "       u'Erykah Badu', u'Antonella Attili', u'John C. Reilly',\n",
       "       u'Joseph Cotten', u'Patrick Swayze', u\"Brian O'Halloran\",\n",
       "       u'Alicia Silverstone', u'Tommy Lee Jones', u'Chuck Norris',\n",
       "       u'Jude Law', u'Arnold Schwarzenegger', u'Dick Clark',\n",
       "       u'Edward Burns', u'Keanu Reeves', u'Dakota Fanning',\n",
       "       u'Gerard Butler', u'Sasa Anocic', u'Steve Carell',\n",
       "       u'Reiko Aylesworth', u'Yun-Fat Chow', u'Clive Owen',\n",
       "       u'Marianne Page', u'Forest Whitaker', u'Nicole de Boer',\n",
       "       u'Rufus Sewell', u'Liam Neeson', u'Sarah Polley', u'Lori Cardille',\n",
       "       u'Robin Williams', u'Lira Angel', u'Treat Williams',\n",
       "       u'Daniel Craig', u'Giuseppe Andrews', u'Alice Krige',\n",
       "       u'Steve Guttenberg', u'Shia LaBeouf', u'Jamie Foxx',\n",
       "       u'Danny Aiello', u'Penelope Allen', u'Bud Cort', u'Al Pacino',\n",
       "       u'Robby Krieger', u'Fred MacMurray', u'Alison Lohman',\n",
       "       u'Peter MacNicol', u'Kirsten Dunst', u'Bill Fagerbakke',\n",
       "       u'Francesca Annis', u'Dee Wallace', u'Josef Altin', u'Emma Stone',\n",
       "       u'Milo Chan', u'Johnny Depp', u'David Arquette', u'Carlos Gallardo',\n",
       "       u'Matthew Broderick', u'Jordi Moll\\xe0', u'Sean Connery',\n",
       "       u'Tim Robbins', u'Julia Roberts', u'Laurence Fishburne',\n",
       "       u'Jane Levy', u'Jennifer Jason Leigh', u'Jason Bateman',\n",
       "       u'McKenzie Westmore', u'Naomi Watts', u'Ioan Gruffudd',\n",
       "       u'Rick Edwards', u'William H. Macy', u'Armand Assante',\n",
       "       u'Balthazar Getty', u'Wayne Archer', u'Devon Sawa', u'Ali Larter',\n",
       "       u'Albert Brooks', u'Sam J. Jones', u'Chevy Chase',\n",
       "       u'Nadine Velazquez', u'Edgar L. Davenport', u'Sammi Davis',\n",
       "       u'Anthony Hopkins', u'Jessica Lange', u'Colin Clive',\n",
       "       u'Brooke Shields', u'Robert Englund', u'Dennis Quaid',\n",
       "       u'Betsy Palmer', u'Anton Yelchin', u'Burt Lancaster',\n",
       "       u'Kristen Bell', u'Melissa Leo', u'Michael B. Jordan',\n",
       "       u'Adam Sandler', u'Demi Moore', u'Adewale Akinnuoye-Agbaje',\n",
       "       u'Ben Kingsley', u'Jim Belushi', u'Zach Braff', u'Ethan Hawke',\n",
       "       u'Robert Duvall', u'Matt Long', u'Gabriel Byrne', u'Thora Birch',\n",
       "       u'Bill Murray', u'Dan Aykroyd', u'Emily Perkins', u'Russell Crowe',\n",
       "       u'N.N. Pillai', u'David Chase', u'Ian McKellen',\n",
       "       u'Aaron Taylor-Johnson', u'H.B. Halicki', u'Matt Damon',\n",
       "       u'Greta Garbo', u'Jamie McShane', u'Hoyt Axton', u'Zach Galligan',\n",
       "       u'Jonny Lee Miller', u'Owen Wilson', u'Donald Pleasence',\n",
       "       u'Saoirse Ronan', u'Barbara Hershey', u'Rod Steiger',\n",
       "       u'Carlos Alazraqui', u'Morgan Freeman', u'Steven Seagal',\n",
       "       u'Morgan Lily', u'Melanie Lynskey', u'Don Francks', u'Gene Hackman',\n",
       "       u'Clare Higgins', u'Ron Perlman', u'Andrew Robinson',\n",
       "       u'Kari Wuhrer', u'Christopher Lambert', u'Adrian Paul',\n",
       "       u'Elisabeth Shue', u'Danny Glover', u'Xolani Mali', u'Sid Haig',\n",
       "       u'Kelan Pannell', u'Jay Baruchel', u'Patricia Arquette',\n",
       "       u'Alex Pettyfer', u'Sarah Butler', u'Jennifer Love Hewitt',\n",
       "       u'Tom Wilkinson', u'Peter Capaldi', u'Patrick Wilson',\n",
       "       u'Ellen Burstyn', u'Emile Hirsch', u'Joaquin Phoenix',\n",
       "       u'Clark Gable', u'James Stewart', u'Rebeka Pinon Cassidy',\n",
       "       u'Pam Grier', u'Mia Wasikowska', u'Kane Hodder', u'Roy Scheider',\n",
       "       u'Jason Mewes', u'Megan Fox', u'Bob Mills', u'Sally Kirkland',\n",
       "       u'Edward Furlong', u'Gabriela Oltean', u'Ellen Page', u'Sam Neill',\n",
       "       u'Jeremy Irons', u'Eric Stoltz', u'Seth Rogen', u'Jack Black',\n",
       "       u'Marcia Gay Harden', u'Bill Pullman', u'Simon Baker',\n",
       "       u'Marlon Brando', u'Reese Witherspoon', u'Paul Anderson',\n",
       "       u'Paul Bettany', u'Richard Jordan', u'Aleksey Serebryakov',\n",
       "       u'Eddie Murphy', u'Kevin Kline', u'Suraj Sharma', u'Willem Dafoe',\n",
       "       u'Bradley Cooper', u'Daniel Day-Lewis', u'John Patrick Amedori',\n",
       "       u'Jason Flemyng', u'Michael York', u'Stephen Mendillo',\n",
       "       u'John Rhys-Davies', u'Bruce Allpress', u'Ronald Colman',\n",
       "       u'Scarlett Johansson', u'Danny Trejo', u'Jon Favreau', u'Pat Healy',\n",
       "       u'Tom Berenger', u'Jamie Kennedy', u'William Petersen',\n",
       "       u'Anna Paquin', u'Zane Pais', u'Ashley Barnhill', u'Bob Marley',\n",
       "       u'Elizabeth Olsen', u'Esther Minciotti', u'Julie Andrews',\n",
       "       u'Nathan Baesel', u'Redford White', u'Tanveer K. Atwal',\n",
       "       u'Chris Connelly', u'Mark Wahlberg', u'Gary Cooper',\n",
       "       u'Will Ferrell', u'Guy Pearce', u'Brad Davis', u'Karan Ashley',\n",
       "       u'Mira Sorvino', u'Alec Baldwin', u'Kiefer Sutherland',\n",
       "       u'Travis Neal', u'Gary Sinise', u'Brendan Fraser', u'Selena Gomez',\n",
       "       u'Sam Rockwell', u'Peter Noone', u'Matthew McConaughey',\n",
       "       u'Ming-Na Wen', u'Loren Dean', u'K.C. Clyde', u'Marina Zudina',\n",
       "       u'Helen Stenborg', u'Michelle Williams', u'Ben Stiller',\n",
       "       u'Jon Heder', u'Connie Britton', u'Drew Barrymore', u'Mark Rendall',\n",
       "       u'Ashley Olsen', u'Ice Cube', u'Craig Sheffer', u'Rain',\n",
       "       u'Ron Livingston', u'Charlton Heston', u'Michael Berryman',\n",
       "       u'Donald Sutherland', u'Criswell', u'Vera Farmiga', u'Jodie Foster',\n",
       "       u'Carl Rice', u'Kodi Smit-McPhee', u'Karlheinz B\\xf6hm',\n",
       "       u'Kathleen Turner', u'Dougray Scott', u'Dale Midkiff',\n",
       "       u'Sean Gullette', u'Brittany Morrill', u'Keira Knightley',\n",
       "       u'Vin Diesel', u'Mark Bomback', u'Loretta Young', u'Tobey Maguire',\n",
       "       u'Veronica Taylor', u'Jennifer Beals', u'Kel Mitchell',\n",
       "       u'Jennifer Ehle', u'Brittany Snow', u'Noomi Rapace',\n",
       "       u'Anthony Perkins', u'Tim Roth', u'Stephen Dorff',\n",
       "       u'Lynsey De Paul', u'Sebastian Stan', u'Laura Dern', u'James Dean',\n",
       "       u'Amanda Seyfried', u'Caitlyn Rund', u'Harry Dean Stanton',\n",
       "       u'Ryan McCluskey', u'Kate Winslet', u'Nanako Matsushima',\n",
       "       u'Chris Pine', u'Andy Serkis', u'Liev Schreiber', u'Stacie Bradly',\n",
       "       u'Joel Kinnaman', u'Kurt Angle', u'Monique van de Ven',\n",
       "       u'Christian E. Christiansen', u'Robert Sterling',\n",
       "       u'Chris Hemsworth', u'Ken Leung', u'Jackie Chan',\n",
       "       u'Jason Schwartzman', u'Marion Cotillard', u'Julia Stiles',\n",
       "       u'Emma Thompson', u'Leigh Whannell', u'Antony Acker',\n",
       "       u'Michael Cera', u'Jada Pinkett Smith', u'James Fleet',\n",
       "       u'Nathan Fillion', u'Sarah Jessica Parker', u'James Spader',\n",
       "       u'Azura Skye', u'John Malkovich', u'Geoffrey Rush', u'Kerry Fox',\n",
       "       u'Michael Fassbender', u'Robert Downey Jr.', u'Riz Ahmed',\n",
       "       u'Paul Hampton', u'Paul Giamatti', u'Mel Gibson', u'Gary Busey',\n",
       "       u'Ana Luiza Bergman', u'Bridget Fonda', u'Whoopi Goldberg',\n",
       "       u'Stockard Channing', u'Don Thompson', u'Dev Patel',\n",
       "       u'Benicio Del Toro', u'Jo Marr', u'Kristen Stewart',\n",
       "       u'Jake Gyllenhaal', u'Trey Parker', u'Mark Alfred', u'Tia Texada',\n",
       "       u'Emilio Estevez', u'William Shatner', u'Patrick Stewart',\n",
       "       u'Jeff Bridges', u'Casper Van Dien', u'Michael Higgins',\n",
       "       u'Dick Powell', u'Zachary David Cope', u'Selma Blair',\n",
       "       u'Farley Granger', u'Jose Rijo', u'Radha Mitchell',\n",
       "       u'Victoria Ullmann', u'Amy Adams', u'Joel Courtney', u'Jonah Hill',\n",
       "       u'Brandon Gaines', u'Chyler Leigh', u'Aaron Eckhart',\n",
       "       u'Philip Seymour Hoffman', u'Kayvan Novak', u'Michael Shannon',\n",
       "       u'John Wayne', u'Gemma Arterton', u'Diahnne Abbott', u'Emily Bergl',\n",
       "       u'Laurent Schilling', u'Laura Regan', u'Mildred Manning',\n",
       "       u'Shawn Driscoll', u'Paul Rudd', u'Jonathan Biggins',\n",
       "       u'Brady Corbet', u'Tom Sizemore', u'Josh Randall', u'Mark Strong',\n",
       "       u'Chris Evans', u'Paul Butler', u'Pierce Brosnan', u'Norman Alden',\n",
       "       u'Kevin Bacon', u'Christoph Waltz', u'Jeff Kahn',\n",
       "       u'Christian Slater', u'Michael Friedman', u'Kyle MacLachlan',\n",
       "       u'Edward Asner', u'Stephanie Fowler Adams', u'Michael Bowen',\n",
       "       u'Charlie Sheen', u'Richard Stratton', u'Ben Burtt',\n",
       "       u'James McAvoy', u'Jeremy Irvine', u'Kenneth Branagh',\n",
       "       u'Joel Edgerton', u'Malin Akerman', u'Michelle Pfeiffer',\n",
       "       u'Camilla Belle', u'Billy Crystal', u'Tim Allen', u\"Serah D'Laine\",\n",
       "       u'Emily Blunt', u'Alice Smith', u'Cory McCloskey', u'Hugh Jackman',\n",
       "       u'Laura Linney', u'Jason Clarke', u'Taylor Handley'], dtype=object)"
      ]
     },
     "execution_count": 18,
     "metadata": {},
     "output_type": "execute_result"
    }
   ],
   "source": [
    "movie_scripts['Star'] = movie_scripts[movie_scripts.Actors.notnull()].Actors.apply(lambda x: x.split(',')[0])\n",
    "movie_scripts['Star'].unique()"
   ]
  },
  {
   "cell_type": "code",
   "execution_count": 19,
   "metadata": {
    "collapsed": false
   },
   "outputs": [
    {
     "data": {
      "text/plain": [
       "<matplotlib.axes._subplots.AxesSubplot at 0x2d3567f0>"
      ]
     },
     "execution_count": 19,
     "metadata": {},
     "output_type": "execute_result"
    },
    {
     "data": {
      "image/png": "[encoded data removed]",
      "text/plain": [
       "<matplotlib.figure.Figure at 0x2d3793c8>"
      ]
     },
     "metadata": {},
     "output_type": "display_data"
    }
   ],
   "source": [
    "movie_scripts[movie_scripts.Revenue.notnull()].groupby('Star').Revenue.mean().sort_values(ascending = False).head(10).plot(kind='bar', title='Average Revenue', color = '0.7')"
   ]
  },
  {
   "cell_type": "code",
   "execution_count": 20,
   "metadata": {
    "collapsed": false
   },
   "outputs": [
    {
     "data": {
      "text/plain": [
       "<matplotlib.axes._subplots.AxesSubplot at 0x2d3ade48>"
      ]
     },
     "execution_count": 20,
     "metadata": {},
     "output_type": "execute_result"
    },
    {
     "data": {
      "image/png": "[encoded data removed]",
      "text/plain": [
       "<matplotlib.figure.Figure at 0x2c5356d8>"
      ]
     },
     "metadata": {},
     "output_type": "display_data"
    }
   ],
   "source": [
    "movie_scripts[movie_scripts.Revenue.notnull()].groupby('Star').Revenue.mean().sort_values(ascending = True).head(10).plot(kind='bar', title='Average Revenue', color = '0.7')"
   ]
  },
  {
   "cell_type": "code",
   "execution_count": 21,
   "metadata": {
    "collapsed": false
   },
   "outputs": [
    {
     "data": {
      "text/plain": [
       "<matplotlib.axes._subplots.AxesSubplot at 0x2cdbec18>"
      ]
     },
     "execution_count": 21,
     "metadata": {},
     "output_type": "execute_result"
    },
    {
     "data": {
      "image/png": "[encoded data removed]",
      "text/plain": [
       "<matplotlib.figure.Figure at 0x2c929dd8>"
      ]
     },
     "metadata": {},
     "output_type": "display_data"
    }
   ],
   "source": [
    "movie_scripts['uniqueDirectors'] = movie_scripts[movie_scripts.Director.notnull()].Director.apply(lambda x: x.split(',')[0])\n",
    "movie_scripts['uniqueDirectors'].unique()\n",
    "movie_scripts[movie_scripts.imdbRating.notnull()].groupby('uniqueDirectors').imdbRating.mean().sort_values(ascending = False).head(10).plot(kind='bar', title='Average Rating', color = '0.7')"
   ]
  },
  {
   "cell_type": "code",
   "execution_count": 22,
   "metadata": {
    "collapsed": false
   },
   "outputs": [
    {
     "data": {
      "text/plain": [
       "<matplotlib.axes._subplots.AxesSubplot at 0x2c897f60>"
      ]
     },
     "execution_count": 22,
     "metadata": {},
     "output_type": "execute_result"
    },
    {
     "data": {
      "image/png": "[encoded data removed]",
      "text/plain": [
       "<matplotlib.figure.Figure at 0x2c8af438>"
      ]
     },
     "metadata": {},
     "output_type": "display_data"
    }
   ],
   "source": [
    "movie_scripts[movie_scripts.imdbRating.notnull()].groupby('uniqueDirectors').imdbRating.mean().sort_values(ascending = True).head(10).plot(kind='bar', title='Average Rating', color = '0.7')"
   ]
  },
  {
   "cell_type": "code",
   "execution_count": 23,
   "metadata": {
    "collapsed": false
   },
   "outputs": [
    {
     "data": {
      "text/plain": [
       "<matplotlib.axes._subplots.AxesSubplot at 0x2d81c320>"
      ]
     },
     "execution_count": 23,
     "metadata": {},
     "output_type": "execute_result"
    },
    {
     "data": {
      "image/png": "[encoded data removed]",
      "text/plain": [
       "<matplotlib.figure.Figure at 0x2d82b898>"
      ]
     },
     "metadata": {},
     "output_type": "display_data"
    }
   ],
   "source": [
    "movie_scripts[movie_scripts.Awards.notnull()].groupby('uniqueDirectors').Awards.sum().sort_values(ascending = False).head(10).plot(kind='bar', title='Oscar Nominations', color = '0.7')"
   ]
  },
  {
   "cell_type": "code",
   "execution_count": 24,
   "metadata": {
    "collapsed": false
   },
   "outputs": [
    {
     "data": {
      "text/plain": [
       "<matplotlib.axes._subplots.AxesSubplot at 0x2d8c7f28>"
      ]
     },
     "execution_count": 24,
     "metadata": {},
     "output_type": "execute_result"
    },
    {
     "data": {
      "image/png": "[encoded data removed]",
      "text/plain": [
       "<matplotlib.figure.Figure at 0x2c8eb9b0>"
      ]
     },
     "metadata": {},
     "output_type": "display_data"
    }
   ],
   "source": [
    "movie_scripts[movie_scripts.Awards.notnull()].groupby('primaryGenre').Awards.sum().plot(kind='bar', title='Oscar Nominations', color = '0.7')"
   ]
  },
  {
   "cell_type": "code",
   "execution_count": 22,
   "metadata": {
    "collapsed": false
   },
   "outputs": [
    {
     "ename": "TypeError",
     "evalue": "unsupported operand type(s) for /: 'SeriesGroupBy' and 'int'",
     "output_type": "error",
     "traceback": [
      "\u001b[1;31m---------------------------------------------------------------------------\u001b[0m",
      "\u001b[1;31mTypeError\u001b[0m                                 Traceback (most recent call last)",
      "\u001b[1;32m<ipython-input-22-e12017251c6b>\u001b[0m in \u001b[0;36m<module>\u001b[1;34m()\u001b[0m\n\u001b[1;32m----> 1\u001b[1;33m \u001b[1;33m(\u001b[0m\u001b[0mmovie_scripts\u001b[0m\u001b[1;33m[\u001b[0m\u001b[0mmovie_scripts\u001b[0m\u001b[1;33m.\u001b[0m\u001b[0mYear\u001b[0m \u001b[1;33m!=\u001b[0m \u001b[1;34m'2015'\u001b[0m\u001b[1;33m]\u001b[0m\u001b[1;33m.\u001b[0m\u001b[0mgroupby\u001b[0m\u001b[1;33m(\u001b[0m\u001b[0mby\u001b[0m \u001b[1;33m=\u001b[0m \u001b[1;34m'Year'\u001b[0m\u001b[1;33m)\u001b[0m\u001b[1;33m.\u001b[0m\u001b[0mRevenue\u001b[0m\u001b[1;33m/\u001b[0m\u001b[1;36m1000000\u001b[0m\u001b[1;33m)\u001b[0m\u001b[1;33m.\u001b[0m\u001b[0mmean\u001b[0m\u001b[1;33m(\u001b[0m\u001b[1;33m)\u001b[0m\u001b[1;33m.\u001b[0m\u001b[0mplot\u001b[0m\u001b[1;33m(\u001b[0m\u001b[0mkind\u001b[0m\u001b[1;33m=\u001b[0m\u001b[1;34m'bar'\u001b[0m\u001b[1;33m)\u001b[0m\u001b[1;33m\u001b[0m\u001b[0m\n\u001b[0m",
      "\u001b[1;31mTypeError\u001b[0m: unsupported operand type(s) for /: 'SeriesGroupBy' and 'int'"
     ]
    }
   ],
   "source": [
    "(movie_scripts[movie_scripts.Year != '2015'].groupby(by = 'Year').Revenue/1000000.mean().plot(kind='bar')"
   ]
  },
  {
   "cell_type": "code",
   "execution_count": 20,
   "metadata": {
    "collapsed": false
   },
   "outputs": [
    {
     "data": {
      "text/html": [
       "<div>\n",
       "<table border=\"1\" class=\"dataframe\">\n",
       "  <thead>\n",
       "    <tr style=\"text-align: right;\">\n",
       "      <th></th>\n",
       "      <th>title</th>\n",
       "      <th>script</th>\n",
       "      <th>IMDB_info</th>\n",
       "      <th>Actors</th>\n",
       "      <th>imdbID</th>\n",
       "      <th>Awards</th>\n",
       "      <th>Country</th>\n",
       "      <th>Director</th>\n",
       "      <th>Genre</th>\n",
       "      <th>Language</th>\n",
       "      <th>...</th>\n",
       "      <th>Released</th>\n",
       "      <th>Runtime</th>\n",
       "      <th>Writer</th>\n",
       "      <th>Year</th>\n",
       "      <th>imdbRating</th>\n",
       "      <th>imdbVotes</th>\n",
       "      <th>financials</th>\n",
       "      <th>Budget</th>\n",
       "      <th>Revenue</th>\n",
       "      <th>Profits</th>\n",
       "    </tr>\n",
       "  </thead>\n",
       "  <tbody>\n",
       "    <tr>\n",
       "      <th>609</th>\n",
       "      <td>Legend</td>\n",
       "      <td>\\nLEGEND\\nORIGINAL SCREENPLAY by WILLIAM HJORT...</td>\n",
       "      <td>{u'Plot': u'Identical twin gangsters Ronald an...</td>\n",
       "      <td>Paul Anderson, Tom Hardy, Christopher Ecclesto...</td>\n",
       "      <td>tt3569230</td>\n",
       "      <td>0</td>\n",
       "      <td>UK, France, USA</td>\n",
       "      <td>Brian Helgeland</td>\n",
       "      <td>Biography, Crime, Drama</td>\n",
       "      <td>English</td>\n",
       "      <td>...</td>\n",
       "      <td>20 Nov 2015</td>\n",
       "      <td>132 min</td>\n",
       "      <td>Brian Helgeland, John Pearson (book)</td>\n",
       "      <td>2015</td>\n",
       "      <td>7.0</td>\n",
       "      <td>92,613</td>\n",
       "      <td>[30000000.0, 1865774.0]</td>\n",
       "      <td>30000000.0</td>\n",
       "      <td>1865774.0</td>\n",
       "      <td>-28.134226</td>\n",
       "    </tr>\n",
       "    <tr>\n",
       "      <th>958</th>\n",
       "      <td>Star Wars: The Force Awakens</td>\n",
       "      <td>\\n\\r\\n\\r\\n \\r\\n                               ...</td>\n",
       "      <td>{u'Plot': u'Three decades after the defeat of ...</td>\n",
       "      <td>Harrison Ford, Mark Hamill, Carrie Fisher, Ada...</td>\n",
       "      <td>tt2488496</td>\n",
       "      <td>1</td>\n",
       "      <td>USA</td>\n",
       "      <td>J.J. Abrams</td>\n",
       "      <td>Action, Adventure, Fantasy</td>\n",
       "      <td>English</td>\n",
       "      <td>...</td>\n",
       "      <td>18 Dec 2015</td>\n",
       "      <td>138 min</td>\n",
       "      <td>Lawrence Kasdan, J.J. Abrams, Michael Arndt, G...</td>\n",
       "      <td>2015</td>\n",
       "      <td>8.2</td>\n",
       "      <td>585,684</td>\n",
       "      <td>[245000000.0, 936627416.0]</td>\n",
       "      <td>245000000.0</td>\n",
       "      <td>936627416.0</td>\n",
       "      <td>691.627416</td>\n",
       "    </tr>\n",
       "  </tbody>\n",
       "</table>\n",
       "<p>2 rows × 23 columns</p>\n",
       "</div>"
      ],
      "text/plain": [
       "                            title  \\\n",
       "609                        Legend   \n",
       "958  Star Wars: The Force Awakens   \n",
       "\n",
       "                                                script  \\\n",
       "609  \\nLEGEND\\nORIGINAL SCREENPLAY by WILLIAM HJORT...   \n",
       "958  \\n\\r\\n\\r\\n \\r\\n                               ...   \n",
       "\n",
       "                                             IMDB_info  \\\n",
       "609  {u'Plot': u'Identical twin gangsters Ronald an...   \n",
       "958  {u'Plot': u'Three decades after the defeat of ...   \n",
       "\n",
       "                                                Actors     imdbID  Awards  \\\n",
       "609  Paul Anderson, Tom Hardy, Christopher Ecclesto...  tt3569230       0   \n",
       "958  Harrison Ford, Mark Hamill, Carrie Fisher, Ada...  tt2488496       1   \n",
       "\n",
       "             Country         Director                       Genre Language  \\\n",
       "609  UK, France, USA  Brian Helgeland     Biography, Crime, Drama  English   \n",
       "958              USA      J.J. Abrams  Action, Adventure, Fantasy  English   \n",
       "\n",
       "        ...         Released  Runtime  \\\n",
       "609     ...      20 Nov 2015  132 min   \n",
       "958     ...      18 Dec 2015  138 min   \n",
       "\n",
       "                                                Writer  Year imdbRating  \\\n",
       "609               Brian Helgeland, John Pearson (book)  2015        7.0   \n",
       "958  Lawrence Kasdan, J.J. Abrams, Michael Arndt, G...  2015        8.2   \n",
       "\n",
       "    imdbVotes                  financials       Budget      Revenue  \\\n",
       "609    92,613     [30000000.0, 1865774.0]   30000000.0    1865774.0   \n",
       "958   585,684  [245000000.0, 936627416.0]  245000000.0  936627416.0   \n",
       "\n",
       "        Profits  \n",
       "609  -28.134226  \n",
       "958  691.627416  \n",
       "\n",
       "[2 rows x 23 columns]"
      ]
     },
     "execution_count": 20,
     "metadata": {},
     "output_type": "execute_result"
    }
   ],
   "source": [
    "movie_scripts[movie_scripts.Year == '2015']"
   ]
  },
  {
   "cell_type": "code",
   "execution_count": 21,
   "metadata": {
    "collapsed": false
   },
   "outputs": [
    {
     "data": {
      "text/plain": [
       "<matplotlib.text.Text at 0x2c2c2e80>"
      ]
     },
     "execution_count": 21,
     "metadata": {},
     "output_type": "execute_result"
    },
    {
     "data": {
      "image/png": "[encoded data removed]",
      "text/plain": [
       "<matplotlib.figure.Figure at 0x2b76b470>"
      ]
     },
     "metadata": {},
     "output_type": "display_data"
    }
   ],
   "source": [
    "sns.pairplot(movie_scripts, x_vars=['Runtime'], y_vars='imdbRating', size=6, aspect=1, kind='reg')\n",
    "plt.title('Profit versus rating')\n",
    "plt.ylabel('Profit (M US$)')\n",
    "plt.xlabel('IMDB Rating')"
   ]
  },
  {
   "cell_type": "code",
   "execution_count": null,
   "metadata": {
    "collapsed": true
   },
   "outputs": [],
   "source": []
  }
 ],
 "metadata": {
  "kernelspec": {
   "display_name": "Python [Root]",
   "language": "python",
   "name": "Python [Root]"
  },
  "language_info": {
   "codemirror_mode": {
    "name": "ipython",
    "version": 2
   },
   "file_extension": ".py",
   "mimetype": "text/x-python",
   "name": "python",
   "nbconvert_exporter": "python",
   "pygments_lexer": "ipython2",
   "version": "2.7.12"
  }
 },
 "nbformat": 4,
 "nbformat_minor": 0
}
