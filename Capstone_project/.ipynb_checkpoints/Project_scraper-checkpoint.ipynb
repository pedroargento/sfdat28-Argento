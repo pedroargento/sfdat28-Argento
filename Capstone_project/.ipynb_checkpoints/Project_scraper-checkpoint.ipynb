{
 "cells": [
  {
   "cell_type": "code",
   "execution_count": 5,
   "metadata": {
    "collapsed": false
   },
   "outputs": [],
   "source": [
    "import pandas as pd\n",
    "import requests\n",
    "from bs4 import BeautifulSoup\n",
    "import string"
   ]
  },
  {
   "cell_type": "code",
   "execution_count": 50,
   "metadata": {
    "collapsed": true
   },
   "outputs": [],
   "source": [
    "def get_script (title):\n",
    "    #receives a movie title and returns it as a string. If the script is not found it returns NULL\n",
    "    title = title.replace(':', '')\n",
    "    if title[0:3].lower()== 'the':\n",
    "        adjusted_title = (title.replace('The ','') + ',-The').replace(' ', '-')\n",
    "    else:\n",
    "        adjusted_title = title.replace(' ', '-')\n",
    "    url = 'http://www.imsdb.com/scripts/' + adjusted_title + '.html'\n",
    "    r = requests.get(url)\n",
    "    b = BeautifulSoup(r.text, 'html.parser')\n",
    "    tag = b.find(\"td\", attrs={\"class\":'scrtext'})\n",
    "    if tag:\n",
    "        return tag.text\n",
    "    else:\n",
    "        return NULL"
   ]
  },
  {
   "cell_type": "code",
   "execution_count": 103,
   "metadata": {
    "collapsed": false
   },
   "outputs": [],
   "source": [
    "def get_titles():\n",
    "    movies = {'title': []}\n",
    "    alphabet = [str(0)] + list(string.ascii_uppercase)\n",
    "\n",
    "    for l in alphabet:\n",
    "        url = 'http://www.imsdb.com/alphabetical/' +  l\n",
    "        r = requests.get(url)\n",
    "        b = BeautifulSoup(r.text, 'html.parser')\n",
    "        tag = b.findAll(\"p\")\n",
    "        for m in tag:\n",
    "            movies[\"title\"].append(m.find('a').contents[0])\n",
    "    return pd.DataFrame(movies)"
   ]
  },
  {
   "cell_type": "code",
   "execution_count": null,
   "metadata": {
    "collapsed": true
   },
   "outputs": [],
   "source": []
  }
 ],
 "metadata": {
  "kernelspec": {
   "display_name": "Python [Root]",
   "language": "python",
   "name": "Python [Root]"
  },
  "language_info": {
   "codemirror_mode": {
    "name": "ipython",
    "version": 2
   },
   "file_extension": ".py",
   "mimetype": "text/x-python",
   "name": "python",
   "nbconvert_exporter": "python",
   "pygments_lexer": "ipython2",
   "version": "2.7.12"
  }
 },
 "nbformat": 4,
 "nbformat_minor": 0
}
