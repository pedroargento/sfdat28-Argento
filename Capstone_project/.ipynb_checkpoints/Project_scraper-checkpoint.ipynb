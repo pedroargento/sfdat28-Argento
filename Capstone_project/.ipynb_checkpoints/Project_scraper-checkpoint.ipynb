{
 "cells": [
  {
   "cell_type": "code",
   "execution_count": 1,
   "metadata": {
    "collapsed": false
   },
   "outputs": [],
   "source": [
    "import pandas as pd\n",
    "import requests\n",
    "from bs4 import BeautifulSoup\n",
    "import string\n",
    "import time"
   ]
  },
  {
   "cell_type": "code",
   "execution_count": 36,
   "metadata": {
    "collapsed": true
   },
   "outputs": [],
   "source": [
    "def get_titles():\n",
    "    #Get all movies available at IMSDB.com and returns a Pandas Data Frame withe the titles.\n",
    "    movies = {'title': []}\n",
    "    alphabet = [str(0)] + list(string.ascii_uppercase) #List with all capital letter from A to Z and number 0\n",
    "\n",
    "    for l in alphabet:\n",
    "        url = 'http://www.imsdb.com/alphabetical/' +  l #URL for all movies starting with letter l\n",
    "        r = requests.get(url)\n",
    "        b = BeautifulSoup(r.text, 'html.parser')\n",
    "        tag = b.findAll(\"p\")\n",
    "        for m in tag:\n",
    "            movies[\"title\"].append(m.find('a').contents[0]) #Movie title\n",
    "    return pd.DataFrame(movies)\n",
    "\n",
    "def get_script (title):\n",
    "    #Receives a movie title as argument and get it script in IMSDB.com.\n",
    "    url = 'http://www.imsdb.com/scripts/' + title.replace(' ', '-') + '.html' #URL for the movie script\n",
    "    r = requests.get(url)\n",
    "    b = BeautifulSoup(r.text, 'html.parser')\n",
    "    tag = b.find(\"td\", attrs={\"class\":'scrtext'})\n",
    "    if tag:\n",
    "        return tag.text\n",
    "    else:\n",
    "        return 'NA'\n",
    "    \n",
    "def get_info (title):\n",
    "    #Receives a movie title and info (ie. Director) as arguments and access the IMDB API to get the information.\n",
    "    \n",
    "    if (', The' in title) or (', the' in title):\n",
    "        #Adjusts the title notation from IMSDB format to IMDB format.\n",
    "        adjusted_title = ('the ' + title.replace(', the', '')).replace(' ', '+')\n",
    "    else:\n",
    "        adjusted_title = title.replace(' ', '+')\n",
    "    \n",
    "    r = requests.get('http://www.omdbapi.com/?t=' + adjusted_title +   '&y=&plot=short&r=json')\n",
    "    time.sleep(0.1)\n",
    "    try:\n",
    "        return r.json()\n",
    "    except:\n",
    "        return 'NA'\n",
    "    \n",
    "def get_financials (ID):\n",
    "    url = 'http://www.imdb.com/title/' +  ID \n",
    "    r = requests.get(url)\n",
    "    b = BeautifulSoup(r.text, 'html.parser')\n",
    "    titles = ['Budget' , 'Gross']\n",
    "    financials = []\n",
    "    for title in titles:\n",
    "        financials.append(float(b.find(text=lambda x: x.startswith(title)).next_element.replace('$', '').replace(',','')))\n",
    "    return financials\n"
   ]
  },
  {
   "cell_type": "code",
   "execution_count": 37,
   "metadata": {
    "collapsed": false
   },
   "outputs": [],
   "source": [
    "movies = get_titles()\n",
    "movies['script'] = movies.title.apply(get_script)\n",
    "movies['IMDB_info'] = movies.title.apply(lambda x: get_info(x))\n",
    "movies.to_pickle('movies.pkl')"
   ]
  },
  {
   "cell_type": "code",
   "execution_count": 2,
   "metadata": {
    "collapsed": false
   },
   "outputs": [
    {
     "data": {
      "text/html": [
       "<div>\n",
       "<table border=\"1\" class=\"dataframe\">\n",
       "  <thead>\n",
       "    <tr style=\"text-align: right;\">\n",
       "      <th></th>\n",
       "      <th>title</th>\n",
       "      <th>script</th>\n",
       "      <th>IMDB_info</th>\n",
       "    </tr>\n",
       "  </thead>\n",
       "  <tbody>\n",
       "    <tr>\n",
       "      <th>0</th>\n",
       "      <td>10 Things I Hate About You</td>\n",
       "      <td>\\n\\n\\n\\n&lt;b&gt;&lt;!--\\n&lt;/b&gt;if (window!= top)\\ntop.lo...</td>\n",
       "      <td>{u'Plot': u'A pretty, popular teenager can't g...</td>\n",
       "    </tr>\n",
       "    <tr>\n",
       "      <th>1</th>\n",
       "      <td>12</td>\n",
       "      <td>\\n\\n\\n  \\n  12 - Script\\n</td>\n",
       "      <td>{u'Plot': u'Twelve jurors must decide the fate...</td>\n",
       "    </tr>\n",
       "    <tr>\n",
       "      <th>2</th>\n",
       "      <td>12 and Holding</td>\n",
       "      <td>\\n           \\n          \\n          \\n       ...</td>\n",
       "      <td>{u'Plot': u'After his twin brother is accident...</td>\n",
       "    </tr>\n",
       "    <tr>\n",
       "      <th>3</th>\n",
       "      <td>12 Monkeys</td>\n",
       "      <td>\\n\\n\\n\\n&lt;b&gt;&lt;!--\\n&lt;/b&gt;if (window!= top)\\ntop.lo...</td>\n",
       "      <td>{u'totalSeasons': u'2', u'Plot': u'Follows the...</td>\n",
       "    </tr>\n",
       "    <tr>\n",
       "      <th>4</th>\n",
       "      <td>12 Years a Slave</td>\n",
       "      <td>\\n\\r\\n\\r\\n\\r\\n                             12 ...</td>\n",
       "      <td>{u'Plot': u'In the antebellum United States, S...</td>\n",
       "    </tr>\n",
       "    <tr>\n",
       "      <th>5</th>\n",
       "      <td>127 Hours</td>\n",
       "      <td>\\n\\r\\n\\r\\n \\r\\n                               ...</td>\n",
       "      <td>{u'Plot': u'An adventurous mountain climber be...</td>\n",
       "    </tr>\n",
       "    <tr>\n",
       "      <th>6</th>\n",
       "      <td>1492: Conquest of Paradise</td>\n",
       "      <td>\\n\\n\\n\\n\\n1492: Conquest of Paradise\\nWriters ...</td>\n",
       "      <td>{u'Plot': u'Christopher Columbus' discovery of...</td>\n",
       "    </tr>\n",
       "    <tr>\n",
       "      <th>7</th>\n",
       "      <td>15 Minutes</td>\n",
       "      <td>\\n\\n\\n\\n&lt;b&gt;&lt;!--\\n&lt;/b&gt;if (window!= top)\\ntop.lo...</td>\n",
       "      <td>{u'Plot': u'A homicide detective and a fire ma...</td>\n",
       "    </tr>\n",
       "    <tr>\n",
       "      <th>8</th>\n",
       "      <td>17 Again</td>\n",
       "      <td>\\n\\n           \\n          \\n                 ...</td>\n",
       "      <td>{u'Plot': u'Mike O'Donnell is ungrateful for h...</td>\n",
       "    </tr>\n",
       "    <tr>\n",
       "      <th>9</th>\n",
       "      <td>187</td>\n",
       "      <td>\\n       187\\n                by\\n\\n          ...</td>\n",
       "      <td>{u'Plot': u'N/A', u'Poster': u'N/A', u'Rated':...</td>\n",
       "    </tr>\n",
       "  </tbody>\n",
       "</table>\n",
       "</div>"
      ],
      "text/plain": [
       "                        title  \\\n",
       "0  10 Things I Hate About You   \n",
       "1                          12   \n",
       "2              12 and Holding   \n",
       "3                  12 Monkeys   \n",
       "4            12 Years a Slave   \n",
       "5                   127 Hours   \n",
       "6  1492: Conquest of Paradise   \n",
       "7                  15 Minutes   \n",
       "8                    17 Again   \n",
       "9                         187   \n",
       "\n",
       "                                              script  \\\n",
       "0  \\n\\n\\n\\n<b><!--\\n</b>if (window!= top)\\ntop.lo...   \n",
       "1                          \\n\\n\\n  \\n  12 - Script\\n   \n",
       "2  \\n           \\n          \\n          \\n       ...   \n",
       "3  \\n\\n\\n\\n<b><!--\\n</b>if (window!= top)\\ntop.lo...   \n",
       "4  \\n\\r\\n\\r\\n\\r\\n                             12 ...   \n",
       "5  \\n\\r\\n\\r\\n \\r\\n                               ...   \n",
       "6  \\n\\n\\n\\n\\n1492: Conquest of Paradise\\nWriters ...   \n",
       "7  \\n\\n\\n\\n<b><!--\\n</b>if (window!= top)\\ntop.lo...   \n",
       "8  \\n\\n           \\n          \\n                 ...   \n",
       "9  \\n       187\\n                by\\n\\n          ...   \n",
       "\n",
       "                                           IMDB_info  \n",
       "0  {u'Plot': u'A pretty, popular teenager can't g...  \n",
       "1  {u'Plot': u'Twelve jurors must decide the fate...  \n",
       "2  {u'Plot': u'After his twin brother is accident...  \n",
       "3  {u'totalSeasons': u'2', u'Plot': u'Follows the...  \n",
       "4  {u'Plot': u'In the antebellum United States, S...  \n",
       "5  {u'Plot': u'An adventurous mountain climber be...  \n",
       "6  {u'Plot': u'Christopher Columbus' discovery of...  \n",
       "7  {u'Plot': u'A homicide detective and a fire ma...  \n",
       "8  {u'Plot': u'Mike O'Donnell is ungrateful for h...  \n",
       "9  {u'Plot': u'N/A', u'Poster': u'N/A', u'Rated':...  "
      ]
     },
     "execution_count": 2,
     "metadata": {},
     "output_type": "execute_result"
    }
   ],
   "source": [
    "movies = pd.read_pickle('movies.pkl')\n",
    "movies.head(10)"
   ]
  },
  {
   "cell_type": "code",
   "execution_count": 11,
   "metadata": {
    "collapsed": false
   },
   "outputs": [],
   "source": [
    "def get_dic_info (x, info):\n",
    "    try:\n",
    "        return x[info]\n",
    "    except:\n",
    "        return 'NULL'\n",
    "    \n",
    "info = ['Actors',\n",
    "        'imdbID',\n",
    "        'Awards',\n",
    "        'Country',\n",
    "        'Director',\n",
    "        'Genre',\n",
    "        'Language',\n",
    "        'Metascore',\n",
    "        'Plot',\n",
    "        'Rated',\n",
    "        'Released',\n",
    "        'Runtime',\n",
    "        'Writer',\n",
    "        'Year',\n",
    "        'imdbRating',\n",
    "        'imdbVotes']\n",
    "\n",
    "for i in info:\n",
    "    movies[i] = movies.IMDB_info.apply(lambda x: get_dic_info(x,i))\n",
    "    \n",
    "movies.head()\n"
   ]
  },
  {
   "cell_type": "code",
   "execution_count": 15,
   "metadata": {
    "collapsed": false
   },
   "outputs": [],
   "source": [
    "movies = pd.read_pickle('movies.pkl')\n",
    "movies['financials'] = movies.imdbID.apply(lambda x: get_financials(x))\n",
    "movies['Budget'] =  movies.financials.apply(lambda x: x[0])\n",
    "movies['Revenues'] =  movies.financials.apply(lambda x: x[1])"
   ]
  },
  {
   "cell_type": "code",
   "execution_count": null,
   "metadata": {
    "collapsed": false
   },
   "outputs": [],
   "source": []
  },
  {
   "cell_type": "code",
   "execution_count": null,
   "metadata": {
    "collapsed": true
   },
   "outputs": [],
   "source": []
  }
 ],
 "metadata": {
  "anaconda-cloud": {},
  "kernelspec": {
   "display_name": "Python [Root]",
   "language": "python",
   "name": "Python [Root]"
  },
  "language_info": {
   "codemirror_mode": {
    "name": "ipython",
    "version": 2
   },
   "file_extension": ".py",
   "mimetype": "text/x-python",
   "name": "python",
   "nbconvert_exporter": "python",
   "pygments_lexer": "ipython2",
   "version": "2.7.12"
  }
 },
 "nbformat": 4,
 "nbformat_minor": 0
}
