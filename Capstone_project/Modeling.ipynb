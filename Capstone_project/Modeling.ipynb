{
 "cells": [
  {
   "cell_type": "markdown",
   "metadata": {
    "collapsed": false
   },
   "source": [
    "# Movie Script automatic reader"
   ]
  },
  {
   "cell_type": "code",
   "execution_count": 1,
   "metadata": {
    "collapsed": true
   },
   "outputs": [],
   "source": [
    "# -*- coding: utf-8 -*-\n",
    "import pandas as pd\n",
    "import scipy as sp\n",
    "import numpy as np\n",
    "\n",
    "from sklearn.feature_extraction.text import CountVectorizer, TfidfVectorizer\n",
    "from sklearn.linear_model import LogisticRegression\n",
    "from sklearn.linear_model import LinearRegression\n",
    "\n",
    "\n",
    "import nltk\n",
    "from nltk.corpus import stopwords\n",
    "from nltk.tag import pos_tag\n",
    "from textblob import TextBlob, Word\n",
    "\n",
    "from sklearn.pipeline import Pipeline, FeatureUnion\n",
    "from sklearn.base import BaseEstimator\n",
    "from sklearn.base import ClassifierMixin\n",
    "from sklearn.base import TransformerMixin\n",
    "from sklearn.preprocessing import StandardScaler\n",
    "\n",
    "from sklearn.cross_validation import cross_val_score\n",
    "from sklearn.grid_search import GridSearchCV"
   ]
  },
  {
   "cell_type": "code",
   "execution_count": 16,
   "metadata": {
    "collapsed": true
   },
   "outputs": [],
   "source": [
    "import os\n",
    "import sys\n",
    "os.environ['SPARK_HOME'] = \"C:\\Users\\Pedro\\Downloads\\spark-2.0.2-bin-hadoop2.7\\spark-2.0.2-bin-hadoop2.7\"\n",
    "sys.path.append(\"C:\\Users\\Pedro\\Downloads\\spark-2.0.2-bin-hadoop2.7\\spark-2.0.2-bin-hadoop2.7\\python\")\n",
    "sys.path.append(\"C:\\Users\\Pedro\\Downloads\\spark-2.0.2-bin-hadoop2.7\\spark-2.0.2-bin-hadoop2.7\\python\\lib\\py4j-0.8.2.1-src.zip\")\n",
    "\n",
    "#from spark_sklearn import GridSearchCV"
   ]
  },
  {
   "cell_type": "code",
   "execution_count": 2,
   "metadata": {
    "collapsed": false
   },
   "outputs": [],
   "source": [
    "movie_ratings = pd.read_pickle('movie_ratings.pkl')"
   ]
  },
  {
   "cell_type": "code",
   "execution_count": 3,
   "metadata": {
    "collapsed": false
   },
   "outputs": [],
   "source": [
    "movie_ratings['Runtime'] = movie_ratings.Runtime.apply(lambda x: int(x.replace('min','')) )"
   ]
  },
  {
   "cell_type": "code",
   "execution_count": 4,
   "metadata": {
    "collapsed": false
   },
   "outputs": [],
   "source": [
    "class SentimentMetrics(TransformerMixin):\n",
    "    def changes (self, sentiments):\n",
    "        N_changes = 0\n",
    "        for i in range(len(sentiments)-1):\n",
    "            if sentiments[i]*sentiments[i+1] < 0:\n",
    "                N_changes+=1\n",
    "        return N_changes     \n",
    "    \n",
    "    def sentiment(self, script, pages = 100, ma = 5):\n",
    "        #Creates a moving average of the sentiment polarity of the script pages (or %)\n",
    "        sentiment = []\n",
    "        for i in range(pages+1-ma):\n",
    "            sentiment.append(TextBlob(script[i*len(script)/pages:(i+ma)*len(script)/pages]).sentiment.polarity)\n",
    "        return sentiment    \n",
    "        \n",
    "    def transform(self, X, **transform_params):  \n",
    "        S = X.apply(lambda x: SentimentMetrics.sentiment(self, x))\n",
    "        sentiment_dic = {\n",
    "       'Range': S.apply(lambda x: max(x) - min(x)),\n",
    "       #'Sentiment_avg': S.apply(lambda x: x.mean()),\n",
    "       #'Sentiment_std': S.apply(lambda x: x.std()),\n",
    "       'Max_sentiment': S.apply(lambda x: max(x)),\n",
    "       'Max_sentiment_loc': S.apply(lambda x: x.index(max(x))),\n",
    "       'Min_sentiment': S.apply(lambda x: min(x)),\n",
    "       'Min_sentiment_loc': S.apply(lambda x: x.index(min(x))),\n",
    "       'Max_pos_change': S.apply(lambda x: pd.Series(x).diff(1).max()),\n",
    "       'Max_pos_loc': S.apply(lambda x: list(pd.Series(x).diff(1)).index(pd.Series(x).diff(1).max())),\n",
    "       'Max_neg_change': S.apply(lambda x: pd.Series(x).diff(1).min()),\n",
    "       'Max_neg_loc': S.apply(lambda x: list(pd.Series(x).diff(1)).index(pd.Series(x).diff(1).min())),\n",
    "       'Begin_sentiment': S.apply(lambda x: x[0]),\n",
    "       'End_sentiment': S.apply(lambda x: x[-1]),\n",
    "       'Total_change': S.apply(lambda x: x[-1] - x[0]),\n",
    "       'plot_twist_index': S.apply(lambda x: (max(x[-10:]) - min(x[-10:]))/(max(x[:-10]) - min(x[:-10]) + 0.01)),\n",
    "       'pol_changes': S.apply(lambda x: SentimentMetrics.changes(self, x))\n",
    "        }\n",
    "            \n",
    "        return sp.sparse.csr_matrix(pd.DataFrame(sentiment_dic).astype(float))\n",
    "    \n",
    "        \n",
    "    \n",
    "    def fit(self, X, y=None, **fit_params):\n",
    "        return self      \n",
    "\n",
    "class NamedEntities(TransformerMixin):        \n",
    "    def number_entities(self, text):\n",
    "        upper = [i for i in TextBlob(text).words if (i.isupper() and i.lower() not in stopwords.words('english'))]\n",
    "        tagged = pos_tag(upper)\n",
    "        return len(set([word for word,pos in tagged if pos == 'NNP']))\n",
    "    \n",
    "    def transform (self, X):\n",
    "        return pd.DataFrame(X.apply(lambda x: NamedEntities.number_entities(self,x)))\n",
    "    \n",
    "    def fit(self, X, y=None, **fit_params):\n",
    "        return self      \n",
    "        \n",
    "class ToSparse(TransformerMixin):        \n",
    "    def transform (self, X):\n",
    "        return sp.sparse.csr_matrix(X).T\n",
    "        \n",
    "    def fit_transform(self, X, y=None, **fit_params):\n",
    "        self.fit(X, y, **fit_params)\n",
    "        return self.transform(X)    \n",
    "    \n",
    "    def fit(self, X, y=None, **fit_params):\n",
    "        return self     \n",
    "\n",
    "class SelectColumn(TransformerMixin):\n",
    "    def __init__(self, column):\n",
    "        self.column = column\n",
    "        \n",
    "    def transform(self, X, **transform_params):\n",
    "        return X[self.column]\n",
    "    \n",
    "    def fit(self, X, y=None, **fit_params):\n",
    "        return self      \n",
    "\n",
    "from nltk.stem.snowball import SnowballStemmer\n",
    "stemmer = SnowballStemmer('english')\n",
    "def word_tokenize(text, how='lemma'):\n",
    "    words = TextBlob(text).words\n",
    "    if how == 'lemma':\n",
    "        return [word.lemmatize() for word in words]\n",
    "    elif how == 'stem':\n",
    "        return [stemmer.stem(word) for word in words]\n",
    "    \n",
    "def sentence_tokenize(text):\n",
    "    words = TextBlob(text.replace(',', '.')).sentences\n",
    "    return [word for word in words]\n",
    "   \n",
    "from sklearn import decomposition\n",
    "\n",
    "from sklearn.base import BaseEstimator\n",
    "class DenseTransformer(TransformerMixin, BaseEstimator):\n",
    "\n",
    "    def transform(self, X, y=None, **fit_params):\n",
    "        return X.todense()\n",
    "\n",
    "    def fit_transform(self, X, y=None, **fit_params):\n",
    "        self.fit(X, y, **fit_params)\n",
    "        return self.transform(X)\n",
    "\n",
    "    def fit(self, X, y=None, **fit_params):\n",
    "        return self"
   ]
  },
  {
   "cell_type": "code",
   "execution_count": 5,
   "metadata": {
    "collapsed": false
   },
   "outputs": [],
   "source": [
    "pipe_genre = Pipeline([('select_genre', SelectColumn('Genre')),\n",
    "                       ('vect', CountVectorizer())])\n",
    "\n",
    "pipe_runtime = Pipeline([('select_runtime', SelectColumn('Runtime')),('sparse', ToSparse())])\n",
    "\n",
    "pipe_script = Pipeline([('select_script', SelectColumn('script')),\n",
    "                       ('union', FeatureUnion([('sentiment', SentimentMetrics()), \n",
    "                                               ('named', NamedEntities())]))])\n",
    "\n",
    "features = FeatureUnion([('script', pipe_script), ('genre', pipe_genre), ('runtime', pipe_runtime)])\n",
    "preprocess = Pipeline([('dense', DenseTransformer()),\n",
    "                       ('zscore', StandardScaler())])"
   ]
  },
  {
   "cell_type": "code",
   "execution_count": 60,
   "metadata": {
    "collapsed": false
   },
   "outputs": [],
   "source": [
    "X = features.fit_transform(movie_ratings)"
   ]
  },
  {
   "cell_type": "code",
   "execution_count": 6,
   "metadata": {
    "collapsed": true
   },
   "outputs": [],
   "source": [
    "y = movie_ratings.imdbRating    "
   ]
  },
  {
   "cell_type": "code",
   "execution_count": 7,
   "metadata": {
    "collapsed": true
   },
   "outputs": [],
   "source": [
    "##DELETE AFTER##\n",
    "import cPickle as pickle\n",
    "with open('test_sparse_array.dat', 'rb') as infile:\n",
    "    X = pickle.load(infile)\n",
    "y = movie_ratings.imdbRating    "
   ]
  },
  {
   "cell_type": "markdown",
   "metadata": {},
   "source": [
    "### Random Forest"
   ]
  },
  {
   "cell_type": "code",
   "execution_count": 15,
   "metadata": {
    "collapsed": false
   },
   "outputs": [
    {
     "name": "stdout",
     "output_type": "stream",
     "text": [
      "-0.682396416705\n",
      "{'forest__max_features': 2, 'forest__n_estimators': 30, 'forest__max_depth': 3}\n"
     ]
    }
   ],
   "source": [
    "from sklearn.ensemble import RandomForestRegressor\n",
    "rfreg = RandomForestRegressor()\n",
    "\n",
    "pipe = Pipeline([('preprocess', preprocess) ,('forest', rfreg)])\n",
    "\n",
    "param_grid = dict(forest__max_depth = range(1,21), forest__max_features = X.shape[1] +1, forest__n_estimators = range(10,140,20))\n",
    "grid = GridSearchCV(pipe, param_grid, scoring='mean_absolute_error', n_jobs=1, error_score = 0)\n",
    "grid.fit(X, y)\n",
    "\n",
    "\n",
    "print grid.best_score_\n",
    "#-0.653416058959\n",
    "print grid.best_params_\n",
    "#{'forest__max_features': 24, 'forest__n_estimators': 50, 'forest__max_depth': 14}\n"
   ]
  },
  {
   "cell_type": "markdown",
   "metadata": {},
   "source": [
    "## Decision Tree"
   ]
  },
  {
   "cell_type": "code",
   "execution_count": 64,
   "metadata": {
    "collapsed": false
   },
   "outputs": [
    {
     "name": "stdout",
     "output_type": "stream",
     "text": [
      "-0.672306883255\n",
      "{'tree__max_depth': 2, 'tree__max_features': 11, 'tree__min_samples_leaf': 3}\n"
     ]
    }
   ],
   "source": [
    "from sklearn.tree import DecisionTreeRegressor\n",
    "treereg = DecisionTreeRegressor()\n",
    "\n",
    "pipe_tree = Pipeline([('preprocess', preprocess), ('tree', treereg)])\n",
    "\n",
    "param_grid = {'tree__max_depth': range(1,21), 'tree__max_features': range(1, X.shape[1] +1), 'tree__min_samples_leaf': range(1,6)}\n",
    "grid = GridSearchCV(pipe_tree, param_grid, scoring='mean_absolute_error')\n",
    "grid.fit(X, y)\n",
    "print grid.best_score_\n",
    "#-0.672306883255\n",
    "print grid.best_params_\n",
    "#{'tree__max_depth': 2, 'tree__max_features': 11, 'tree__min_samples_leaf': 3}"
   ]
  },
  {
   "cell_type": "markdown",
   "metadata": {},
   "source": [
    "## SGD Regressor"
   ]
  },
  {
   "cell_type": "code",
   "execution_count": 65,
   "metadata": {
    "collapsed": false
   },
   "outputs": [
    {
     "name": "stdout",
     "output_type": "stream",
     "text": [
      "{'sgd__n_iter': 10000, 'sgd__penalty': 'elasticnet', 'sgd__loss': 'squared_loss', 'sgd__alpha': 0.1}\n",
      "-0.652633288235\n"
     ]
    }
   ],
   "source": [
    "from sklearn.linear_model import SGDRegressor\n",
    "sgd = SGDRegressor()\n",
    "\n",
    "pipe_sgd = Pipeline([('preprocess', preprocess), ('sgd', sgd)])\n",
    "\n",
    "parameters = {'sgd__loss':('squared_loss', 'huber', 'epsilon_insensitive',  'squared_epsilon_insensitive'), \n",
    "              'sgd__penalty':('none', 'l2', 'l1', 'elasticnet'),\n",
    "              'sgd__alpha': (1e-4,1e-3,1e-2,1e-1,1,1e1),\n",
    "              'sgd__n_iter': (100, 1000, 10000)\n",
    "             }\n",
    "clf = GridSearchCV(pipe_sgd, parameters, scoring='mean_absolute_error')\n",
    "clf.fit(X,movie_ratings.imdbRating)\n",
    "\n",
    "print clf.best_params_\n",
    "#{'sgd__n_iter': 10000, 'sgd__penalty': 'elasticnet', 'sgd__loss': 'squared_loss', 'sgd__alpha': 0.1}\n",
    "print clf.best_score_\n",
    "#-0.652633288235"
   ]
  },
  {
   "cell_type": "markdown",
   "metadata": {},
   "source": [
    "## Essemble Regressor"
   ]
  },
  {
   "cell_type": "code",
   "execution_count": 29,
   "metadata": {
    "collapsed": false
   },
   "outputs": [],
   "source": [
    "class EnsembleRegressor(BaseEstimator, ClassifierMixin):\n",
    "    def __init__(self, models, weights=None):\n",
    "        self.models = models\n",
    "        self.weights = weights\n",
    "\n",
    "    def fit(self, X, y):\n",
    "        for model in self.models:\n",
    "            model.fit(X, y)\n",
    "\n",
    "    def predict(self, X):\n",
    "        self.pred_ = np.asarray([model.predict(X) for model in self.models])\n",
    "        if self.weights:\n",
    "            avg = np.average(self.pred_, axis=0, weights=self.weights)\n",
    "        else:\n",
    "            avg = np.average(self.pred_, axis=0)\n",
    "        return avg"
   ]
  },
  {
   "cell_type": "code",
   "execution_count": 30,
   "metadata": {
    "collapsed": false
   },
   "outputs": [
    {
     "name": "stdout",
     "output_type": "stream",
     "text": [
      "{'reg__weights': [1, 0, 1]}\n",
      "-0.648697631076\n"
     ]
    }
   ],
   "source": [
    "from sklearn.ensemble import RandomForestRegressor\n",
    "rfreg = RandomForestRegressor(max_features= 14, n_estimators= 50, max_depth= 24)\n",
    "treereg = DecisionTreeRegressor(max_depth= 2, max_features= 11, min_samples_leaf= 3)\n",
    "sgd = SGDRegressor(n_iter= 10000, penalty= 'elasticnet', loss= 'squared_loss', alpha= 0.1)\n",
    "\n",
    "models = [rfreg, treereg, sgd]\n",
    "reg = EnsembleRegressor(models)\n",
    "\n",
    "pipe_reg = Pipeline([('preprocess', preprocess), ('reg', reg)])\n",
    "\n",
    "params = {'reg__weights': [[1,1,1],[2,1,1],[1,2,1],[1,1,2],[1,0,1]]}\n",
    "grid = GridSearchCV(pipe_reg, params, cv=5, scoring='mean_absolute_error')\n",
    "grid.fit(X,movie_ratings.imdbRating)\n",
    "\n",
    "print grid.best_params_\n",
    "#{'reg__weights': [1, 0, 1]}\n",
    "print grid.best_score_\n",
    "#-0.648697631076"
   ]
  },
  {
   "cell_type": "markdown",
   "metadata": {},
   "source": [
    "## Some metrics"
   ]
  },
  {
   "cell_type": "code",
   "execution_count": 31,
   "metadata": {
    "collapsed": false
   },
   "outputs": [],
   "source": [
    "from sklearn.cross_validation import train_test_split\n",
    "from sklearn.ensemble import RandomForestRegressor\n",
    "from sklearn.tree import DecisionTreeRegressor\n",
    "from sklearn.linear_model import SGDRegressor\n",
    "\n",
    "\n",
    "\n",
    "models = [rfreg, treereg, sgd]\n",
    "\n",
    "\n",
    "Xtrain, Xtest, ytrain, ytest = train_test_split(X,y)\n",
    "reg = EnsembleRegressor(models, [1,0,1])\n",
    "pipe_reg = Pipeline([('preprocess', preprocess), ('reg', reg)])"
   ]
  },
  {
   "cell_type": "code",
   "execution_count": 32,
   "metadata": {
    "collapsed": false
   },
   "outputs": [],
   "source": [
    "pipe_reg.fit(Xtrain,ytrain)\n",
    "ypred = pipe_reg.predict(Xtest)"
   ]
  },
  {
   "cell_type": "code",
   "execution_count": 33,
   "metadata": {
    "collapsed": true
   },
   "outputs": [],
   "source": [
    "Results = pd.DataFrame({'Actual': np.array(ytest), 'Predicted': ypred}, index=range(len(ytest)))\n",
    "Results['RMSE'] = np.abs(Results.Actual - Results.Predicted)"
   ]
  },
  {
   "cell_type": "code",
   "execution_count": 37,
   "metadata": {
    "collapsed": false
   },
   "outputs": [
    {
     "data": {
      "text/plain": [
       "[<matplotlib.lines.Line2D at 0x56efa668>]"
      ]
     },
     "execution_count": 37,
     "metadata": {},
     "output_type": "execute_result"
    },
    {
     "data": {
      "image/png": "[encoded data removed]",
      "text/plain": [
       "<matplotlib.figure.Figure at 0x56efa6a0>"
      ]
     },
     "metadata": {},
     "output_type": "display_data"
    }
   ],
   "source": [
    "import seaborn as sns\n",
    "import matplotlib.pyplot as plt\n",
    "%matplotlib inline\n",
    "\n",
    "\n",
    "pair = sns.pairplot(Results, x_vars=['Predicted'],y_vars = 'Actual', size=6)\n",
    "\n",
    "plt.plot([0, 10], [0, 10], linewidth=2, c = '0.5')"
   ]
  },
  {
   "cell_type": "code",
   "execution_count": 38,
   "metadata": {
    "collapsed": false
   },
   "outputs": [],
   "source": [
    "ranking = []\n",
    "dif = []\n",
    "for i in range(len(Results)-1):\n",
    "    for j in range(len(Results)-1):\n",
    "        if j>i:\n",
    "            ranking.append((Results.Predicted[i]-Results.Predicted[j])*(Results.Actual[i] - Results.Actual[j])>=0)\n",
    "            dif.append(np.abs(np.abs((Results.Actual[i] - Results.Actual[j]))))\n",
    "error = pd.DataFrame(ranking, columns = ['Correct Ranking'])\n",
    "error['Actual difference'] = dif\n",
    "   "
   ]
  },
  {
   "cell_type": "code",
   "execution_count": null,
   "metadata": {
    "collapsed": true
   },
   "outputs": [],
   "source": []
  },
  {
   "cell_type": "code",
   "execution_count": 40,
   "metadata": {
    "collapsed": false
   },
   "outputs": [
    {
     "data": {
      "text/html": [
       "<div>\n",
       "<table border=\"1\" class=\"dataframe\">\n",
       "  <thead>\n",
       "    <tr style=\"text-align: right;\">\n",
       "      <th></th>\n",
       "      <th></th>\n",
       "      <th>Actual difference</th>\n",
       "    </tr>\n",
       "    <tr>\n",
       "      <th>Correct Ranking</th>\n",
       "      <th></th>\n",
       "      <th></th>\n",
       "    </tr>\n",
       "  </thead>\n",
       "  <tbody>\n",
       "    <tr>\n",
       "      <th rowspan=\"8\" valign=\"top\">False</th>\n",
       "      <th>count</th>\n",
       "      <td>5796.000000</td>\n",
       "    </tr>\n",
       "    <tr>\n",
       "      <th>mean</th>\n",
       "      <td>0.796808</td>\n",
       "    </tr>\n",
       "    <tr>\n",
       "      <th>std</th>\n",
       "      <td>0.633223</td>\n",
       "    </tr>\n",
       "    <tr>\n",
       "      <th>min</th>\n",
       "      <td>0.100000</td>\n",
       "    </tr>\n",
       "    <tr>\n",
       "      <th>25%</th>\n",
       "      <td>0.300000</td>\n",
       "    </tr>\n",
       "    <tr>\n",
       "      <th>50%</th>\n",
       "      <td>0.600000</td>\n",
       "    </tr>\n",
       "    <tr>\n",
       "      <th>75%</th>\n",
       "      <td>1.100000</td>\n",
       "    </tr>\n",
       "    <tr>\n",
       "      <th>max</th>\n",
       "      <td>5.800000</td>\n",
       "    </tr>\n",
       "    <tr>\n",
       "      <th rowspan=\"8\" valign=\"top\">True</th>\n",
       "      <th>count</th>\n",
       "      <td>12159.000000</td>\n",
       "    </tr>\n",
       "    <tr>\n",
       "      <th>mean</th>\n",
       "      <td>1.061494</td>\n",
       "    </tr>\n",
       "    <tr>\n",
       "      <th>std</th>\n",
       "      <td>0.829862</td>\n",
       "    </tr>\n",
       "    <tr>\n",
       "      <th>min</th>\n",
       "      <td>0.000000</td>\n",
       "    </tr>\n",
       "    <tr>\n",
       "      <th>25%</th>\n",
       "      <td>0.400000</td>\n",
       "    </tr>\n",
       "    <tr>\n",
       "      <th>50%</th>\n",
       "      <td>0.900000</td>\n",
       "    </tr>\n",
       "    <tr>\n",
       "      <th>75%</th>\n",
       "      <td>1.500000</td>\n",
       "    </tr>\n",
       "    <tr>\n",
       "      <th>max</th>\n",
       "      <td>6.100000</td>\n",
       "    </tr>\n",
       "  </tbody>\n",
       "</table>\n",
       "</div>"
      ],
      "text/plain": [
       "                       Actual difference\n",
       "Correct Ranking                         \n",
       "False           count        5796.000000\n",
       "                mean            0.796808\n",
       "                std             0.633223\n",
       "                min             0.100000\n",
       "                25%             0.300000\n",
       "                50%             0.600000\n",
       "                75%             1.100000\n",
       "                max             5.800000\n",
       "True            count       12159.000000\n",
       "                mean            1.061494\n",
       "                std             0.829862\n",
       "                min             0.000000\n",
       "                25%             0.400000\n",
       "                50%             0.900000\n",
       "                75%             1.500000\n",
       "                max             6.100000"
      ]
     },
     "execution_count": 40,
     "metadata": {},
     "output_type": "execute_result"
    }
   ],
   "source": [
    "error.groupby('Correct Ranking').describe()"
   ]
  },
  {
   "cell_type": "code",
   "execution_count": 75,
   "metadata": {
    "collapsed": false
   },
   "outputs": [
    {
     "data": {
      "text/plain": [
       "0.12219437482595377"
      ]
     },
     "execution_count": 75,
     "metadata": {},
     "output_type": "execute_result"
    }
   ],
   "source": [
    "float(len(error[(error.ranking == False) & (error.error > 1)]))/len(error)"
   ]
  },
  {
   "cell_type": "code",
   "execution_count": 76,
   "metadata": {
    "collapsed": false
   },
   "outputs": [
    {
     "data": {
      "text/plain": [
       "True     11870\n",
       "False     6085\n",
       "Name: ranking, dtype: int64"
      ]
     },
     "execution_count": 76,
     "metadata": {},
     "output_type": "execute_result"
    }
   ],
   "source": [
    "error.ranking.value_counts()"
   ]
  },
  {
   "cell_type": "markdown",
   "metadata": {
    "collapsed": true
   },
   "source": [
    "## Clustering"
   ]
  },
  {
   "cell_type": "code",
   "execution_count": 7,
   "metadata": {
    "collapsed": false
   },
   "outputs": [],
   "source": [
    "from sklearn.preprocessing import Normalizer\n",
    "pipe_genre = Pipeline([('select_genre', SelectColumn('Genre')),\n",
    "                       ('vect', CountVectorizer())])\n",
    "\n",
    "pipe_runtime = Pipeline([('select_runtime', SelectColumn('Runtime')),('sparse', ToSparse())])\n",
    "\n",
    "pipe_script = Pipeline([('select_script', SelectColumn('script')),\n",
    "                       ('union', FeatureUnion([('sentiment', SentimentMetrics()), \n",
    "                                               ('named', NamedEntities()),\n",
    "                                              ('tfidf', TfidfVectorizer(analyzer= lambda x: word_tokenize(x, how='lemma'), ngram_range=(1,2), stop_words='english',max_df=600))]))])\n",
    "\n",
    "features = FeatureUnion([('script', pipe_script), ('genre', pipe_genre), ('runtime', pipe_runtime)])\n",
    "preprocess = Pipeline([('dense', DenseTransformer()),\n",
    "                       ('nrm', Normalizer())])\n",
    "\n",
    "\n",
    "comp_pipe = Pipeline([('feat', features), ('pre', preprocess)])\n",
    "X_comps = comp_pipe.fit_transform(movie_ratings)"
   ]
  },
  {
   "cell_type": "code",
   "execution_count": 110,
   "metadata": {
    "collapsed": true
   },
   "outputs": [],
   "source": [
    "from sklearn.neighbors import KDTree\n",
    "\n",
    "kdt = KDTree(X_comps)\n",
    "\n",
    "def comps(kdt,x, r=3):\n",
    "    comps = kdt.query_radius(x, r) \n",
    "    return [movie_ratings.title[i] for i in comps[0][0:3]]"
   ]
  },
  {
   "cell_type": "code",
   "execution_count": 106,
   "metadata": {
    "collapsed": false
   },
   "outputs": [
    {
     "name": "stdout",
     "output_type": "stream",
     "text": [
      "[6]\n"
     ]
    },
    {
     "data": {
      "text/plain": [
       "[u'17 Again']"
      ]
     },
     "execution_count": 106,
     "metadata": {},
     "output_type": "execute_result"
    }
   ],
   "source": [
    "comps(kdt,np.matrix(X_comps[6,:]),r=0.05)"
   ]
  },
  {
   "cell_type": "code",
   "execution_count": 116,
   "metadata": {
    "collapsed": false
   },
   "outputs": [],
   "source": [
    "comp = []\n",
    "for i in range(movie_ratings.shape[0]):\n",
    "    temp = comps(kdt,np.matrix(X_comps[i,:]),r=0.05)\n",
    "    s = ''\n",
    "    for i in temp:\n",
    "        s += str(i) + ' ,'\n",
    "    comp.append(s)"
   ]
  },
  {
   "cell_type": "code",
   "execution_count": 117,
   "metadata": {
    "collapsed": true
   },
   "outputs": [],
   "source": [
    "movie_ratings['comps'] = pd.Series(comp)"
   ]
  },
  {
   "cell_type": "code",
   "execution_count": 121,
   "metadata": {
    "collapsed": false
   },
   "outputs": [
    {
     "data": {
      "text/html": [
       "<div>\n",
       "<table border=\"1\" class=\"dataframe\">\n",
       "  <thead>\n",
       "    <tr style=\"text-align: right;\">\n",
       "      <th></th>\n",
       "      <th>title</th>\n",
       "      <th>comps</th>\n",
       "    </tr>\n",
       "  </thead>\n",
       "  <tbody>\n",
       "    <tr>\n",
       "      <th>0</th>\n",
       "      <td>10 Things I Hate About You</td>\n",
       "      <td>10 Things I Hate About You ,</td>\n",
       "    </tr>\n",
       "    <tr>\n",
       "      <th>1</th>\n",
       "      <td>12 and Holding</td>\n",
       "      <td>American Splendor ,12 and Holding ,</td>\n",
       "    </tr>\n",
       "    <tr>\n",
       "      <th>2</th>\n",
       "      <td>12 Years a Slave</td>\n",
       "      <td>Midnight Express ,Orphan ,Metro ,</td>\n",
       "    </tr>\n",
       "    <tr>\n",
       "      <th>3</th>\n",
       "      <td>127 Hours</td>\n",
       "      <td>127 Hours ,</td>\n",
       "    </tr>\n",
       "    <tr>\n",
       "      <th>4</th>\n",
       "      <td>1492: Conquest of Paradise</td>\n",
       "      <td>1492: Conquest of Paradise ,</td>\n",
       "    </tr>\n",
       "    <tr>\n",
       "      <th>5</th>\n",
       "      <td>15 Minutes</td>\n",
       "      <td>Se7en ,Black Swan ,15 Minutes ,</td>\n",
       "    </tr>\n",
       "    <tr>\n",
       "      <th>6</th>\n",
       "      <td>17 Again</td>\n",
       "      <td>17 Again ,</td>\n",
       "    </tr>\n",
       "    <tr>\n",
       "      <th>7</th>\n",
       "      <td>187</td>\n",
       "      <td>187 ,</td>\n",
       "    </tr>\n",
       "    <tr>\n",
       "      <th>8</th>\n",
       "      <td>2001: A Space Odyssey</td>\n",
       "      <td>Fright Night ,Star Wars: The Force Awakens ,Da...</td>\n",
       "    </tr>\n",
       "    <tr>\n",
       "      <th>9</th>\n",
       "      <td>2012</td>\n",
       "      <td>2012 ,</td>\n",
       "    </tr>\n",
       "    <tr>\n",
       "      <th>10</th>\n",
       "      <td>25th Hour</td>\n",
       "      <td>25th Hour ,</td>\n",
       "    </tr>\n",
       "    <tr>\n",
       "      <th>11</th>\n",
       "      <td>30 Minutes or Less</td>\n",
       "      <td>30 Minutes or Less ,Bachelor Party ,</td>\n",
       "    </tr>\n",
       "    <tr>\n",
       "      <th>12</th>\n",
       "      <td>42</td>\n",
       "      <td>Boogie Nights ,Pet Sematary ,Warrior ,</td>\n",
       "    </tr>\n",
       "    <tr>\n",
       "      <th>13</th>\n",
       "      <td>44 Inch Chest</td>\n",
       "      <td>44 Inch Chest ,Carrie ,</td>\n",
       "    </tr>\n",
       "    <tr>\n",
       "      <th>14</th>\n",
       "      <td>50-50</td>\n",
       "      <td>50-50 ,</td>\n",
       "    </tr>\n",
       "    <tr>\n",
       "      <th>15</th>\n",
       "      <td>500 Days of Summer</td>\n",
       "      <td>500 Days of Summer ,Zerophilia ,</td>\n",
       "    </tr>\n",
       "    <tr>\n",
       "      <th>16</th>\n",
       "      <td>8MM</td>\n",
       "      <td>Gangs of New York ,Case 39 ,Men in Black ,</td>\n",
       "    </tr>\n",
       "    <tr>\n",
       "      <th>17</th>\n",
       "      <td>A Few Good Men</td>\n",
       "      <td>A Few Good Men ,</td>\n",
       "    </tr>\n",
       "    <tr>\n",
       "      <th>18</th>\n",
       "      <td>A Serious Man</td>\n",
       "      <td>A Serious Man ,</td>\n",
       "    </tr>\n",
       "    <tr>\n",
       "      <th>19</th>\n",
       "      <td>Absolute Power</td>\n",
       "      <td>Shrek the Third ,Chinatown ,Black Rain ,</td>\n",
       "    </tr>\n",
       "    <tr>\n",
       "      <th>20</th>\n",
       "      <td>Ace Ventura: Pet Detective</td>\n",
       "      <td>Ace Ventura: Pet Detective ,</td>\n",
       "    </tr>\n",
       "    <tr>\n",
       "      <th>21</th>\n",
       "      <td>Affliction</td>\n",
       "      <td>Affliction ,</td>\n",
       "    </tr>\n",
       "    <tr>\n",
       "      <th>22</th>\n",
       "      <td>After School Special</td>\n",
       "      <td>After School Special ,</td>\n",
       "    </tr>\n",
       "    <tr>\n",
       "      <th>23</th>\n",
       "      <td>After.Life</td>\n",
       "      <td>After.Life ,</td>\n",
       "    </tr>\n",
       "    <tr>\n",
       "      <th>24</th>\n",
       "      <td>Agnes of God</td>\n",
       "      <td>Agnes of God ,</td>\n",
       "    </tr>\n",
       "    <tr>\n",
       "      <th>25</th>\n",
       "      <td>Air Force One</td>\n",
       "      <td>Air Force One ,</td>\n",
       "    </tr>\n",
       "    <tr>\n",
       "      <th>26</th>\n",
       "      <td>Aladdin</td>\n",
       "      <td>Aladdin ,</td>\n",
       "    </tr>\n",
       "    <tr>\n",
       "      <th>27</th>\n",
       "      <td>Ali</td>\n",
       "      <td>Warrior ,Ali ,So I Married an Axe Murderer ,</td>\n",
       "    </tr>\n",
       "    <tr>\n",
       "      <th>28</th>\n",
       "      <td>Alien</td>\n",
       "      <td>Alien ,Hudson Hawk ,Jay and Silent Bob Strike ...</td>\n",
       "    </tr>\n",
       "    <tr>\n",
       "      <th>29</th>\n",
       "      <td>Alien 3</td>\n",
       "      <td>Alien 3 ,Tinker Tailor Soldier Spy ,</td>\n",
       "    </tr>\n",
       "    <tr>\n",
       "      <th>...</th>\n",
       "      <td>...</td>\n",
       "      <td>...</td>\n",
       "    </tr>\n",
       "    <tr>\n",
       "      <th>734</th>\n",
       "      <td>Wanted</td>\n",
       "      <td>Ghost World ,Drive Angry ,Alien Nation ,</td>\n",
       "    </tr>\n",
       "    <tr>\n",
       "      <th>735</th>\n",
       "      <td>War Horse</td>\n",
       "      <td>War Horse ,</td>\n",
       "    </tr>\n",
       "    <tr>\n",
       "      <th>736</th>\n",
       "      <td>War of the Worlds</td>\n",
       "      <td>War of the Worlds ,</td>\n",
       "    </tr>\n",
       "    <tr>\n",
       "      <th>737</th>\n",
       "      <td>Warm Springs</td>\n",
       "      <td>Warm Springs ,</td>\n",
       "    </tr>\n",
       "    <tr>\n",
       "      <th>738</th>\n",
       "      <td>Warrior</td>\n",
       "      <td>Boogie Nights ,Warrior ,Machine Gun Preacher ,</td>\n",
       "    </tr>\n",
       "    <tr>\n",
       "      <th>739</th>\n",
       "      <td>Watchmen</td>\n",
       "      <td>Inception ,Case 39 ,Men in Black ,</td>\n",
       "    </tr>\n",
       "    <tr>\n",
       "      <th>740</th>\n",
       "      <td>Water for Elephants</td>\n",
       "      <td>Timber Falls ,I Am Number Four ,G.I. Joe: The ...</td>\n",
       "    </tr>\n",
       "    <tr>\n",
       "      <th>741</th>\n",
       "      <td>What Lies Beneath</td>\n",
       "      <td>What Lies Beneath ,</td>\n",
       "    </tr>\n",
       "    <tr>\n",
       "      <th>742</th>\n",
       "      <td>When a Stranger Calls</td>\n",
       "      <td>When a Stranger Calls ,</td>\n",
       "    </tr>\n",
       "    <tr>\n",
       "      <th>743</th>\n",
       "      <td>When Harry Met Sally</td>\n",
       "      <td>Superfights ,When Harry Met Sally ,</td>\n",
       "    </tr>\n",
       "    <tr>\n",
       "      <th>744</th>\n",
       "      <td>White Squall</td>\n",
       "      <td>White Squall ,</td>\n",
       "    </tr>\n",
       "    <tr>\n",
       "      <th>745</th>\n",
       "      <td>Wild At Heart</td>\n",
       "      <td>Wild At Heart ,</td>\n",
       "    </tr>\n",
       "    <tr>\n",
       "      <th>746</th>\n",
       "      <td>Wild Hogs</td>\n",
       "      <td>Wild Hogs ,</td>\n",
       "    </tr>\n",
       "    <tr>\n",
       "      <th>747</th>\n",
       "      <td>Wild Things</td>\n",
       "      <td>Wild Things ,</td>\n",
       "    </tr>\n",
       "    <tr>\n",
       "      <th>748</th>\n",
       "      <td>Wild Things: Diamonds in the Rough</td>\n",
       "      <td>Ringu ,Eight Legged Freaks ,Wild Things: Diamo...</td>\n",
       "    </tr>\n",
       "    <tr>\n",
       "      <th>749</th>\n",
       "      <td>Wild Wild West</td>\n",
       "      <td>Wild Wild West ,</td>\n",
       "    </tr>\n",
       "    <tr>\n",
       "      <th>750</th>\n",
       "      <td>Willow</td>\n",
       "      <td>Willow ,In the Loop ,</td>\n",
       "    </tr>\n",
       "    <tr>\n",
       "      <th>751</th>\n",
       "      <td>Win Win</td>\n",
       "      <td>Win Win ,</td>\n",
       "    </tr>\n",
       "    <tr>\n",
       "      <th>752</th>\n",
       "      <td>Wind Chill</td>\n",
       "      <td>Wind Chill ,Death to Smoochy ,</td>\n",
       "    </tr>\n",
       "    <tr>\n",
       "      <th>753</th>\n",
       "      <td>Witness</td>\n",
       "      <td>Witness ,</td>\n",
       "    </tr>\n",
       "    <tr>\n",
       "      <th>754</th>\n",
       "      <td>Wizard of Oz, The</td>\n",
       "      <td>Wizard of Oz, The ,</td>\n",
       "    </tr>\n",
       "    <tr>\n",
       "      <th>755</th>\n",
       "      <td>Wonder Boys</td>\n",
       "      <td>Wonder Boys ,Crazy, Stupid, Love ,</td>\n",
       "    </tr>\n",
       "    <tr>\n",
       "      <th>756</th>\n",
       "      <td>X-Men Origins: Wolverine</td>\n",
       "      <td>X-Men Origins: Wolverine ,</td>\n",
       "    </tr>\n",
       "    <tr>\n",
       "      <th>757</th>\n",
       "      <td>xXx</td>\n",
       "      <td>Catch Me If You Can ,Darkman ,American Hustle ,</td>\n",
       "    </tr>\n",
       "    <tr>\n",
       "      <th>758</th>\n",
       "      <td>Yes Man</td>\n",
       "      <td>Yes Man ,</td>\n",
       "    </tr>\n",
       "    <tr>\n",
       "      <th>759</th>\n",
       "      <td>You Can Count On Me</td>\n",
       "      <td>You Can Count On Me ,</td>\n",
       "    </tr>\n",
       "    <tr>\n",
       "      <th>760</th>\n",
       "      <td>You've Got Mail</td>\n",
       "      <td>Shadow of the Vampire ,Almost Famous ,Leaving ...</td>\n",
       "    </tr>\n",
       "    <tr>\n",
       "      <th>761</th>\n",
       "      <td>Youth in Revolt</td>\n",
       "      <td>Youth in Revolt ,Easy A ,</td>\n",
       "    </tr>\n",
       "    <tr>\n",
       "      <th>762</th>\n",
       "      <td>Zero Dark Thirty</td>\n",
       "      <td>Zero Dark Thirty ,</td>\n",
       "    </tr>\n",
       "    <tr>\n",
       "      <th>763</th>\n",
       "      <td>Zerophilia</td>\n",
       "      <td>Lord of War ,500 Days of Summer ,Zerophilia ,</td>\n",
       "    </tr>\n",
       "  </tbody>\n",
       "</table>\n",
       "<p>764 rows × 2 columns</p>\n",
       "</div>"
      ],
      "text/plain": [
       "                                  title  \\\n",
       "0            10 Things I Hate About You   \n",
       "1                        12 and Holding   \n",
       "2                      12 Years a Slave   \n",
       "3                             127 Hours   \n",
       "4            1492: Conquest of Paradise   \n",
       "5                            15 Minutes   \n",
       "6                              17 Again   \n",
       "7                                   187   \n",
       "8                 2001: A Space Odyssey   \n",
       "9                                  2012   \n",
       "10                            25th Hour   \n",
       "11                   30 Minutes or Less   \n",
       "12                                   42   \n",
       "13                        44 Inch Chest   \n",
       "14                                50-50   \n",
       "15                   500 Days of Summer   \n",
       "16                                  8MM   \n",
       "17                       A Few Good Men   \n",
       "18                        A Serious Man   \n",
       "19                       Absolute Power   \n",
       "20           Ace Ventura: Pet Detective   \n",
       "21                           Affliction   \n",
       "22                 After School Special   \n",
       "23                           After.Life   \n",
       "24                         Agnes of God   \n",
       "25                        Air Force One   \n",
       "26                              Aladdin   \n",
       "27                                  Ali   \n",
       "28                                Alien   \n",
       "29                              Alien 3   \n",
       "..                                  ...   \n",
       "734                              Wanted   \n",
       "735                           War Horse   \n",
       "736                   War of the Worlds   \n",
       "737                        Warm Springs   \n",
       "738                             Warrior   \n",
       "739                            Watchmen   \n",
       "740                 Water for Elephants   \n",
       "741                   What Lies Beneath   \n",
       "742               When a Stranger Calls   \n",
       "743                When Harry Met Sally   \n",
       "744                        White Squall   \n",
       "745                       Wild At Heart   \n",
       "746                           Wild Hogs   \n",
       "747                         Wild Things   \n",
       "748  Wild Things: Diamonds in the Rough   \n",
       "749                      Wild Wild West   \n",
       "750                              Willow   \n",
       "751                             Win Win   \n",
       "752                          Wind Chill   \n",
       "753                             Witness   \n",
       "754                   Wizard of Oz, The   \n",
       "755                         Wonder Boys   \n",
       "756            X-Men Origins: Wolverine   \n",
       "757                                 xXx   \n",
       "758                             Yes Man   \n",
       "759                 You Can Count On Me   \n",
       "760                     You've Got Mail   \n",
       "761                     Youth in Revolt   \n",
       "762                    Zero Dark Thirty   \n",
       "763                          Zerophilia   \n",
       "\n",
       "                                                 comps  \n",
       "0                         10 Things I Hate About You ,  \n",
       "1                  American Splendor ,12 and Holding ,  \n",
       "2                    Midnight Express ,Orphan ,Metro ,  \n",
       "3                                          127 Hours ,  \n",
       "4                         1492: Conquest of Paradise ,  \n",
       "5                      Se7en ,Black Swan ,15 Minutes ,  \n",
       "6                                           17 Again ,  \n",
       "7                                                187 ,  \n",
       "8    Fright Night ,Star Wars: The Force Awakens ,Da...  \n",
       "9                                               2012 ,  \n",
       "10                                         25th Hour ,  \n",
       "11                30 Minutes or Less ,Bachelor Party ,  \n",
       "12              Boogie Nights ,Pet Sematary ,Warrior ,  \n",
       "13                             44 Inch Chest ,Carrie ,  \n",
       "14                                             50-50 ,  \n",
       "15                    500 Days of Summer ,Zerophilia ,  \n",
       "16          Gangs of New York ,Case 39 ,Men in Black ,  \n",
       "17                                    A Few Good Men ,  \n",
       "18                                     A Serious Man ,  \n",
       "19            Shrek the Third ,Chinatown ,Black Rain ,  \n",
       "20                        Ace Ventura: Pet Detective ,  \n",
       "21                                        Affliction ,  \n",
       "22                              After School Special ,  \n",
       "23                                        After.Life ,  \n",
       "24                                      Agnes of God ,  \n",
       "25                                     Air Force One ,  \n",
       "26                                           Aladdin ,  \n",
       "27        Warrior ,Ali ,So I Married an Axe Murderer ,  \n",
       "28   Alien ,Hudson Hawk ,Jay and Silent Bob Strike ...  \n",
       "29                Alien 3 ,Tinker Tailor Soldier Spy ,  \n",
       "..                                                 ...  \n",
       "734           Ghost World ,Drive Angry ,Alien Nation ,  \n",
       "735                                        War Horse ,  \n",
       "736                                War of the Worlds ,  \n",
       "737                                     Warm Springs ,  \n",
       "738     Boogie Nights ,Warrior ,Machine Gun Preacher ,  \n",
       "739                 Inception ,Case 39 ,Men in Black ,  \n",
       "740  Timber Falls ,I Am Number Four ,G.I. Joe: The ...  \n",
       "741                                What Lies Beneath ,  \n",
       "742                            When a Stranger Calls ,  \n",
       "743                Superfights ,When Harry Met Sally ,  \n",
       "744                                     White Squall ,  \n",
       "745                                    Wild At Heart ,  \n",
       "746                                        Wild Hogs ,  \n",
       "747                                      Wild Things ,  \n",
       "748  Ringu ,Eight Legged Freaks ,Wild Things: Diamo...  \n",
       "749                                   Wild Wild West ,  \n",
       "750                              Willow ,In the Loop ,  \n",
       "751                                          Win Win ,  \n",
       "752                     Wind Chill ,Death to Smoochy ,  \n",
       "753                                          Witness ,  \n",
       "754                                Wizard of Oz, The ,  \n",
       "755                 Wonder Boys ,Crazy, Stupid, Love ,  \n",
       "756                         X-Men Origins: Wolverine ,  \n",
       "757    Catch Me If You Can ,Darkman ,American Hustle ,  \n",
       "758                                          Yes Man ,  \n",
       "759                              You Can Count On Me ,  \n",
       "760  Shadow of the Vampire ,Almost Famous ,Leaving ...  \n",
       "761                          Youth in Revolt ,Easy A ,  \n",
       "762                                 Zero Dark Thirty ,  \n",
       "763      Lord of War ,500 Days of Summer ,Zerophilia ,  \n",
       "\n",
       "[764 rows x 2 columns]"
      ]
     },
     "execution_count": 121,
     "metadata": {},
     "output_type": "execute_result"
    }
   ],
   "source": [
    "movie_ratings[['title', 'comps']]"
   ]
  }
 ],
 "metadata": {
  "anaconda-cloud": {},
  "kernelspec": {
   "display_name": "Python [Root]",
   "language": "python",
   "name": "Python [Root]"
  },
  "language_info": {
   "codemirror_mode": {
    "name": "ipython",
    "version": 2
   },
   "file_extension": ".py",
   "mimetype": "text/x-python",
   "name": "python",
   "nbconvert_exporter": "python",
   "pygments_lexer": "ipython2",
   "version": "2.7.12"
  }
 },
 "nbformat": 4,
 "nbformat_minor": 0
}
