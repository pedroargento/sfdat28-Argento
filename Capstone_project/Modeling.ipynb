{
 "cells": [
  {
   "cell_type": "markdown",
   "metadata": {
    "collapsed": false
   },
   "source": [
    "# Movie Script automatic reader"
   ]
  },
  {
   "cell_type": "code",
   "execution_count": 1,
   "metadata": {
    "collapsed": true
   },
   "outputs": [],
   "source": [
    "# -*- coding: utf-8 -*-\n",
    "import pandas as pd\n",
    "import scipy as sp\n",
    "import numpy as np\n",
    "\n",
    "from sklearn.feature_extraction.text import CountVectorizer, TfidfVectorizer\n",
    "from sklearn.linear_model import LogisticRegression\n",
    "from sklearn.linear_model import LinearRegression\n",
    "\n",
    "\n",
    "import nltk\n",
    "from nltk.corpus import stopwords\n",
    "from nltk.tag import pos_tag\n",
    "from textblob import TextBlob, Word\n",
    "\n",
    "from sklearn.pipeline import Pipeline, FeatureUnion\n",
    "from sklearn.base import BaseEstimator\n",
    "from sklearn.base import ClassifierMixin\n",
    "from sklearn.base import TransformerMixin\n",
    "from sklearn.preprocessing import StandardScaler\n",
    "\n",
    "from sklearn.cross_validation import cross_val_score\n",
    "from sklearn.grid_search import GridSearchCV"
   ]
  },
  {
   "cell_type": "code",
   "execution_count": 16,
   "metadata": {
    "collapsed": true
   },
   "outputs": [],
   "source": [
    "import os\n",
    "import sys\n",
    "os.environ['SPARK_HOME'] = \"C:\\Users\\Pedro\\Downloads\\spark-2.0.2-bin-hadoop2.7\\spark-2.0.2-bin-hadoop2.7\"\n",
    "sys.path.append(\"C:\\Users\\Pedro\\Downloads\\spark-2.0.2-bin-hadoop2.7\\spark-2.0.2-bin-hadoop2.7\\python\")\n",
    "sys.path.append(\"C:\\Users\\Pedro\\Downloads\\spark-2.0.2-bin-hadoop2.7\\spark-2.0.2-bin-hadoop2.7\\python\\lib\\py4j-0.8.2.1-src.zip\")\n",
    "\n",
    "#from spark_sklearn import GridSearchCV"
   ]
  },
  {
   "cell_type": "code",
   "execution_count": 2,
   "metadata": {
    "collapsed": false
   },
   "outputs": [],
   "source": [
    "movie_ratings = pd.read_pickle('movie_ratings.pkl')"
   ]
  },
  {
   "cell_type": "code",
   "execution_count": 3,
   "metadata": {
    "collapsed": false
   },
   "outputs": [],
   "source": [
    "movie_ratings['Runtime'] = movie_ratings.Runtime.apply(lambda x: int(x.replace('min','')) )"
   ]
  },
  {
   "cell_type": "code",
   "execution_count": 55,
   "metadata": {
    "collapsed": false
   },
   "outputs": [],
   "source": [
    "class SentimentMetrics(TransformerMixin):\n",
    "    def changes (self, sentiments):\n",
    "        N_changes = 0\n",
    "        for i in range(len(sentiments)-1):\n",
    "            if sentiments[i]*sentiments[i+1] < 0:\n",
    "                N_changes+=1\n",
    "        return N_changes     \n",
    "    \n",
    "    def sentiment(self, script, pages = 100, ma = 5):\n",
    "        #Creates a moving average of the sentiment polarity of the script pages (or %)\n",
    "        sentiment = []\n",
    "        for i in range(pages+1-ma):\n",
    "            sentiment.append(TextBlob(script[i*len(script)/pages:(i+ma)*len(script)/pages]).sentiment.polarity)\n",
    "        return sentiment    \n",
    "        \n",
    "    def transform(self, X, **transform_params):  \n",
    "        S = X.apply(lambda x: SentimentMetrics.sentiment(self, x))\n",
    "        sentiment_dic = {\n",
    "       'Range': S.apply(lambda x: max(x) - min(x)),\n",
    "       #'Sentiment_avg': S.apply(lambda x: x.mean()),\n",
    "       #'Sentiment_std': S.apply(lambda x: x.std()),\n",
    "       'Max_sentiment': S.apply(lambda x: max(x)),\n",
    "       'Max_sentiment_loc': S.apply(lambda x: x.index(max(x))),\n",
    "       'Min_sentiment': S.apply(lambda x: min(x)),\n",
    "       'Min_sentiment_loc': S.apply(lambda x: x.index(min(x))),\n",
    "       'Max_pos_change': S.apply(lambda x: pd.Series(x).diff(1).max()),\n",
    "       'Max_pos_loc': S.apply(lambda x: list(pd.Series(x).diff(1)).index(pd.Series(x).diff(1).max())),\n",
    "       'Max_neg_change': S.apply(lambda x: pd.Series(x).diff(1).min()),\n",
    "       'Max_neg_loc': S.apply(lambda x: list(pd.Series(x).diff(1)).index(pd.Series(x).diff(1).min())),\n",
    "       'Begin_sentiment': S.apply(lambda x: x[0]),\n",
    "       'End_sentiment': S.apply(lambda x: x[-1]),\n",
    "       'Total_change': S.apply(lambda x: x[-1] - x[0]),\n",
    "       'plot_twist_index': S.apply(lambda x: (max(x[-10:]) - min(x[-10:]))/(max(x[:-10]) - min(x[:-10]) + 0.01)),\n",
    "       'pol_changes': S.apply(lambda x: SentimentMetrics.changes(self, x))\n",
    "        }\n",
    "            \n",
    "        return sp.sparse.csr_matrix(pd.DataFrame(sentiment_dic).astype(float))\n",
    "    \n",
    "        \n",
    "    \n",
    "    def fit(self, X, y=None, **fit_params):\n",
    "        return self      \n",
    "\n",
    "class NamedEntities(TransformerMixin):        \n",
    "    def number_entities(self, text):\n",
    "        upper = [i for i in TextBlob(text).words if (i.isupper() and i.lower() not in stopwords.words('english'))]\n",
    "        tagged = pos_tag(upper)\n",
    "        return len(set([word for word,pos in tagged if pos == 'NNP']))\n",
    "    \n",
    "    def transform (self, X):\n",
    "        return pd.DataFrame(X.apply(lambda x: NamedEntities.number_entities(self,x)))\n",
    "    \n",
    "    def fit(self, X, y=None, **fit_params):\n",
    "        return self      \n",
    "        \n",
    "class ToSparse(TransformerMixin):        \n",
    "    def transform (self, X):\n",
    "        return sp.sparse.csr_matrix(X).T\n",
    "        \n",
    "    def fit_transform(self, X, y=None, **fit_params):\n",
    "        self.fit(X, y, **fit_params)\n",
    "        return self.transform(X)    \n",
    "    \n",
    "    def fit(self, X, y=None, **fit_params):\n",
    "        return self     \n",
    "\n",
    "class SelectColumn(TransformerMixin):\n",
    "    def __init__(self, column):\n",
    "        self.column = column\n",
    "        \n",
    "    def transform(self, X, **transform_params):\n",
    "        return X[self.column]\n",
    "    \n",
    "    def fit(self, X, y=None, **fit_params):\n",
    "        return self      \n",
    "\n",
    "from nltk.stem.snowball import SnowballStemmer\n",
    "stemmer = SnowballStemmer('english')\n",
    "def word_tokenize(text, how='lemma'):\n",
    "    words = TextBlob(text).words\n",
    "    if how == 'lemma':\n",
    "        return [word.lemmatize() for word in words]\n",
    "    elif how == 'stem':\n",
    "        return [stemmer.stem(word) for word in words]\n",
    "    \n",
    "def sentence_tokenize(text):\n",
    "    words = TextBlob(text.replace(',', '.')).sentences\n",
    "    return [word for word in words]\n",
    "   \n",
    "from sklearn import decomposition\n",
    "\n",
    "from sklearn.base import BaseEstimator\n",
    "class DenseTransformer(TransformerMixin, BaseEstimator):\n",
    "\n",
    "    def transform(self, X, y=None, **fit_params):\n",
    "        return X.todense()\n",
    "\n",
    "    def fit_transform(self, X, y=None, **fit_params):\n",
    "        self.fit(X, y, **fit_params)\n",
    "        return self.transform(X)\n",
    "\n",
    "    def fit(self, X, y=None, **fit_params):\n",
    "        return self"
   ]
  },
  {
   "cell_type": "code",
   "execution_count": 59,
   "metadata": {
    "collapsed": false
   },
   "outputs": [],
   "source": [
    "pipe_genre = Pipeline([('select_genre', SelectColumn('Genre')),\n",
    "                       ('vect', CountVectorizer())])\n",
    "\n",
    "pipe_runtime = Pipeline([('select_runtime', SelectColumn('Runtime')),('sparse', ToSparse())])\n",
    "\n",
    "pipe_script = Pipeline([('select_script', SelectColumn('script')),\n",
    "                       ('union', FeatureUnion([('sentiment', SentimentMetrics()), \n",
    "                                               ('named', NamedEntities())]))])\n",
    "\n",
    "features = FeatureUnion([('script', pipe_script), ('genre', pipe_genre), ('runtime', pipe_runtime)])\n",
    "preprocess = Pipeline([('dense', DenseTransformer()),\n",
    "                       ('zscore', StandardScaler())])"
   ]
  },
  {
   "cell_type": "code",
   "execution_count": 60,
   "metadata": {
    "collapsed": false
   },
   "outputs": [],
   "source": [
    "X = features.fit_transform(movie_ratings)"
   ]
  },
  {
   "cell_type": "code",
   "execution_count": 61,
   "metadata": {
    "collapsed": true
   },
   "outputs": [],
   "source": [
    "y = movie_ratings.imdbRating    "
   ]
  },
  {
   "cell_type": "code",
   "execution_count": 62,
   "metadata": {
    "collapsed": true
   },
   "outputs": [],
   "source": [
    "import cPickle as pickle\n",
    "with open('test_sparse_array.dat', 'wb') as outfile:\n",
    "    pickle.dump(X, outfile, pickle.HIGHEST_PROTOCOL)"
   ]
  },
  {
   "cell_type": "code",
   "execution_count": 6,
   "metadata": {
    "collapsed": true
   },
   "outputs": [],
   "source": [
    "##DELETE AFTER##\n",
    "#import cPickle as pickle\n",
    "#with open('test_sparse_array.dat', 'rb') as infile:\n",
    "#    X = pickle.load(infile)\n",
    "#y = movie_ratings.imdbRating    "
   ]
  },
  {
   "cell_type": "markdown",
   "metadata": {},
   "source": [
    "### Random Forest"
   ]
  },
  {
   "cell_type": "code",
   "execution_count": 63,
   "metadata": {
    "collapsed": false
   },
   "outputs": [
    {
     "name": "stdout",
     "output_type": "stream",
     "text": [
      "-0.653416058959\n",
      "{'forest__max_features': 24, 'forest__n_estimators': 50, 'forest__max_depth': 14}\n"
     ]
    }
   ],
   "source": [
    "from sklearn.ensemble import RandomForestRegressor\n",
    "rfreg = RandomForestRegressor()\n",
    "\n",
    "pipe = Pipeline([('preprocess', preprocess), ('forest', rfreg)])\n",
    "\n",
    "param_grid = dict(forest__max_depth = range(1,21), forest__max_features = range(1, X.shape[1] +1), forest__n_estimators = range(10,140,20))\n",
    "grid = GridSearchCV(pipe, param_grid, scoring='mean_absolute_error', n_jobs=1)\n",
    "grid.fit(X, y)\n",
    "\n",
    "print grid.best_score_\n",
    "#-0.653416058959\n",
    "print grid.best_params_\n",
    "#{'forest__max_features': 24, 'forest__n_estimators': 50, 'forest__max_depth': 14}\n"
   ]
  },
  {
   "cell_type": "markdown",
   "metadata": {},
   "source": [
    "## Decision Tree"
   ]
  },
  {
   "cell_type": "code",
   "execution_count": 64,
   "metadata": {
    "collapsed": false
   },
   "outputs": [
    {
     "name": "stdout",
     "output_type": "stream",
     "text": [
      "-0.672306883255\n",
      "{'tree__max_depth': 2, 'tree__max_features': 11, 'tree__min_samples_leaf': 3}\n"
     ]
    }
   ],
   "source": [
    "from sklearn.tree import DecisionTreeRegressor\n",
    "treereg = DecisionTreeRegressor()\n",
    "\n",
    "pipe_tree = Pipeline([('preprocess', preprocess), ('tree', treereg)])\n",
    "\n",
    "param_grid = {'tree__max_depth': range(1,21), 'tree__max_features': range(1, X.shape[1] +1), 'tree__min_samples_leaf': range(1,6)}\n",
    "grid = GridSearchCV(pipe_tree, param_grid, scoring='mean_absolute_error')\n",
    "grid.fit(X, y)\n",
    "print grid.best_score_\n",
    "#-0.672306883255\n",
    "print grid.best_params_\n",
    "#{'tree__max_depth': 2, 'tree__max_features': 11, 'tree__min_samples_leaf': 3}"
   ]
  },
  {
   "cell_type": "markdown",
   "metadata": {},
   "source": [
    "## SGD Regressor"
   ]
  },
  {
   "cell_type": "code",
   "execution_count": 65,
   "metadata": {
    "collapsed": false
   },
   "outputs": [
    {
     "name": "stdout",
     "output_type": "stream",
     "text": [
      "{'sgd__n_iter': 10000, 'sgd__penalty': 'elasticnet', 'sgd__loss': 'squared_loss', 'sgd__alpha': 0.1}\n",
      "-0.652633288235\n"
     ]
    }
   ],
   "source": [
    "from sklearn.linear_model import SGDRegressor\n",
    "sgd = SGDRegressor()\n",
    "\n",
    "pipe_sgd = Pipeline([('preprocess', preprocess), ('sgd', sgd)])\n",
    "\n",
    "parameters = {'sgd__loss':('squared_loss', 'huber', 'epsilon_insensitive',  'squared_epsilon_insensitive'), \n",
    "              'sgd__penalty':('none', 'l2', 'l1', 'elasticnet'),\n",
    "              'sgd__alpha': (1e-4,1e-3,1e-2,1e-1,1,1e1),\n",
    "              'sgd__n_iter': (100, 1000, 10000)\n",
    "             }\n",
    "clf = GridSearchCV(pipe_sgd, parameters, scoring='mean_absolute_error')\n",
    "clf.fit(X,movie_ratings.imdbRating)\n",
    "\n",
    "print clf.best_params_\n",
    "#{'sgd__n_iter': 10000, 'sgd__penalty': 'elasticnet', 'sgd__loss': 'squared_loss', 'sgd__alpha': 0.1}\n",
    "print clf.best_score_\n",
    "#-0.652633288235"
   ]
  },
  {
   "cell_type": "markdown",
   "metadata": {},
   "source": [
    "## Essemble Regressor"
   ]
  },
  {
   "cell_type": "code",
   "execution_count": 66,
   "metadata": {
    "collapsed": false
   },
   "outputs": [],
   "source": [
    "class EnsembleRegressor(BaseEstimator, ClassifierMixin):\n",
    "    def __init__(self, models, weights=None):\n",
    "        self.models = models\n",
    "        self.weights = weights\n",
    "\n",
    "    def fit(self, X, y):\n",
    "        for model in self.models:\n",
    "            model.fit(X, y)\n",
    "\n",
    "    def predict(self, X):\n",
    "        self.pred_ = np.asarray([model.predict(X) for model in self.models])\n",
    "        if self.weights:\n",
    "            avg = np.average(self.pred_, axis=0, weights=self.weights)\n",
    "        else:\n",
    "            avg = np.average(self.pred_, axis=0)\n",
    "        return avg"
   ]
  },
  {
   "cell_type": "code",
   "execution_count": 68,
   "metadata": {
    "collapsed": false
   },
   "outputs": [
    {
     "name": "stdout",
     "output_type": "stream",
     "text": [
      "{'reg__weights': [1, 0, 1]}\n",
      "-0.64946047946\n"
     ]
    }
   ],
   "source": [
    "from sklearn.ensemble import RandomForestRegressor\n",
    "rfreg = RandomForestRegressor(max_features= 14, n_estimators= 50, max_depth= 24)\n",
    "treereg = DecisionTreeRegressor(max_depth= 2, max_features= 11, min_samples_leaf= 3)\n",
    "sgd = SGDRegressor(n_iter= 10000, penalty= 'elasticnet', loss= 'squared_loss', alpha= 0.1)\n",
    "\n",
    "models = [rfreg, treereg, sgd]\n",
    "reg = EnsembleRegressor(models)\n",
    "\n",
    "pipe_reg = Pipeline([('preprocess', preprocess), ('reg', reg)])\n",
    "\n",
    "params = {'reg__weights': [[1,1,1],[2,1,1],[1,2,1],[1,1,2],[1,0,1]]}\n",
    "grid = GridSearchCV(pipe_reg, params, cv=5, scoring='mean_absolute_error')\n",
    "grid.fit(X,movie_ratings.imdbRating)\n",
    "\n",
    "print grid.best_params_\n",
    "#{'reg__weights': [1, 1, 1]}\n",
    "print grid.best_score_\n",
    "#-0.650362976479"
   ]
  },
  {
   "cell_type": "markdown",
   "metadata": {},
   "source": [
    "## Some metrics"
   ]
  },
  {
   "cell_type": "code",
   "execution_count": 69,
   "metadata": {
    "collapsed": false
   },
   "outputs": [],
   "source": [
    "from sklearn.cross_validation import train_test_split\n",
    "from sklearn.ensemble import RandomForestRegressor\n",
    "from sklearn.tree import DecisionTreeRegressor\n",
    "from sklearn.linear_model import SGDRegressor\n",
    "\n",
    "\n",
    "\n",
    "models = [rfreg, treereg, sgd]\n",
    "\n",
    "\n",
    "Xtrain, Xtest, ytrain, ytest = train_test_split(X,y)\n",
    "reg = EnsembleRegressor(models, [1,0,1])\n",
    "pipe_reg = Pipeline([('preprocess', preprocess), ('reg', reg)])"
   ]
  },
  {
   "cell_type": "code",
   "execution_count": 70,
   "metadata": {
    "collapsed": false
   },
   "outputs": [],
   "source": [
    "pipe_reg.fit(Xtrain,ytrain)\n",
    "ypred = pipe_reg.predict(Xtest)"
   ]
  },
  {
   "cell_type": "code",
   "execution_count": 71,
   "metadata": {
    "collapsed": true
   },
   "outputs": [],
   "source": [
    "Results = pd.DataFrame({'Actual': np.array(ytest), 'Predicted': ypred}, index=range(len(ytest)))\n",
    "Results['RMSE'] = np.abs(Results.Actual - Results.Predicted)"
   ]
  },
  {
   "cell_type": "code",
   "execution_count": 72,
   "metadata": {
    "collapsed": false
   },
   "outputs": [
    {
     "data": {
      "text/plain": [
       "[<matplotlib.lines.Line2D at 0x253ba4e0>]"
      ]
     },
     "execution_count": 72,
     "metadata": {},
     "output_type": "execute_result"
    },
    {
     "data": {
      "image/png": "[encoded data removed]",
      "text/plain": [
       "<matplotlib.figure.Figure at 0x25235f60>"
      ]
     },
     "metadata": {},
     "output_type": "display_data"
    }
   ],
   "source": [
    "import seaborn as sns\n",
    "import matplotlib.pyplot as plt\n",
    "%matplotlib inline\n",
    "pair = sns.pairplot(Results, x_vars=['Predicted'],y_vars = 'Actual', size=6)\n",
    "\n",
    "plt.plot([0, 10], [0, 10], linewidth=2)"
   ]
  },
  {
   "cell_type": "code",
   "execution_count": 73,
   "metadata": {
    "collapsed": false
   },
   "outputs": [],
   "source": [
    "ranking = []\n",
    "dif = []\n",
    "for i in range(len(Results)-1):\n",
    "    for j in range(len(Results)-1):\n",
    "        if j>i:\n",
    "            ranking.append((Results.Predicted[i]-Results.Predicted[j])*(Results.Actual[i] - Results.Actual[j])>=0)\n",
    "            dif.append(np.abs(np.abs((Results.Actual[i] - Results.Actual[j]))))\n",
    "error = pd.DataFrame(ranking, columns = ['ranking'])\n",
    "error['error'] = dif\n",
    "   "
   ]
  },
  {
   "cell_type": "code",
   "execution_count": 74,
   "metadata": {
    "collapsed": false
   },
   "outputs": [
    {
     "data": {
      "text/html": [
       "<div>\n",
       "<table border=\"1\" class=\"dataframe\">\n",
       "  <thead>\n",
       "    <tr style=\"text-align: right;\">\n",
       "      <th></th>\n",
       "      <th></th>\n",
       "      <th>error</th>\n",
       "    </tr>\n",
       "    <tr>\n",
       "      <th>ranking</th>\n",
       "      <th></th>\n",
       "      <th></th>\n",
       "    </tr>\n",
       "  </thead>\n",
       "  <tbody>\n",
       "    <tr>\n",
       "      <th rowspan=\"8\" valign=\"top\">False</th>\n",
       "      <th>count</th>\n",
       "      <td>6085.000000</td>\n",
       "    </tr>\n",
       "    <tr>\n",
       "      <th>mean</th>\n",
       "      <td>0.951734</td>\n",
       "    </tr>\n",
       "    <tr>\n",
       "      <th>std</th>\n",
       "      <td>0.752174</td>\n",
       "    </tr>\n",
       "    <tr>\n",
       "      <th>min</th>\n",
       "      <td>0.100000</td>\n",
       "    </tr>\n",
       "    <tr>\n",
       "      <th>25%</th>\n",
       "      <td>0.400000</td>\n",
       "    </tr>\n",
       "    <tr>\n",
       "      <th>50%</th>\n",
       "      <td>0.800000</td>\n",
       "    </tr>\n",
       "    <tr>\n",
       "      <th>75%</th>\n",
       "      <td>1.300000</td>\n",
       "    </tr>\n",
       "    <tr>\n",
       "      <th>max</th>\n",
       "      <td>4.700000</td>\n",
       "    </tr>\n",
       "    <tr>\n",
       "      <th rowspan=\"8\" valign=\"top\">True</th>\n",
       "      <th>count</th>\n",
       "      <td>11870.000000</td>\n",
       "    </tr>\n",
       "    <tr>\n",
       "      <th>mean</th>\n",
       "      <td>1.205670</td>\n",
       "    </tr>\n",
       "    <tr>\n",
       "      <th>std</th>\n",
       "      <td>0.916657</td>\n",
       "    </tr>\n",
       "    <tr>\n",
       "      <th>min</th>\n",
       "      <td>0.000000</td>\n",
       "    </tr>\n",
       "    <tr>\n",
       "      <th>25%</th>\n",
       "      <td>0.500000</td>\n",
       "    </tr>\n",
       "    <tr>\n",
       "      <th>50%</th>\n",
       "      <td>1.000000</td>\n",
       "    </tr>\n",
       "    <tr>\n",
       "      <th>75%</th>\n",
       "      <td>1.700000</td>\n",
       "    </tr>\n",
       "    <tr>\n",
       "      <th>max</th>\n",
       "      <td>6.100000</td>\n",
       "    </tr>\n",
       "  </tbody>\n",
       "</table>\n",
       "</div>"
      ],
      "text/plain": [
       "                      error\n",
       "ranking                    \n",
       "False   count   6085.000000\n",
       "        mean       0.951734\n",
       "        std        0.752174\n",
       "        min        0.100000\n",
       "        25%        0.400000\n",
       "        50%        0.800000\n",
       "        75%        1.300000\n",
       "        max        4.700000\n",
       "True    count  11870.000000\n",
       "        mean       1.205670\n",
       "        std        0.916657\n",
       "        min        0.000000\n",
       "        25%        0.500000\n",
       "        50%        1.000000\n",
       "        75%        1.700000\n",
       "        max        6.100000"
      ]
     },
     "execution_count": 74,
     "metadata": {},
     "output_type": "execute_result"
    }
   ],
   "source": [
    "error.groupby('ranking').describe()"
   ]
  },
  {
   "cell_type": "code",
   "execution_count": 75,
   "metadata": {
    "collapsed": false
   },
   "outputs": [
    {
     "data": {
      "text/plain": [
       "0.12219437482595377"
      ]
     },
     "execution_count": 75,
     "metadata": {},
     "output_type": "execute_result"
    }
   ],
   "source": [
    "float(len(error[(error.ranking == False) & (error.error > 1)]))/len(error)"
   ]
  },
  {
   "cell_type": "code",
   "execution_count": 76,
   "metadata": {
    "collapsed": false
   },
   "outputs": [
    {
     "data": {
      "text/plain": [
       "True     11870\n",
       "False     6085\n",
       "Name: ranking, dtype: int64"
      ]
     },
     "execution_count": 76,
     "metadata": {},
     "output_type": "execute_result"
    }
   ],
   "source": [
    "error.ranking.value_counts()"
   ]
  },
  {
   "cell_type": "markdown",
   "metadata": {
    "collapsed": true
   },
   "source": [
    "## Summarizing"
   ]
  },
  {
   "cell_type": "code",
   "execution_count": 8,
   "metadata": {
    "collapsed": false
   },
   "outputs": [
    {
     "ename": "NameError",
     "evalue": "name 'movies' is not defined",
     "output_type": "error",
     "traceback": [
      "\u001b[1;31m---------------------------------------------------------------------------\u001b[0m",
      "\u001b[1;31mNameError\u001b[0m                                 Traceback (most recent call last)",
      "\u001b[1;32m<ipython-input-8-adf28b06a11a>\u001b[0m in \u001b[0;36m<module>\u001b[1;34m()\u001b[0m\n\u001b[0;32m      1\u001b[0m \u001b[0mvect\u001b[0m \u001b[1;33m=\u001b[0m \u001b[0mTfidfVectorizer\u001b[0m\u001b[1;33m(\u001b[0m\u001b[0mstop_words\u001b[0m \u001b[1;33m=\u001b[0m \u001b[1;34m'english'\u001b[0m\u001b[1;33m,\u001b[0m \u001b[0mngram_range\u001b[0m \u001b[1;33m=\u001b[0m\u001b[1;33m(\u001b[0m\u001b[1;36m1\u001b[0m\u001b[1;33m,\u001b[0m\u001b[1;36m3\u001b[0m\u001b[1;33m)\u001b[0m\u001b[1;33m,\u001b[0m \u001b[0mmin_df\u001b[0m \u001b[1;33m=\u001b[0m \u001b[1;36m5\u001b[0m\u001b[1;33m,\u001b[0m \u001b[0mmax_df\u001b[0m \u001b[1;33m=\u001b[0m \u001b[1;36m500\u001b[0m\u001b[1;33m)\u001b[0m\u001b[1;33m\u001b[0m\u001b[0m\n\u001b[1;32m----> 2\u001b[1;33m \u001b[0mtfidf\u001b[0m \u001b[1;33m=\u001b[0m \u001b[0mvect\u001b[0m\u001b[1;33m.\u001b[0m\u001b[0mfit_transform\u001b[0m\u001b[1;33m(\u001b[0m\u001b[0mmovies\u001b[0m\u001b[1;33m.\u001b[0m\u001b[0mscript\u001b[0m\u001b[1;33m)\u001b[0m\u001b[1;33m\u001b[0m\u001b[0m\n\u001b[0m\u001b[0;32m      3\u001b[0m \u001b[1;33m\u001b[0m\u001b[0m\n\u001b[0;32m      4\u001b[0m \u001b[1;32mclass\u001b[0m \u001b[0mKeyWords\u001b[0m\u001b[1;33m(\u001b[0m\u001b[0mTransformerMixin\u001b[0m\u001b[1;33m)\u001b[0m\u001b[1;33m:\u001b[0m\u001b[1;33m\u001b[0m\u001b[0m\n\u001b[0;32m      5\u001b[0m     \u001b[1;32mdef\u001b[0m \u001b[0mtransform\u001b[0m \u001b[1;33m(\u001b[0m\u001b[0mself\u001b[0m\u001b[1;33m,\u001b[0m \u001b[0mX\u001b[0m\u001b[1;33m)\u001b[0m\u001b[1;33m:\u001b[0m\u001b[1;33m\u001b[0m\u001b[0m\n",
      "\u001b[1;31mNameError\u001b[0m: name 'movies' is not defined"
     ]
    }
   ],
   "source": [
    "vect = TfidfVectorizer(stop_words = 'english', ngram_range =(1,3), min_df = 5, max_df = 500)\n",
    "tfidf = vect.fit_transform(movies.script)\n",
    "\n",
    "class KeyWords(TransformerMixin):        \n",
    "    def transform (self, X):\n",
    "        return pd.DataFrame(X.apply(lambda x: NamedEntities.number_entities(self,x)))\n",
    "    \n",
    "    def fit(self, X, y=None, **fit_params):\n",
    "        return self      \n",
    "    "
   ]
  },
  {
   "cell_type": "code",
   "execution_count": 40,
   "metadata": {
    "collapsed": true
   },
   "outputs": [],
   "source": [
    "def summarize(index, dtm):    \n",
    "    # create a dictionary of words and their TF-IDF scores\n",
    "    features = vect.get_feature_names()\n",
    "    text = movies.script[index]\n",
    "    word_scores = {}\n",
    "    for word in TextBlob(text).words:\n",
    "        word = word.lower()\n",
    "        if word in features:\n",
    "            word_scores[word] = dtm[index, features.index(word)]\n",
    "    \n",
    "    # print words with the top 5 TF-IDF scores\n",
    "    print 'TOP SCORING WORDS:'\n",
    "    top_scores = sorted(word_scores.items(), key=lambda x: x[1], reverse=True)[:5]\n",
    "    for word, score in top_scores:\n",
    "        print word"
   ]
  },
  {
   "cell_type": "code",
   "execution_count": 103,
   "metadata": {
    "collapsed": false
   },
   "outputs": [
    {
     "data": {
      "text/plain": [
       "3844"
      ]
     },
     "execution_count": 103,
     "metadata": {},
     "output_type": "execute_result"
    }
   ],
   "source": [
    "np.argmax(tfidf.todense()[9,:])"
   ]
  },
  {
   "cell_type": "code",
   "execution_count": 51,
   "metadata": {
    "collapsed": true
   },
   "outputs": [],
   "source": [
    "features = vect.get_feature_names()"
   ]
  },
  {
   "cell_type": "code",
   "execution_count": 104,
   "metadata": {
    "collapsed": true
   },
   "outputs": [],
   "source": [
    "a = np.array(tfidf.todense()[9,:])"
   ]
  },
  {
   "cell_type": "code",
   "execution_count": 105,
   "metadata": {
    "collapsed": false
   },
   "outputs": [
    {
     "data": {
      "text/plain": [
       "array([[ 0.,  0.,  0., ...,  0.,  0.,  0.]])"
      ]
     },
     "execution_count": 105,
     "metadata": {},
     "output_type": "execute_result"
    }
   ],
   "source": [
    "a"
   ]
  },
  {
   "cell_type": "code",
   "execution_count": 106,
   "metadata": {
    "collapsed": false
   },
   "outputs": [],
   "source": [
    "idx = (-a[0]).argsort()[:10]"
   ]
  },
  {
   "cell_type": "code",
   "execution_count": 107,
   "metadata": {
    "collapsed": false
   },
   "outputs": [
    {
     "data": {
      "text/plain": [
       "array([  3844,  85875,  89490, 194032,  99364, 119291,  67434,  94320,\n",
       "       144873, 168919], dtype=int64)"
      ]
     },
     "execution_count": 107,
     "metadata": {},
     "output_type": "execute_result"
    }
   ],
   "source": [
    "idx"
   ]
  },
  {
   "cell_type": "code",
   "execution_count": 108,
   "metadata": {
    "collapsed": false
   },
   "outputs": [
    {
     "name": "stdout",
     "output_type": "stream",
     "text": [
      "adrian\n",
      "jackson\n",
      "kate\n",
      "yuri\n",
      "lilly\n",
      "noah\n",
      "gordon\n",
      "laura\n",
      "sasha\n",
      "tamara\n"
     ]
    }
   ],
   "source": [
    "for i in idx:\n",
    "    print features[i]"
   ]
  },
  {
   "cell_type": "code",
   "execution_count": null,
   "metadata": {
    "collapsed": true
   },
   "outputs": [],
   "source": []
  }
 ],
 "metadata": {
  "anaconda-cloud": {},
  "kernelspec": {
   "display_name": "Python [Root]",
   "language": "python",
   "name": "Python [Root]"
  },
  "language_info": {
   "codemirror_mode": {
    "name": "ipython",
    "version": 2
   },
   "file_extension": ".py",
   "mimetype": "text/x-python",
   "name": "python",
   "nbconvert_exporter": "python",
   "pygments_lexer": "ipython2",
   "version": "2.7.12"
  }
 },
 "nbformat": 4,
 "nbformat_minor": 0
}
