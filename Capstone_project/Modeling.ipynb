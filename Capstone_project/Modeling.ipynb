{
 "cells": [
  {
   "cell_type": "code",
   "execution_count": 1,
   "metadata": {
    "collapsed": false
   },
   "outputs": [],
   "source": [
    "# -*- coding: utf-8 -*-\n",
    "import pandas as pd\n",
    "import scipy as sp\n",
    "import numpy as np\n",
    "\n",
    "from sklearn.feature_extraction.text import CountVectorizer, TfidfVectorizer\n",
    "from sklearn.linear_model import LogisticRegression\n",
    "from sklearn.linear_model import LinearRegression\n",
    "\n",
    "\n",
    "import nltk\n",
    "from nltk.corpus import stopwords\n",
    "from nltk.tag import pos_tag\n",
    "from textblob import TextBlob, Word\n",
    "\n",
    "from sklearn.pipeline import Pipeline, FeatureUnion\n",
    "from sklearn.base import BaseEstimator\n",
    "from sklearn.base import ClassifierMixin\n",
    "from sklearn.base import TransformerMixin\n",
    "from sklearn.preprocessing import StandardScaler\n",
    "\n",
    "from sklearn.cross_validation import cross_val_score\n",
    "from sklearn.grid_search import GridSearchCV"
   ]
  },
  {
   "cell_type": "code",
   "execution_count": 16,
   "metadata": {
    "collapsed": true
   },
   "outputs": [],
   "source": [
    "import os\n",
    "import sys\n",
    "os.environ['SPARK_HOME'] = \"C:\\Users\\Pedro\\Downloads\\spark-2.0.2-bin-hadoop2.7\\spark-2.0.2-bin-hadoop2.7\"\n",
    "sys.path.append(\"C:\\Users\\Pedro\\Downloads\\spark-2.0.2-bin-hadoop2.7\\spark-2.0.2-bin-hadoop2.7\\python\")\n",
    "sys.path.append(\"C:\\Users\\Pedro\\Downloads\\spark-2.0.2-bin-hadoop2.7\\spark-2.0.2-bin-hadoop2.7\\python\\lib\\py4j-0.8.2.1-src.zip\")\n",
    "\n",
    "#from spark_sklearn import GridSearchCV"
   ]
  },
  {
   "cell_type": "code",
   "execution_count": 2,
   "metadata": {
    "collapsed": false
   },
   "outputs": [],
   "source": [
    "movie_ratings = pd.read_pickle('movie_ratings.pkl')"
   ]
  },
  {
   "cell_type": "code",
   "execution_count": 3,
   "metadata": {
    "collapsed": false
   },
   "outputs": [],
   "source": [
    "class SentimentMetrics(TransformerMixin):\n",
    "    def changes (self, sentiments):\n",
    "        N_changes = 0\n",
    "        for i in range(len(sentiments)-1):\n",
    "            if sentiments[i]*sentiments[i+1] < 0:\n",
    "                N_changes+=1\n",
    "        return N_changes     \n",
    "    \n",
    "    def sentiment(self, script, pages = 100, ma = 5):\n",
    "        #Creates a moving average of the sentiment polarity of the script pages (or %)\n",
    "        sentiment = []\n",
    "        for i in range(pages+1-ma):\n",
    "            sentiment.append(TextBlob(script[i*len(script)/pages:(i+ma)*len(script)/pages]).sentiment.polarity)\n",
    "        return sentiment    \n",
    "        \n",
    "    def transform(self, X, **transform_params):  \n",
    "        S = X.apply(lambda x: SentimentMetrics.sentiment(self, x))\n",
    "        sentiment_dic = {\n",
    "       'Range': S.apply(lambda x: max(x) - min(x)),\n",
    "       #'Sentiment_avg': S.apply(lambda x: x.mean()),\n",
    "       #'Sentiment_std': S.apply(lambda x: x.std()),\n",
    "       'Max_sentiment': S.apply(lambda x: max(x)),\n",
    "       'Max_sentiment_loc': S.apply(lambda x: x.index(max(x))),\n",
    "       'Min_sentiment': S.apply(lambda x: min(x)),\n",
    "       'Min_sentiment_loc': S.apply(lambda x: x.index(min(x))),\n",
    "       'Max_pos_change': S.apply(lambda x: pd.Series(x).diff(1).max()),\n",
    "       'Max_pos_loc': S.apply(lambda x: list(pd.Series(x).diff(1)).index(pd.Series(x).diff(1).max())),\n",
    "       'Max_neg_change': S.apply(lambda x: pd.Series(x).diff(1).min()),\n",
    "       'Max_neg_loc': S.apply(lambda x: list(pd.Series(x).diff(1)).index(pd.Series(x).diff(1).min())),\n",
    "       'Begin_sentiment': S.apply(lambda x: x[0]),\n",
    "       'End_sentiment': S.apply(lambda x: x[-1]),\n",
    "       'Total_change': S.apply(lambda x: x[-1] - x[0]),\n",
    "       'plot_twist_index': S.apply(lambda x: (max(x[-10:]) - min(x[-10:]))/(max(x[:-10]) - min(x[:-10]) + 0.01)),\n",
    "       'pol_changes': S.apply(lambda x: SentimentMetrics.changes(self, x))\n",
    "        }\n",
    "            \n",
    "        return sp.sparse.csr_matrix(pd.DataFrame(sentiment_dic).astype(float))\n",
    "    \n",
    "        \n",
    "    \n",
    "    def fit(self, X, y=None, **fit_params):\n",
    "        return self      \n",
    "\n",
    "class NamedEntities(TransformerMixin):        \n",
    "    def number_entities(self, text):\n",
    "        upper = [i for i in TextBlob(text).words if (i.isupper() and i.lower() not in stopwords.words('english'))]\n",
    "        tagged = pos_tag(upper)\n",
    "        return len(set([word for word,pos in tagged if pos == 'NNP']))\n",
    "    \n",
    "    def transform (self, X):\n",
    "        return pd.DataFrame(X.apply(lambda x: NamedEntities.number_entities(self,x)))\n",
    "    \n",
    "    def fit(self, X, y=None, **fit_params):\n",
    "        return self      \n",
    "        \n",
    "        \n",
    "\n",
    "class SelectColumn(TransformerMixin):\n",
    "    def __init__(self, column):\n",
    "        self.column = column\n",
    "        \n",
    "    def transform(self, X, **transform_params):\n",
    "        return X[self.column]\n",
    "    \n",
    "    def fit(self, X, y=None, **fit_params):\n",
    "        return self      \n",
    "\n",
    "from nltk.stem.snowball import SnowballStemmer\n",
    "stemmer = SnowballStemmer('english')\n",
    "def word_tokenize(text, how='lemma'):\n",
    "    words = TextBlob(text).words\n",
    "    if how == 'lemma':\n",
    "        return [word.lemmatize() for word in words]\n",
    "    elif how == 'stem':\n",
    "        return [stemmer.stem(word) for word in words]\n",
    "    \n",
    "def sentence_tokenize(text):\n",
    "    words = TextBlob(text.replace(',', '.')).sentences\n",
    "    return [word for word in words]\n",
    "   \n",
    "from sklearn import decomposition\n",
    "\n",
    "from sklearn.base import BaseEstimator\n",
    "class DenseTransformer(TransformerMixin, BaseEstimator):\n",
    "\n",
    "    def transform(self, X, y=None, **fit_params):\n",
    "        return X.todense()\n",
    "\n",
    "    def fit_transform(self, X, y=None, **fit_params):\n",
    "        self.fit(X, y, **fit_params)\n",
    "        return self.transform(X)\n",
    "\n",
    "    def fit(self, X, y=None, **fit_params):\n",
    "        return self"
   ]
  },
  {
   "cell_type": "code",
   "execution_count": 4,
   "metadata": {
    "collapsed": false
   },
   "outputs": [],
   "source": [
    "pipe_genre = Pipeline([('select_genre', SelectColumn('Genre')),\n",
    "                       ('vect', CountVectorizer())])\n",
    "\n",
    "pipe_script = Pipeline([('select_script', SelectColumn('script')),\n",
    "                       ('union', FeatureUnion([('sentiment', SentimentMetrics()), ('named', NamedEntities())]))])\n",
    "\n",
    "features = FeatureUnion([('script', pipe_script), ('genre', pipe_genre)])\n",
    "preprocess = Pipeline([('dense', DenseTransformer()),\n",
    "                       ('zscore', StandardScaler())])"
   ]
  },
  {
   "cell_type": "code",
   "execution_count": 5,
   "metadata": {
    "collapsed": true
   },
   "outputs": [],
   "source": [
    "##DELETE AFTER##\n",
    "import cPickle as pickle\n",
    "with open('test_sparse_array.dat', 'rb') as infile:\n",
    "    X = pickle.load(infile)\n",
    "y = movie_ratings.imdbRating    "
   ]
  },
  {
   "cell_type": "code",
   "execution_count": null,
   "metadata": {
    "collapsed": false
   },
   "outputs": [
    {
     "name": "stdout",
     "output_type": "stream",
     "text": [
      "-0.674448518202\n",
      "{'forest__max_features': 5, 'forest__n_estimators': 50, 'forest__max_depth': 17}\n"
     ]
    }
   ],
   "source": [
    "from sklearn.ensemble import RandomForestRegressor\n",
    "rfreg = RandomForestRegressor()\n",
    "\n",
    "pipe = Pipeline([('preprocess', preprocess), ('forest', rfreg)])\n",
    "\n",
    "param_grid = dict(forest__max_depth = range(1,21), forest__max_features = range(1, X.shape[1] +1), forest__n_estimators = range(10,140,20))\n",
    "grid = GridSearchCV(pipe, param_grid, scoring='mean_absolute_error', n_jobs=1)\n",
    "grid.fit(X, y)\n",
    "\n",
    "print grid.best_score_\n",
    "#-0.674448518202\n",
    "print grid.best_params_\n",
    "#{'forest__max_features': 5, 'forest__n_estimators': 50, 'forest__max_depth': 17}\n"
   ]
  },
  {
   "cell_type": "code",
   "execution_count": 11,
   "metadata": {
    "collapsed": false
   },
   "outputs": [
    {
     "name": "stdout",
     "output_type": "stream",
     "text": [
      "-0.694066027892\n",
      "{'tree__max_depth': 2, 'tree__max_features': 8, 'tree__min_samples_leaf': 1}\n"
     ]
    }
   ],
   "source": [
    "from sklearn.tree import DecisionTreeRegressor\n",
    "treereg = DecisionTreeRegressor()\n",
    "\n",
    "pipe_tree = Pipeline([('preprocess', preprocess), ('tree', treereg)])\n",
    "\n",
    "param_grid = {'tree__max_depth': range(1,21), 'tree__max_features': range(1, X.shape[1] +1), 'tree__min_samples_leaf': range(1,6)}\n",
    "grid = GridSearchCV(pipe_tree, param_grid, scoring='mean_absolute_error')\n",
    "grid.fit(X, y)\n",
    "print grid.best_score_\n",
    "#-0.694066027892\n",
    "print grid.best_params_\n",
    "#{'tree__max_depth': 2, 'tree__max_features': 8, 'tree__min_samples_leaf': 1}"
   ]
  },
  {
   "cell_type": "code",
   "execution_count": 22,
   "metadata": {
    "collapsed": false
   },
   "outputs": [
    {
     "name": "stdout",
     "output_type": "stream",
     "text": [
      "{'sgd__n_iter': 100, 'sgd__penalty': 'elasticnet', 'sgd__loss': 'squared_loss', 'sgd__alpha': 0.1}\n",
      "-0.679418059983\n"
     ]
    }
   ],
   "source": [
    "from sklearn.linear_model import SGDRegressor\n",
    "sgd = SGDRegressor()\n",
    "\n",
    "pipe_sgd = Pipeline([('preprocess', preprocess), ('sgd', sgd)])\n",
    "\n",
    "parameters = {'sgd__loss':('squared_loss', 'huber', 'epsilon_insensitive',  'squared_epsilon_insensitive'), \n",
    "              'sgd__penalty':('none', 'l2', 'l1', 'elasticnet'),\n",
    "              'sgd__alpha': (1e-4,1e-3,1e-2,1e-1,1,1e1),\n",
    "              'sgd__n_iter': (100, 1000, 10000)\n",
    "             }\n",
    "clf = GridSearchCV(pipe_sgd, parameters, scoring='mean_absolute_error')\n",
    "clf.fit(X,movie_ratings.imdbRating)\n",
    "\n",
    "print clf.best_params_\n",
    "#{'sgd__n_iter': 100, 'sgd__penalty': 'elasticnet', 'sgd__loss': 'squared_loss', 'sgd__alpha': 0.1}\n",
    "print clf.best_score_\n",
    "#-0.679456152745"
   ]
  },
  {
   "cell_type": "code",
   "execution_count": 23,
   "metadata": {
    "collapsed": false
   },
   "outputs": [],
   "source": [
    "class EnsembleRegressor(BaseEstimator, ClassifierMixin):\n",
    "    def __init__(self, models, weights=None):\n",
    "        self.models = models\n",
    "        self.weights = weights\n",
    "\n",
    "    def fit(self, X, y):\n",
    "        for model in self.models:\n",
    "            model.fit(X, y)\n",
    "\n",
    "    def predict(self, X):\n",
    "        self.pred_ = np.asarray([model.predict(X) for model in self.models])\n",
    "        if self.weights:\n",
    "            avg = np.average(self.pred_, axis=0, weights=self.weights)\n",
    "        else:\n",
    "            avg = np.average(self.pred_, axis=0)\n",
    "        return avg"
   ]
  },
  {
   "cell_type": "code",
   "execution_count": 29,
   "metadata": {
    "collapsed": false
   },
   "outputs": [
    {
     "name": "stdout",
     "output_type": "stream",
     "text": [
      "{'reg__weights': [1, 1, 2]}\n",
      "-0.681427852104\n"
     ]
    }
   ],
   "source": [
    "from sklearn.ensemble import RandomForestRegressor\n",
    "rfreg = RandomForestRegressor(max_features= 5, n_estimators= 50, max_depth= 17)\n",
    "treereg = DecisionTreeRegressor(max_depth= 2, max_features= 8, min_samples_leaf= 1)\n",
    "sgd = SGDRegressor(n_iter= 100, penalty= 'elasticnet', loss= 'squared_loss', alpha= 0.1)\n",
    "\n",
    "models = [rfreg, treereg, sgd]\n",
    "reg = EnsembleRegressor(models)\n",
    "\n",
    "pipe_reg = Pipeline([('preprocess', preprocess), ('reg', reg)])\n",
    "\n",
    "params = {'reg__weights': [[1,1,1],[2,1,1],[1,2,1],[1,1,2]]}\n",
    "grid = GridSearchCV(pipe_reg, params, cv=5, scoring='mean_absolute_error')\n",
    "grid.fit(X,movie_ratings.imdbRating)\n",
    "\n",
    "print grid.best_params_\n",
    "#{'reg__weights': [1, 1, 2]}\n",
    "print grid.best_score_\n",
    "#-0.681427852104"
   ]
  },
  {
   "cell_type": "code",
   "execution_count": 33,
   "metadata": {
    "collapsed": false
   },
   "outputs": [],
   "source": [
    "from sklearn.cross_validation import train_test_split\n",
    "Xtrain, Xtest, ytrain, ytest = train_test_split(X,y)\n",
    "reg = EnsembleRegressor(models, [1,1,2])\n",
    "pipe_reg = Pipeline([('preprocess', preprocess), ('reg', reg)])"
   ]
  },
  {
   "cell_type": "code",
   "execution_count": 36,
   "metadata": {
    "collapsed": false
   },
   "outputs": [],
   "source": [
    "pipe_reg.fit(Xtrain,ytrain)\n",
    "ypred = pipe_reg.predict(Xtest)"
   ]
  },
  {
   "cell_type": "code",
   "execution_count": 105,
   "metadata": {
    "collapsed": true
   },
   "outputs": [],
   "source": [
    "Results = pd.DataFrame({'Actual': np.array(ytest), 'Predicted': ypred}, index=range(len(ytest)))\n",
    "Results['RMSE'] = np.abs(Results.Actual - Results.Predicted)"
   ]
  },
  {
   "cell_type": "code",
   "execution_count": null,
   "metadata": {
    "collapsed": false
   },
   "outputs": [],
   "source": []
  },
  {
   "cell_type": "code",
   "execution_count": 106,
   "metadata": {
    "collapsed": false
   },
   "outputs": [
    {
     "data": {
      "text/plain": [
       "[<matplotlib.lines.Line2D at 0x23ad02e8>]"
      ]
     },
     "execution_count": 106,
     "metadata": {},
     "output_type": "execute_result"
    },
    {
     "data": {
      "image/png": "[encoded data removed]",
      "text/plain": [
       "<matplotlib.figure.Figure at 0x23cf3e10>"
      ]
     },
     "metadata": {},
     "output_type": "display_data"
    }
   ],
   "source": [
    "import seaborn as sns\n",
    "import matplotlib.pyplot as plt\n",
    "%matplotlib inline\n",
    "pair = sns.pairplot(Results, x_vars=['Predicted'],y_vars = 'Actual', size=6)\n",
    "\n",
    "plt.plot([0, 10], [0, 10], linewidth=2)"
   ]
  },
  {
   "cell_type": "code",
   "execution_count": 135,
   "metadata": {
    "collapsed": false
   },
   "outputs": [],
   "source": [
    "ranking = []\n",
    "dif = []\n",
    "for i in range(len(Results)-1):\n",
    "    for j in range(len(Results)-1):\n",
    "        ranking.append((Results.Predicted[i]-Results.Predicted[j])*(Results.Actual[i] - Results.Actual[j])>=0)\n",
    "        dif.append(np.abs(np.abs((Results.Predicted[i]-Results.Predicted[j]))- np.abs((Results.Actual[i] - Results.Actual[j]))))\n",
    "error = pd.DataFrame(ranking, columns = ['ranking'])\n",
    "error['error'] = dif\n",
    "   "
   ]
  },
  {
   "cell_type": "code",
   "execution_count": 139,
   "metadata": {
    "collapsed": false
   },
   "outputs": [
    {
     "data": {
      "text/html": [
       "<div>\n",
       "<table border=\"1\" class=\"dataframe\">\n",
       "  <thead>\n",
       "    <tr style=\"text-align: right;\">\n",
       "      <th></th>\n",
       "      <th></th>\n",
       "      <th>error</th>\n",
       "    </tr>\n",
       "    <tr>\n",
       "      <th>ranking</th>\n",
       "      <th></th>\n",
       "      <th></th>\n",
       "    </tr>\n",
       "  </thead>\n",
       "  <tbody>\n",
       "    <tr>\n",
       "      <th rowspan=\"8\" valign=\"top\">False</th>\n",
       "      <th>count</th>\n",
       "      <td>12924.000000</td>\n",
       "    </tr>\n",
       "    <tr>\n",
       "      <th>mean</th>\n",
       "      <td>0.803252</td>\n",
       "    </tr>\n",
       "    <tr>\n",
       "      <th>std</th>\n",
       "      <td>0.785932</td>\n",
       "    </tr>\n",
       "    <tr>\n",
       "      <th>min</th>\n",
       "      <td>0.000107</td>\n",
       "    </tr>\n",
       "    <tr>\n",
       "      <th>25%</th>\n",
       "      <td>0.217842</td>\n",
       "    </tr>\n",
       "    <tr>\n",
       "      <th>50%</th>\n",
       "      <td>0.555773</td>\n",
       "    </tr>\n",
       "    <tr>\n",
       "      <th>75%</th>\n",
       "      <td>1.164296</td>\n",
       "    </tr>\n",
       "    <tr>\n",
       "      <th>max</th>\n",
       "      <td>5.965607</td>\n",
       "    </tr>\n",
       "    <tr>\n",
       "      <th rowspan=\"8\" valign=\"top\">True</th>\n",
       "      <th>count</th>\n",
       "      <td>23176.000000</td>\n",
       "    </tr>\n",
       "    <tr>\n",
       "      <th>mean</th>\n",
       "      <td>0.941939</td>\n",
       "    </tr>\n",
       "    <tr>\n",
       "      <th>std</th>\n",
       "      <td>0.886401</td>\n",
       "    </tr>\n",
       "    <tr>\n",
       "      <th>min</th>\n",
       "      <td>0.000000</td>\n",
       "    </tr>\n",
       "    <tr>\n",
       "      <th>25%</th>\n",
       "      <td>0.263263</td>\n",
       "    </tr>\n",
       "    <tr>\n",
       "      <th>50%</th>\n",
       "      <td>0.680115</td>\n",
       "    </tr>\n",
       "    <tr>\n",
       "      <th>75%</th>\n",
       "      <td>1.365113</td>\n",
       "    </tr>\n",
       "    <tr>\n",
       "      <th>max</th>\n",
       "      <td>5.839511</td>\n",
       "    </tr>\n",
       "  </tbody>\n",
       "</table>\n",
       "</div>"
      ],
      "text/plain": [
       "                      error\n",
       "ranking                    \n",
       "False   count  12924.000000\n",
       "        mean       0.803252\n",
       "        std        0.785932\n",
       "        min        0.000107\n",
       "        25%        0.217842\n",
       "        50%        0.555773\n",
       "        75%        1.164296\n",
       "        max        5.965607\n",
       "True    count  23176.000000\n",
       "        mean       0.941939\n",
       "        std        0.886401\n",
       "        min        0.000000\n",
       "        25%        0.263263\n",
       "        50%        0.680115\n",
       "        75%        1.365113\n",
       "        max        5.839511"
      ]
     },
     "execution_count": 139,
     "metadata": {},
     "output_type": "execute_result"
    }
   ],
   "source": [
    "error.groupby('ranking').describe()"
   ]
  },
  {
   "cell_type": "code",
   "execution_count": 137,
   "metadata": {
    "collapsed": false
   },
   "outputs": [
    {
     "data": {
      "text/plain": [
       "True     23176\n",
       "False    12924\n",
       "Name: ranking, dtype: int64"
      ]
     },
     "execution_count": 137,
     "metadata": {},
     "output_type": "execute_result"
    }
   ],
   "source": [
    "error.ranking.value_counts()"
   ]
  },
  {
   "cell_type": "code",
   "execution_count": 142,
   "metadata": {
    "collapsed": false
   },
   "outputs": [
    {
     "data": {
      "text/html": [
       "<div>\n",
       "<table border=\"1\" class=\"dataframe\">\n",
       "  <thead>\n",
       "    <tr style=\"text-align: right;\">\n",
       "      <th></th>\n",
       "      <th>title</th>\n",
       "      <th>script</th>\n",
       "      <th>Actors</th>\n",
       "      <th>Awards</th>\n",
       "      <th>Director</th>\n",
       "      <th>Genre</th>\n",
       "      <th>Runtime</th>\n",
       "      <th>Writer</th>\n",
       "      <th>imdbRating</th>\n",
       "      <th>sentiment</th>\n",
       "      <th>sentiment_avg</th>\n",
       "      <th>sentiment_stdev</th>\n",
       "    </tr>\n",
       "  </thead>\n",
       "  <tbody>\n",
       "    <tr>\n",
       "      <th>0</th>\n",
       "      <td>10 Things I Hate About You</td>\n",
       "      <td>\\n\\n\\n\\n&lt;b&gt;&lt;!--\\n&lt;/b&gt;if (window!= top)\\ntop.lo...</td>\n",
       "      <td>Heath Ledger, Julia Stiles, Joseph Gordon-Levi...</td>\n",
       "      <td>0</td>\n",
       "      <td>Gil Junger</td>\n",
       "      <td>Comedy, Drama, Romance</td>\n",
       "      <td>97 min</td>\n",
       "      <td>Karen McCullah, Kirsten Smith</td>\n",
       "      <td>7.2</td>\n",
       "      <td>[0.11383952936, 0.105862606283, 0.081115874257...</td>\n",
       "      <td>0.050608</td>\n",
       "      <td>0.060887</td>\n",
       "    </tr>\n",
       "    <tr>\n",
       "      <th>1</th>\n",
       "      <td>12 and Holding</td>\n",
       "      <td>\\n           \\n          \\n          \\n       ...</td>\n",
       "      <td>Conor Donovan, Jesse Camacho, Zoe Weizenbaum, ...</td>\n",
       "      <td>0</td>\n",
       "      <td>Michael Cuesta</td>\n",
       "      <td>Drama</td>\n",
       "      <td>94 min</td>\n",
       "      <td>Anthony Cipriano</td>\n",
       "      <td>7.6</td>\n",
       "      <td>[0.0166268533054, -0.00886338353005, -0.051273...</td>\n",
       "      <td>0.012207</td>\n",
       "      <td>0.075825</td>\n",
       "    </tr>\n",
       "    <tr>\n",
       "      <th>2</th>\n",
       "      <td>12 Years a Slave</td>\n",
       "      <td>\\n\\r\\n\\r\\n\\r\\n                             12 ...</td>\n",
       "      <td>Chiwetel Ejiofor, Dwight Henry, Dickie Gravois...</td>\n",
       "      <td>1</td>\n",
       "      <td>Steve McQueen</td>\n",
       "      <td>Biography, Drama, History</td>\n",
       "      <td>134 min</td>\n",
       "      <td>John Ridley (screenplay), Solomon Northup (bas...</td>\n",
       "      <td>8.1</td>\n",
       "      <td>[0.144452514765, 0.152337532525, 0.14795544635...</td>\n",
       "      <td>0.049629</td>\n",
       "      <td>0.064201</td>\n",
       "    </tr>\n",
       "    <tr>\n",
       "      <th>3</th>\n",
       "      <td>127 Hours</td>\n",
       "      <td>\\n\\r\\n\\r\\n \\r\\n                               ...</td>\n",
       "      <td>James Franco, Kate Mara, Amber Tamblyn, Sean Bott</td>\n",
       "      <td>1</td>\n",
       "      <td>Danny Boyle</td>\n",
       "      <td>Adventure, Biography, Drama</td>\n",
       "      <td>94 min</td>\n",
       "      <td>Danny Boyle (screenplay), Simon Beaufoy (scree...</td>\n",
       "      <td>7.6</td>\n",
       "      <td>[-0.00192164832522, -0.00922014348086, -0.0075...</td>\n",
       "      <td>0.052450</td>\n",
       "      <td>0.061374</td>\n",
       "    </tr>\n",
       "    <tr>\n",
       "      <th>4</th>\n",
       "      <td>1492: Conquest of Paradise</td>\n",
       "      <td>\\n\\n\\n\\n&lt;b&gt;&lt;!--\\n&lt;/b&gt;if (window!= top)\\ntop.lo...</td>\n",
       "      <td>Gérard Depardieu, Armand Assante, Sigourney We...</td>\n",
       "      <td>0</td>\n",
       "      <td>Ridley Scott</td>\n",
       "      <td>Adventure, Biography, Drama</td>\n",
       "      <td>154 min</td>\n",
       "      <td>Rose Bosch (scenario)</td>\n",
       "      <td>6.5</td>\n",
       "      <td>[0.133802253193, 0.121926184817, 0.08588619306...</td>\n",
       "      <td>0.040886</td>\n",
       "      <td>0.068049</td>\n",
       "    </tr>\n",
       "  </tbody>\n",
       "</table>\n",
       "</div>"
      ],
      "text/plain": [
       "                        title  \\\n",
       "0  10 Things I Hate About You   \n",
       "1              12 and Holding   \n",
       "2            12 Years a Slave   \n",
       "3                   127 Hours   \n",
       "4  1492: Conquest of Paradise   \n",
       "\n",
       "                                              script  \\\n",
       "0  \\n\\n\\n\\n<b><!--\\n</b>if (window!= top)\\ntop.lo...   \n",
       "1  \\n           \\n          \\n          \\n       ...   \n",
       "2  \\n\\r\\n\\r\\n\\r\\n                             12 ...   \n",
       "3  \\n\\r\\n\\r\\n \\r\\n                               ...   \n",
       "4  \\n\\n\\n\\n<b><!--\\n</b>if (window!= top)\\ntop.lo...   \n",
       "\n",
       "                                              Actors  Awards        Director  \\\n",
       "0  Heath Ledger, Julia Stiles, Joseph Gordon-Levi...       0      Gil Junger   \n",
       "1  Conor Donovan, Jesse Camacho, Zoe Weizenbaum, ...       0  Michael Cuesta   \n",
       "2  Chiwetel Ejiofor, Dwight Henry, Dickie Gravois...       1   Steve McQueen   \n",
       "3  James Franco, Kate Mara, Amber Tamblyn, Sean Bott       1     Danny Boyle   \n",
       "4  Gérard Depardieu, Armand Assante, Sigourney We...       0    Ridley Scott   \n",
       "\n",
       "                         Genre  Runtime  \\\n",
       "0       Comedy, Drama, Romance   97 min   \n",
       "1                        Drama   94 min   \n",
       "2    Biography, Drama, History  134 min   \n",
       "3  Adventure, Biography, Drama   94 min   \n",
       "4  Adventure, Biography, Drama  154 min   \n",
       "\n",
       "                                              Writer  imdbRating  \\\n",
       "0                      Karen McCullah, Kirsten Smith         7.2   \n",
       "1                                   Anthony Cipriano         7.6   \n",
       "2  John Ridley (screenplay), Solomon Northup (bas...         8.1   \n",
       "3  Danny Boyle (screenplay), Simon Beaufoy (scree...         7.6   \n",
       "4                              Rose Bosch (scenario)         6.5   \n",
       "\n",
       "                                           sentiment  sentiment_avg  \\\n",
       "0  [0.11383952936, 0.105862606283, 0.081115874257...       0.050608   \n",
       "1  [0.0166268533054, -0.00886338353005, -0.051273...       0.012207   \n",
       "2  [0.144452514765, 0.152337532525, 0.14795544635...       0.049629   \n",
       "3  [-0.00192164832522, -0.00922014348086, -0.0075...       0.052450   \n",
       "4  [0.133802253193, 0.121926184817, 0.08588619306...       0.040886   \n",
       "\n",
       "   sentiment_stdev  \n",
       "0         0.060887  \n",
       "1         0.075825  \n",
       "2         0.064201  \n",
       "3         0.061374  \n",
       "4         0.068049  "
      ]
     },
     "execution_count": 142,
     "metadata": {},
     "output_type": "execute_result"
    }
   ],
   "source": [
    "movie_revenue.head()"
   ]
  },
  {
   "cell_type": "code",
   "execution_count": 141,
   "metadata": {
    "collapsed": false
   },
   "outputs": [
    {
     "ename": "AttributeError",
     "evalue": "'DataFrame' object has no attribute 'Revenue'",
     "output_type": "error",
     "traceback": [
      "\u001b[1;31m---------------------------------------------------------------------------\u001b[0m",
      "\u001b[1;31mAttributeError\u001b[0m                            Traceback (most recent call last)",
      "\u001b[1;32m<ipython-input-141-2c3d7fd55839>\u001b[0m in \u001b[0;36m<module>\u001b[1;34m()\u001b[0m\n\u001b[0;32m      1\u001b[0m \u001b[0mmovie_revenue\u001b[0m \u001b[1;33m=\u001b[0m \u001b[0mpd\u001b[0m\u001b[1;33m.\u001b[0m\u001b[0mread_pickle\u001b[0m\u001b[1;33m(\u001b[0m\u001b[1;34m'movie_revenues.pkl'\u001b[0m\u001b[1;33m)\u001b[0m\u001b[1;33m\u001b[0m\u001b[0m\n\u001b[1;32m----> 2\u001b[1;33m \u001b[0mnp\u001b[0m\u001b[1;33m.\u001b[0m\u001b[0mabs\u001b[0m\u001b[1;33m(\u001b[0m\u001b[0mmovie_revenue\u001b[0m\u001b[1;33m.\u001b[0m\u001b[0mRevenue\u001b[0m \u001b[1;33m-\u001b[0m \u001b[0mmovie_revenue\u001b[0m\u001b[1;33m.\u001b[0m\u001b[0mRevenue\u001b[0m\u001b[1;33m.\u001b[0m\u001b[0mmean\u001b[0m\u001b[1;33m(\u001b[0m\u001b[1;33m)\u001b[0m\u001b[1;33m)\u001b[0m\u001b[1;33m.\u001b[0m\u001b[0mmean\u001b[0m\u001b[1;33m(\u001b[0m\u001b[1;33m)\u001b[0m\u001b[1;33m\u001b[0m\u001b[0m\n\u001b[0m",
      "\u001b[1;32mC:\\Anaconda2\\lib\\site-packages\\pandas\\core\\generic.pyc\u001b[0m in \u001b[0;36m__getattr__\u001b[1;34m(self, name)\u001b[0m\n\u001b[0;32m   2670\u001b[0m             \u001b[1;32mif\u001b[0m \u001b[0mname\u001b[0m \u001b[1;32min\u001b[0m \u001b[0mself\u001b[0m\u001b[1;33m.\u001b[0m\u001b[0m_info_axis\u001b[0m\u001b[1;33m:\u001b[0m\u001b[1;33m\u001b[0m\u001b[0m\n\u001b[0;32m   2671\u001b[0m                 \u001b[1;32mreturn\u001b[0m \u001b[0mself\u001b[0m\u001b[1;33m[\u001b[0m\u001b[0mname\u001b[0m\u001b[1;33m]\u001b[0m\u001b[1;33m\u001b[0m\u001b[0m\n\u001b[1;32m-> 2672\u001b[1;33m             \u001b[1;32mreturn\u001b[0m \u001b[0mobject\u001b[0m\u001b[1;33m.\u001b[0m\u001b[0m__getattribute__\u001b[0m\u001b[1;33m(\u001b[0m\u001b[0mself\u001b[0m\u001b[1;33m,\u001b[0m \u001b[0mname\u001b[0m\u001b[1;33m)\u001b[0m\u001b[1;33m\u001b[0m\u001b[0m\n\u001b[0m\u001b[0;32m   2673\u001b[0m \u001b[1;33m\u001b[0m\u001b[0m\n\u001b[0;32m   2674\u001b[0m     \u001b[1;32mdef\u001b[0m \u001b[0m__setattr__\u001b[0m\u001b[1;33m(\u001b[0m\u001b[0mself\u001b[0m\u001b[1;33m,\u001b[0m \u001b[0mname\u001b[0m\u001b[1;33m,\u001b[0m \u001b[0mvalue\u001b[0m\u001b[1;33m)\u001b[0m\u001b[1;33m:\u001b[0m\u001b[1;33m\u001b[0m\u001b[0m\n",
      "\u001b[1;31mAttributeError\u001b[0m: 'DataFrame' object has no attribute 'Revenue'"
     ]
    }
   ],
   "source": [
    "movie_revenue = pd.read_pickle('movie_revenues.pkl')\n",
    "np.abs(movie_revenue.Revenue - movie_revenue.Revenue.mean()).mean()"
   ]
  },
  {
   "cell_type": "code",
   "execution_count": null,
   "metadata": {
    "collapsed": true
   },
   "outputs": [],
   "source": []
  }
 ],
 "metadata": {
  "anaconda-cloud": {},
  "kernelspec": {
   "display_name": "Python [Root]",
   "language": "python",
   "name": "Python [Root]"
  },
  "language_info": {
   "codemirror_mode": {
    "name": "ipython",
    "version": 2
   },
   "file_extension": ".py",
   "mimetype": "text/x-python",
   "name": "python",
   "nbconvert_exporter": "python",
   "pygments_lexer": "ipython2",
   "version": "2.7.12"
  }
 },
 "nbformat": 4,
 "nbformat_minor": 0
}
