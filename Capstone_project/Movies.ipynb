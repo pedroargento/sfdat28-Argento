{
 "cells": [
  {
   "cell_type": "code",
   "execution_count": 2,
   "metadata": {
    "collapsed": false
   },
   "outputs": [],
   "source": [
    "import pandas as pd\n",
    "import numpy as np\n",
    "import seaborn as sns\n",
    "import matplotlib.pyplot as plt\n",
    "%matplotlib inline\n",
    "\n",
    "import scipy as sp\n",
    "from sklearn.cross_validation import train_test_split, cross_val_score\n",
    "from sklearn.feature_extraction.text import CountVectorizer, TfidfVectorizer\n",
    "from sklearn.linear_model import LogisticRegression\n",
    "from sklearn import metrics\n",
    "from textblob import TextBlob, Word"
   ]
  },
  {
   "cell_type": "code",
   "execution_count": 3,
   "metadata": {
    "collapsed": false
   },
   "outputs": [
    {
     "data": {
      "text/html": [
       "<div>\n",
       "<table border=\"1\" class=\"dataframe\">\n",
       "  <thead>\n",
       "    <tr style=\"text-align: right;\">\n",
       "      <th></th>\n",
       "      <th>title</th>\n",
       "      <th>script</th>\n",
       "      <th>IMDB_info</th>\n",
       "      <th>Actors</th>\n",
       "      <th>imdbID</th>\n",
       "      <th>Awards</th>\n",
       "      <th>Country</th>\n",
       "      <th>Director</th>\n",
       "      <th>Genre</th>\n",
       "      <th>Language</th>\n",
       "      <th>...</th>\n",
       "      <th>Rated</th>\n",
       "      <th>Released</th>\n",
       "      <th>Runtime</th>\n",
       "      <th>Writer</th>\n",
       "      <th>Year</th>\n",
       "      <th>imdbRating</th>\n",
       "      <th>imdbVotes</th>\n",
       "      <th>financials</th>\n",
       "      <th>Budget</th>\n",
       "      <th>Revenue</th>\n",
       "    </tr>\n",
       "  </thead>\n",
       "  <tbody>\n",
       "    <tr>\n",
       "      <th>0</th>\n",
       "      <td>10 Things I Hate About You</td>\n",
       "      <td>\\n\\n\\n\\n&lt;b&gt;&lt;!--\\n&lt;/b&gt;if (window!= top)\\ntop.lo...</td>\n",
       "      <td>{u'Plot': u'A pretty, popular teenager can't g...</td>\n",
       "      <td>Heath Ledger, Julia Stiles, Joseph Gordon-Levi...</td>\n",
       "      <td>tt0147800</td>\n",
       "      <td>2 wins &amp; 12 nominations.</td>\n",
       "      <td>USA</td>\n",
       "      <td>Gil Junger</td>\n",
       "      <td>Comedy, Drama, Romance</td>\n",
       "      <td>English, French</td>\n",
       "      <td>...</td>\n",
       "      <td>PG-13</td>\n",
       "      <td>31 Mar 1999</td>\n",
       "      <td>97 min</td>\n",
       "      <td>Karen McCullah, Kirsten Smith</td>\n",
       "      <td>1999</td>\n",
       "      <td>7.2</td>\n",
       "      <td>225,311</td>\n",
       "      <td>[16000000.0, 38176108.0]</td>\n",
       "      <td>16000000.0</td>\n",
       "      <td>38176108.0</td>\n",
       "    </tr>\n",
       "    <tr>\n",
       "      <th>1</th>\n",
       "      <td>12</td>\n",
       "      <td>\\n\\n\\n  \\n  12 - Script\\n</td>\n",
       "      <td>{u'Plot': u'Twelve jurors must decide the fate...</td>\n",
       "      <td>Sergey Makovetskiy, Nikita Mikhalkov, Sergey G...</td>\n",
       "      <td>tt0488478</td>\n",
       "      <td>Nominated for 1 Oscar. Another 5 wins &amp; 5 nomi...</td>\n",
       "      <td>Russia</td>\n",
       "      <td>Nikita Mikhalkov</td>\n",
       "      <td>Crime, Drama, Thriller</td>\n",
       "      <td>Russian, Chechen</td>\n",
       "      <td>...</td>\n",
       "      <td>PG-13</td>\n",
       "      <td>20 Sep 2007</td>\n",
       "      <td>159 min</td>\n",
       "      <td>Nikita Mikhalkov, Aleksandr Novototskiy-Vlasov...</td>\n",
       "      <td>2007</td>\n",
       "      <td>7.8</td>\n",
       "      <td>11,741</td>\n",
       "      <td>[4000000.0, 125024.0]</td>\n",
       "      <td>4000000.0</td>\n",
       "      <td>125024.0</td>\n",
       "    </tr>\n",
       "    <tr>\n",
       "      <th>2</th>\n",
       "      <td>12 and Holding</td>\n",
       "      <td>\\n           \\n          \\n          \\n       ...</td>\n",
       "      <td>{u'Plot': u'After his twin brother is accident...</td>\n",
       "      <td>Conor Donovan, Jesse Camacho, Zoe Weizenbaum, ...</td>\n",
       "      <td>tt0417385</td>\n",
       "      <td>5 nominations.</td>\n",
       "      <td>USA</td>\n",
       "      <td>Michael Cuesta</td>\n",
       "      <td>Drama</td>\n",
       "      <td>English</td>\n",
       "      <td>...</td>\n",
       "      <td>R</td>\n",
       "      <td>07 Jul 2006</td>\n",
       "      <td>94 min</td>\n",
       "      <td>Anthony Cipriano</td>\n",
       "      <td>2005</td>\n",
       "      <td>7.6</td>\n",
       "      <td>6,157</td>\n",
       "      <td>[400000.0, 95687.0]</td>\n",
       "      <td>400000.0</td>\n",
       "      <td>95687.0</td>\n",
       "    </tr>\n",
       "    <tr>\n",
       "      <th>3</th>\n",
       "      <td>12 Monkeys</td>\n",
       "      <td>\\n\\n\\n\\n&lt;b&gt;&lt;!--\\n&lt;/b&gt;if (window!= top)\\ntop.lo...</td>\n",
       "      <td>{u'totalSeasons': u'2', u'Plot': u'Follows the...</td>\n",
       "      <td>Aaron Stanford, Amanda Schull, Kirk Acevedo, B...</td>\n",
       "      <td>tt3148266</td>\n",
       "      <td>2 wins &amp; 2 nominations.</td>\n",
       "      <td>USA</td>\n",
       "      <td>NaN</td>\n",
       "      <td>Adventure, Drama, Mystery</td>\n",
       "      <td>English</td>\n",
       "      <td>...</td>\n",
       "      <td>TV-14</td>\n",
       "      <td>16 Jan 2015</td>\n",
       "      <td>42 min</td>\n",
       "      <td>Travis Fickett, Terry Matalas</td>\n",
       "      <td>2015–</td>\n",
       "      <td>7.6</td>\n",
       "      <td>21,688</td>\n",
       "      <td>[NULL, NULL]</td>\n",
       "      <td>NaN</td>\n",
       "      <td>NaN</td>\n",
       "    </tr>\n",
       "    <tr>\n",
       "      <th>4</th>\n",
       "      <td>12 Years a Slave</td>\n",
       "      <td>\\n\\r\\n\\r\\n\\r\\n                             12 ...</td>\n",
       "      <td>{u'Plot': u'In the antebellum United States, S...</td>\n",
       "      <td>Chiwetel Ejiofor, Dwight Henry, Dickie Gravois...</td>\n",
       "      <td>tt2024544</td>\n",
       "      <td>Won 3 Oscars. Another 234 wins &amp; 312 nominations.</td>\n",
       "      <td>USA, UK</td>\n",
       "      <td>Steve McQueen</td>\n",
       "      <td>Biography, Drama, History</td>\n",
       "      <td>English</td>\n",
       "      <td>...</td>\n",
       "      <td>R</td>\n",
       "      <td>08 Nov 2013</td>\n",
       "      <td>134 min</td>\n",
       "      <td>John Ridley (screenplay), Solomon Northup (bas...</td>\n",
       "      <td>2013</td>\n",
       "      <td>8.1</td>\n",
       "      <td>448,530</td>\n",
       "      <td>[20000000.0, 56667870.0]</td>\n",
       "      <td>20000000.0</td>\n",
       "      <td>56667870.0</td>\n",
       "    </tr>\n",
       "  </tbody>\n",
       "</table>\n",
       "<p>5 rows × 22 columns</p>\n",
       "</div>"
      ],
      "text/plain": [
       "                        title  \\\n",
       "0  10 Things I Hate About You   \n",
       "1                          12   \n",
       "2              12 and Holding   \n",
       "3                  12 Monkeys   \n",
       "4            12 Years a Slave   \n",
       "\n",
       "                                              script  \\\n",
       "0  \\n\\n\\n\\n<b><!--\\n</b>if (window!= top)\\ntop.lo...   \n",
       "1                          \\n\\n\\n  \\n  12 - Script\\n   \n",
       "2  \\n           \\n          \\n          \\n       ...   \n",
       "3  \\n\\n\\n\\n<b><!--\\n</b>if (window!= top)\\ntop.lo...   \n",
       "4  \\n\\r\\n\\r\\n\\r\\n                             12 ...   \n",
       "\n",
       "                                           IMDB_info  \\\n",
       "0  {u'Plot': u'A pretty, popular teenager can't g...   \n",
       "1  {u'Plot': u'Twelve jurors must decide the fate...   \n",
       "2  {u'Plot': u'After his twin brother is accident...   \n",
       "3  {u'totalSeasons': u'2', u'Plot': u'Follows the...   \n",
       "4  {u'Plot': u'In the antebellum United States, S...   \n",
       "\n",
       "                                              Actors     imdbID  \\\n",
       "0  Heath Ledger, Julia Stiles, Joseph Gordon-Levi...  tt0147800   \n",
       "1  Sergey Makovetskiy, Nikita Mikhalkov, Sergey G...  tt0488478   \n",
       "2  Conor Donovan, Jesse Camacho, Zoe Weizenbaum, ...  tt0417385   \n",
       "3  Aaron Stanford, Amanda Schull, Kirk Acevedo, B...  tt3148266   \n",
       "4  Chiwetel Ejiofor, Dwight Henry, Dickie Gravois...  tt2024544   \n",
       "\n",
       "                                              Awards  Country  \\\n",
       "0                           2 wins & 12 nominations.      USA   \n",
       "1  Nominated for 1 Oscar. Another 5 wins & 5 nomi...   Russia   \n",
       "2                                     5 nominations.      USA   \n",
       "3                            2 wins & 2 nominations.      USA   \n",
       "4  Won 3 Oscars. Another 234 wins & 312 nominations.  USA, UK   \n",
       "\n",
       "           Director                      Genre          Language     ...      \\\n",
       "0        Gil Junger     Comedy, Drama, Romance   English, French     ...       \n",
       "1  Nikita Mikhalkov     Crime, Drama, Thriller  Russian, Chechen     ...       \n",
       "2    Michael Cuesta                      Drama           English     ...       \n",
       "3               NaN  Adventure, Drama, Mystery           English     ...       \n",
       "4     Steve McQueen  Biography, Drama, History           English     ...       \n",
       "\n",
       "   Rated     Released  Runtime  \\\n",
       "0  PG-13  31 Mar 1999   97 min   \n",
       "1  PG-13  20 Sep 2007  159 min   \n",
       "2      R  07 Jul 2006   94 min   \n",
       "3  TV-14  16 Jan 2015   42 min   \n",
       "4      R  08 Nov 2013  134 min   \n",
       "\n",
       "                                              Writer   Year imdbRating  \\\n",
       "0                      Karen McCullah, Kirsten Smith   1999        7.2   \n",
       "1  Nikita Mikhalkov, Aleksandr Novototskiy-Vlasov...   2007        7.8   \n",
       "2                                   Anthony Cipriano   2005        7.6   \n",
       "3                      Travis Fickett, Terry Matalas  2015–        7.6   \n",
       "4  John Ridley (screenplay), Solomon Northup (bas...   2013        8.1   \n",
       "\n",
       "  imdbVotes                financials      Budget     Revenue  \n",
       "0   225,311  [16000000.0, 38176108.0]  16000000.0  38176108.0  \n",
       "1    11,741     [4000000.0, 125024.0]   4000000.0    125024.0  \n",
       "2     6,157       [400000.0, 95687.0]    400000.0     95687.0  \n",
       "3    21,688              [NULL, NULL]         NaN         NaN  \n",
       "4   448,530  [20000000.0, 56667870.0]  20000000.0  56667870.0  \n",
       "\n",
       "[5 rows x 22 columns]"
      ]
     },
     "execution_count": 3,
     "metadata": {},
     "output_type": "execute_result"
    }
   ],
   "source": [
    "movies = pd.read_pickle('movies.pkl')\n",
    "\n",
    "#Replace missing values with actual Python NaN.\n",
    "movies = movies.replace('N/A', np.NaN)\n",
    "movies = movies.replace('NA', np.NaN)\n",
    "movies = movies.replace('NULL', np.NaN)\n",
    "\n",
    "#Set the imdbRating column as float instead of strings\n",
    "movies.imdbRating = movies.imdbRating.astype(float)\n"
   ]
  },
  {
   "cell_type": "code",
   "execution_count": 5,
   "metadata": {
    "collapsed": false,
    "scrolled": true
   },
   "outputs": [],
   "source": [
    "#Makes a new Data Frame without movies with script missing.\n",
    "movie_scripts = movies[(movies.script.notnull())].copy()\n",
    "movie_scripts.reset_index(inplace = True)\n",
    "del movie_scripts['index']"
   ]
  },
  {
   "cell_type": "code",
   "execution_count": 6,
   "metadata": {
    "collapsed": false
   },
   "outputs": [],
   "source": [
    "def sentiment(script, pages = 100, ma = 5):\n",
    "    #Creates a moving average of the sentiment polarity of the script pages (or %)\n",
    "    try:\n",
    "        sentiment = []\n",
    "        for i in range(pages+1):\n",
    "            sentiment.append(TextBlob(script[i*len(script)/pages:(i+1)*len(script)/pages]).sentiment.polarity)\n",
    "        MA = []\n",
    "        for i in range(len(sentiment)-ma):\n",
    "            MA.append(np.mean(sentiment[i:i+ma]))\n",
    "        return MA\n",
    "    except:\n",
    "        return [0]\n",
    "movie_scripts['sentiment'] = movies.script.apply(lambda x: sentiment(x))\n"
   ]
  },
  {
   "cell_type": "code",
   "execution_count": 9,
   "metadata": {
    "collapsed": false
   },
   "outputs": [],
   "source": [
    "movie_scripts['sentiment_avg'] = movie_scripts.sentiment.apply(lambda x: np.mean(x))\n",
    "movie_scripts['sentiment_stdev'] = movie_scripts.sentiment.apply(lambda x: np.std(x))"
   ]
  },
  {
   "cell_type": "code",
   "execution_count": 19,
   "metadata": {
    "collapsed": false
   },
   "outputs": [
    {
     "ename": "KeyError",
     "evalue": "'level_0'",
     "output_type": "error",
     "traceback": [
      "\u001b[1;31m---------------------------------------------------------------------------\u001b[0m",
      "\u001b[1;31mKeyError\u001b[0m                                  Traceback (most recent call last)",
      "\u001b[1;32m<ipython-input-19-a93ef4647907>\u001b[0m in \u001b[0;36m<module>\u001b[1;34m()\u001b[0m\n\u001b[0;32m      1\u001b[0m \u001b[0mmovie_scripts\u001b[0m \u001b[1;33m=\u001b[0m \u001b[0mmovie_scripts\u001b[0m\u001b[1;33m[\u001b[0m\u001b[0mmovie_scripts\u001b[0m\u001b[1;33m.\u001b[0m\u001b[0msentiment_stdev\u001b[0m \u001b[1;33m!=\u001b[0m \u001b[1;36m0\u001b[0m\u001b[1;33m]\u001b[0m\u001b[1;33m.\u001b[0m\u001b[0mcopy\u001b[0m\u001b[1;33m(\u001b[0m\u001b[1;33m)\u001b[0m\u001b[1;33m\u001b[0m\u001b[0m\n\u001b[1;32m----> 2\u001b[1;33m \u001b[1;32mdel\u001b[0m \u001b[0mmovie_scripts\u001b[0m\u001b[1;33m[\u001b[0m\u001b[1;34m'level_0'\u001b[0m\u001b[1;33m]\u001b[0m\u001b[1;33m\u001b[0m\u001b[0m\n\u001b[0m\u001b[0;32m      3\u001b[0m \u001b[1;32mdel\u001b[0m \u001b[0mmovie_scripts\u001b[0m\u001b[1;33m[\u001b[0m\u001b[1;34m'index'\u001b[0m\u001b[1;33m]\u001b[0m\u001b[1;33m\u001b[0m\u001b[0m\n",
      "\u001b[1;32mC:\\Anaconda2\\lib\\site-packages\\pandas\\core\\generic.pyc\u001b[0m in \u001b[0;36m__delitem__\u001b[1;34m(self, key)\u001b[0m\n\u001b[0;32m   1604\u001b[0m             \u001b[1;31m# there was no match, this call should raise the appropriate\u001b[0m\u001b[1;33m\u001b[0m\u001b[1;33m\u001b[0m\u001b[0m\n\u001b[0;32m   1605\u001b[0m             \u001b[1;31m# exception:\u001b[0m\u001b[1;33m\u001b[0m\u001b[1;33m\u001b[0m\u001b[0m\n\u001b[1;32m-> 1606\u001b[1;33m             \u001b[0mself\u001b[0m\u001b[1;33m.\u001b[0m\u001b[0m_data\u001b[0m\u001b[1;33m.\u001b[0m\u001b[0mdelete\u001b[0m\u001b[1;33m(\u001b[0m\u001b[0mkey\u001b[0m\u001b[1;33m)\u001b[0m\u001b[1;33m\u001b[0m\u001b[0m\n\u001b[0m\u001b[0;32m   1607\u001b[0m \u001b[1;33m\u001b[0m\u001b[0m\n\u001b[0;32m   1608\u001b[0m         \u001b[1;31m# delete from the caches\u001b[0m\u001b[1;33m\u001b[0m\u001b[1;33m\u001b[0m\u001b[0m\n",
      "\u001b[1;32mC:\\Anaconda2\\lib\\site-packages\\pandas\\core\\internals.pyc\u001b[0m in \u001b[0;36mdelete\u001b[1;34m(self, item)\u001b[0m\n\u001b[0;32m   3347\u001b[0m         \u001b[0mDelete\u001b[0m \u001b[0mselected\u001b[0m \u001b[0mitem\u001b[0m \u001b[1;33m(\u001b[0m\u001b[0mitems\u001b[0m \u001b[1;32mif\u001b[0m \u001b[0mnon\u001b[0m\u001b[1;33m-\u001b[0m\u001b[0munique\u001b[0m\u001b[1;33m)\u001b[0m \u001b[1;32min\u001b[0m\u001b[1;33m-\u001b[0m\u001b[0mplace\u001b[0m\u001b[1;33m.\u001b[0m\u001b[1;33m\u001b[0m\u001b[0m\n\u001b[0;32m   3348\u001b[0m         \"\"\"\n\u001b[1;32m-> 3349\u001b[1;33m         \u001b[0mindexer\u001b[0m \u001b[1;33m=\u001b[0m \u001b[0mself\u001b[0m\u001b[1;33m.\u001b[0m\u001b[0mitems\u001b[0m\u001b[1;33m.\u001b[0m\u001b[0mget_loc\u001b[0m\u001b[1;33m(\u001b[0m\u001b[0mitem\u001b[0m\u001b[1;33m)\u001b[0m\u001b[1;33m\u001b[0m\u001b[0m\n\u001b[0m\u001b[0;32m   3350\u001b[0m \u001b[1;33m\u001b[0m\u001b[0m\n\u001b[0;32m   3351\u001b[0m         \u001b[0mis_deleted\u001b[0m \u001b[1;33m=\u001b[0m \u001b[0mnp\u001b[0m\u001b[1;33m.\u001b[0m\u001b[0mzeros\u001b[0m\u001b[1;33m(\u001b[0m\u001b[0mself\u001b[0m\u001b[1;33m.\u001b[0m\u001b[0mshape\u001b[0m\u001b[1;33m[\u001b[0m\u001b[1;36m0\u001b[0m\u001b[1;33m]\u001b[0m\u001b[1;33m,\u001b[0m \u001b[0mdtype\u001b[0m\u001b[1;33m=\u001b[0m\u001b[0mnp\u001b[0m\u001b[1;33m.\u001b[0m\u001b[0mbool_\u001b[0m\u001b[1;33m)\u001b[0m\u001b[1;33m\u001b[0m\u001b[0m\n",
      "\u001b[1;32mC:\\Anaconda2\\lib\\site-packages\\pandas\\indexes\\base.pyc\u001b[0m in \u001b[0;36mget_loc\u001b[1;34m(self, key, method, tolerance)\u001b[0m\n\u001b[0;32m   1945\u001b[0m                 \u001b[1;32mreturn\u001b[0m \u001b[0mself\u001b[0m\u001b[1;33m.\u001b[0m\u001b[0m_engine\u001b[0m\u001b[1;33m.\u001b[0m\u001b[0mget_loc\u001b[0m\u001b[1;33m(\u001b[0m\u001b[0mkey\u001b[0m\u001b[1;33m)\u001b[0m\u001b[1;33m\u001b[0m\u001b[0m\n\u001b[0;32m   1946\u001b[0m             \u001b[1;32mexcept\u001b[0m \u001b[0mKeyError\u001b[0m\u001b[1;33m:\u001b[0m\u001b[1;33m\u001b[0m\u001b[0m\n\u001b[1;32m-> 1947\u001b[1;33m                 \u001b[1;32mreturn\u001b[0m \u001b[0mself\u001b[0m\u001b[1;33m.\u001b[0m\u001b[0m_engine\u001b[0m\u001b[1;33m.\u001b[0m\u001b[0mget_loc\u001b[0m\u001b[1;33m(\u001b[0m\u001b[0mself\u001b[0m\u001b[1;33m.\u001b[0m\u001b[0m_maybe_cast_indexer\u001b[0m\u001b[1;33m(\u001b[0m\u001b[0mkey\u001b[0m\u001b[1;33m)\u001b[0m\u001b[1;33m)\u001b[0m\u001b[1;33m\u001b[0m\u001b[0m\n\u001b[0m\u001b[0;32m   1948\u001b[0m \u001b[1;33m\u001b[0m\u001b[0m\n\u001b[0;32m   1949\u001b[0m         \u001b[0mindexer\u001b[0m \u001b[1;33m=\u001b[0m \u001b[0mself\u001b[0m\u001b[1;33m.\u001b[0m\u001b[0mget_indexer\u001b[0m\u001b[1;33m(\u001b[0m\u001b[1;33m[\u001b[0m\u001b[0mkey\u001b[0m\u001b[1;33m]\u001b[0m\u001b[1;33m,\u001b[0m \u001b[0mmethod\u001b[0m\u001b[1;33m=\u001b[0m\u001b[0mmethod\u001b[0m\u001b[1;33m,\u001b[0m \u001b[0mtolerance\u001b[0m\u001b[1;33m=\u001b[0m\u001b[0mtolerance\u001b[0m\u001b[1;33m)\u001b[0m\u001b[1;33m\u001b[0m\u001b[0m\n",
      "\u001b[1;32mpandas\\index.pyx\u001b[0m in \u001b[0;36mpandas.index.IndexEngine.get_loc (pandas\\index.c:4154)\u001b[1;34m()\u001b[0m\n",
      "\u001b[1;32mpandas\\index.pyx\u001b[0m in \u001b[0;36mpandas.index.IndexEngine.get_loc (pandas\\index.c:4018)\u001b[1;34m()\u001b[0m\n",
      "\u001b[1;32mpandas\\hashtable.pyx\u001b[0m in \u001b[0;36mpandas.hashtable.PyObjectHashTable.get_item (pandas\\hashtable.c:12368)\u001b[1;34m()\u001b[0m\n",
      "\u001b[1;32mpandas\\hashtable.pyx\u001b[0m in \u001b[0;36mpandas.hashtable.PyObjectHashTable.get_item (pandas\\hashtable.c:12322)\u001b[1;34m()\u001b[0m\n",
      "\u001b[1;31mKeyError\u001b[0m: 'level_0'"
     ]
    }
   ],
   "source": [
    "#Remove rows where scripts were empity.\n",
    "movie_scripts = movie_scripts[movie_scripts.sentiment_stdev != 0].copy()\n",
    "del movie_scripts['level_0']\n",
    "del movie_scripts['index']\n"
   ]
  },
  {
   "cell_type": "code",
   "execution_count": null,
   "metadata": {
    "collapsed": false
   },
   "outputs": [],
   "source": []
  },
  {
   "cell_type": "code",
   "execution_count": 21,
   "metadata": {
    "collapsed": false
   },
   "outputs": [
    {
     "name": "stdout",
     "output_type": "stream",
     "text": [
      "title                0\n",
      "script               0\n",
      "IMDB_info            0\n",
      "Actors              13\n",
      "imdbID               0\n",
      "Awards             115\n",
      "Country              2\n",
      "Director            34\n",
      "Genre                5\n",
      "Language             4\n",
      "Metascore          241\n",
      "Plot                35\n",
      "Rated               83\n",
      "Released            27\n",
      "Runtime             26\n",
      "Writer              34\n",
      "Year                 0\n",
      "imdbRating          31\n",
      "imdbVotes           31\n",
      "financials           0\n",
      "Budget             156\n",
      "Revenue            176\n",
      "sentiment            0\n",
      "sentiment_avg        0\n",
      "sentiment_stdev      0\n",
      "dtype: int64\n"
     ]
    },
    {
     "data": {
      "text/plain": [
       "828"
      ]
     },
     "execution_count": 21,
     "metadata": {},
     "output_type": "execute_result"
    }
   ],
   "source": [
    "import ast\n",
    "#Select only the movies that were found with the IMDB API\n",
    "movie_scripts = movie_scripts[movie_scripts.IMDB_info.apply(lambda x: ast.literal_eval(x['Response']))]\n"
   ]
  },
  {
   "cell_type": "code",
   "execution_count": 23,
   "metadata": {
    "collapsed": false
   },
   "outputs": [],
   "source": [
    "def awards(award):\n",
    "    try:\n",
    "        if 'Oscar' in award:\n",
    "            return 1\n",
    "        else:\n",
    "            return 0\n",
    "    except:\n",
    "        return 0\n",
    "movie_scripts.Awards = movie_scripts.Awards.apply(lambda x: awards(x)) \n"
   ]
  },
  {
   "cell_type": "code",
   "execution_count": 25,
   "metadata": {
    "collapsed": false
   },
   "outputs": [
    {
     "name": "stdout",
     "output_type": "stream",
     "text": [
      "title                0\n",
      "script               0\n",
      "IMDB_info            0\n",
      "Actors              13\n",
      "imdbID               0\n",
      "Awards               0\n",
      "Country              2\n",
      "Director            34\n",
      "Genre                5\n",
      "Language             4\n",
      "Metascore          241\n",
      "Plot                35\n",
      "Rated               83\n",
      "Released            27\n",
      "Runtime             26\n",
      "Writer              34\n",
      "Year                 0\n",
      "imdbRating          31\n",
      "imdbVotes           31\n",
      "financials           0\n",
      "Budget             156\n",
      "Revenue            176\n",
      "sentiment            0\n",
      "sentiment_avg        0\n",
      "sentiment_stdev      0\n",
      "dtype: int64\n"
     ]
    },
    {
     "data": {
      "text/plain": [
       "828"
      ]
     },
     "execution_count": 25,
     "metadata": {},
     "output_type": "execute_result"
    }
   ],
   "source": [
    "print movie_scripts.apply(lambda x: np.sum(x.isnull()))\n",
    "len(movie_scripts)"
   ]
  },
  {
   "cell_type": "code",
   "execution_count": 52,
   "metadata": {
    "collapsed": false
   },
   "outputs": [
    {
     "data": {
      "text/html": [
       "<div>\n",
       "<table border=\"1\" class=\"dataframe\">\n",
       "  <thead>\n",
       "    <tr style=\"text-align: right;\">\n",
       "      <th></th>\n",
       "      <th>title</th>\n",
       "      <th>script</th>\n",
       "      <th>Actors</th>\n",
       "      <th>Awards</th>\n",
       "      <th>Director</th>\n",
       "      <th>Genre</th>\n",
       "      <th>Runtime</th>\n",
       "      <th>Writer</th>\n",
       "      <th>imdbRating</th>\n",
       "      <th>sentiment</th>\n",
       "      <th>sentiment_avg</th>\n",
       "      <th>sentiment_stdev</th>\n",
       "    </tr>\n",
       "  </thead>\n",
       "  <tbody>\n",
       "    <tr>\n",
       "      <th>0</th>\n",
       "      <td>10 Things I Hate About You</td>\n",
       "      <td>\\n\\n\\n\\n&lt;b&gt;&lt;!--\\n&lt;/b&gt;if (window!= top)\\ntop.lo...</td>\n",
       "      <td>Heath Ledger, Julia Stiles, Joseph Gordon-Levi...</td>\n",
       "      <td>0</td>\n",
       "      <td>Gil Junger</td>\n",
       "      <td>Comedy, Drama, Romance</td>\n",
       "      <td>97 min</td>\n",
       "      <td>Karen McCullah, Kirsten Smith</td>\n",
       "      <td>7.2</td>\n",
       "      <td>[0.11383952936, 0.105862606283, 0.081115874257...</td>\n",
       "      <td>0.050608</td>\n",
       "      <td>0.060887</td>\n",
       "    </tr>\n",
       "    <tr>\n",
       "      <th>1</th>\n",
       "      <td>12 and Holding</td>\n",
       "      <td>\\n           \\n          \\n          \\n       ...</td>\n",
       "      <td>Conor Donovan, Jesse Camacho, Zoe Weizenbaum, ...</td>\n",
       "      <td>0</td>\n",
       "      <td>Michael Cuesta</td>\n",
       "      <td>Drama</td>\n",
       "      <td>94 min</td>\n",
       "      <td>Anthony Cipriano</td>\n",
       "      <td>7.6</td>\n",
       "      <td>[0.0166268533054, -0.00886338353005, -0.051273...</td>\n",
       "      <td>0.012207</td>\n",
       "      <td>0.075825</td>\n",
       "    </tr>\n",
       "    <tr>\n",
       "      <th>2</th>\n",
       "      <td>12 Years a Slave</td>\n",
       "      <td>\\n\\r\\n\\r\\n\\r\\n                             12 ...</td>\n",
       "      <td>Chiwetel Ejiofor, Dwight Henry, Dickie Gravois...</td>\n",
       "      <td>1</td>\n",
       "      <td>Steve McQueen</td>\n",
       "      <td>Biography, Drama, History</td>\n",
       "      <td>134 min</td>\n",
       "      <td>John Ridley (screenplay), Solomon Northup (bas...</td>\n",
       "      <td>8.1</td>\n",
       "      <td>[0.144452514765, 0.152337532525, 0.14795544635...</td>\n",
       "      <td>0.049629</td>\n",
       "      <td>0.064201</td>\n",
       "    </tr>\n",
       "    <tr>\n",
       "      <th>3</th>\n",
       "      <td>127 Hours</td>\n",
       "      <td>\\n\\r\\n\\r\\n \\r\\n                               ...</td>\n",
       "      <td>James Franco, Kate Mara, Amber Tamblyn, Sean Bott</td>\n",
       "      <td>1</td>\n",
       "      <td>Danny Boyle</td>\n",
       "      <td>Adventure, Biography, Drama</td>\n",
       "      <td>94 min</td>\n",
       "      <td>Danny Boyle (screenplay), Simon Beaufoy (scree...</td>\n",
       "      <td>7.6</td>\n",
       "      <td>[-0.00192164832522, -0.00922014348086, -0.0075...</td>\n",
       "      <td>0.052450</td>\n",
       "      <td>0.061374</td>\n",
       "    </tr>\n",
       "    <tr>\n",
       "      <th>4</th>\n",
       "      <td>1492: Conquest of Paradise</td>\n",
       "      <td>\\n\\n\\n\\n&lt;b&gt;&lt;!--\\n&lt;/b&gt;if (window!= top)\\ntop.lo...</td>\n",
       "      <td>Gérard Depardieu, Armand Assante, Sigourney We...</td>\n",
       "      <td>0</td>\n",
       "      <td>Ridley Scott</td>\n",
       "      <td>Adventure, Biography, Drama</td>\n",
       "      <td>154 min</td>\n",
       "      <td>Rose Bosch (scenario)</td>\n",
       "      <td>6.5</td>\n",
       "      <td>[0.133802253193, 0.121926184817, 0.08588619306...</td>\n",
       "      <td>0.040886</td>\n",
       "      <td>0.068049</td>\n",
       "    </tr>\n",
       "  </tbody>\n",
       "</table>\n",
       "</div>"
      ],
      "text/plain": [
       "                        title  \\\n",
       "0  10 Things I Hate About You   \n",
       "1              12 and Holding   \n",
       "2            12 Years a Slave   \n",
       "3                   127 Hours   \n",
       "4  1492: Conquest of Paradise   \n",
       "\n",
       "                                              script  \\\n",
       "0  \\n\\n\\n\\n<b><!--\\n</b>if (window!= top)\\ntop.lo...   \n",
       "1  \\n           \\n          \\n          \\n       ...   \n",
       "2  \\n\\r\\n\\r\\n\\r\\n                             12 ...   \n",
       "3  \\n\\r\\n\\r\\n \\r\\n                               ...   \n",
       "4  \\n\\n\\n\\n<b><!--\\n</b>if (window!= top)\\ntop.lo...   \n",
       "\n",
       "                                              Actors  Awards        Director  \\\n",
       "0  Heath Ledger, Julia Stiles, Joseph Gordon-Levi...       0      Gil Junger   \n",
       "1  Conor Donovan, Jesse Camacho, Zoe Weizenbaum, ...       0  Michael Cuesta   \n",
       "2  Chiwetel Ejiofor, Dwight Henry, Dickie Gravois...       1   Steve McQueen   \n",
       "3  James Franco, Kate Mara, Amber Tamblyn, Sean Bott       1     Danny Boyle   \n",
       "4  Gérard Depardieu, Armand Assante, Sigourney We...       0    Ridley Scott   \n",
       "\n",
       "                         Genre  Runtime  \\\n",
       "0       Comedy, Drama, Romance   97 min   \n",
       "1                        Drama   94 min   \n",
       "2    Biography, Drama, History  134 min   \n",
       "3  Adventure, Biography, Drama   94 min   \n",
       "4  Adventure, Biography, Drama  154 min   \n",
       "\n",
       "                                              Writer  imdbRating  \\\n",
       "0                      Karen McCullah, Kirsten Smith         7.2   \n",
       "1                                   Anthony Cipriano         7.6   \n",
       "2  John Ridley (screenplay), Solomon Northup (bas...         8.1   \n",
       "3  Danny Boyle (screenplay), Simon Beaufoy (scree...         7.6   \n",
       "4                              Rose Bosch (scenario)         6.5   \n",
       "\n",
       "                                           sentiment  sentiment_avg  \\\n",
       "0  [0.11383952936, 0.105862606283, 0.081115874257...       0.050608   \n",
       "1  [0.0166268533054, -0.00886338353005, -0.051273...       0.012207   \n",
       "2  [0.144452514765, 0.152337532525, 0.14795544635...       0.049629   \n",
       "3  [-0.00192164832522, -0.00922014348086, -0.0075...       0.052450   \n",
       "4  [0.133802253193, 0.121926184817, 0.08588619306...       0.040886   \n",
       "\n",
       "   sentiment_stdev  \n",
       "0         0.060887  \n",
       "1         0.075825  \n",
       "2         0.064201  \n",
       "3         0.061374  \n",
       "4         0.068049  "
      ]
     },
     "execution_count": 52,
     "metadata": {},
     "output_type": "execute_result"
    }
   ],
   "source": [
    "movie_scores = movie_scripts[['title','script','Actors','Awards','Director', 'Genre','Runtime', 'Writer','imdbRating', 'sentiment', 'sentiment_avg','sentiment_stdev']].copy()\n",
    "movie_scores = movie_scores.dropna()\n",
    "len(movie_scores)\n",
    "movie_scores.reset_index(inplace = True, drop = True)\n",
    "movie_scores.head()"
   ]
  },
  {
   "cell_type": "code",
   "execution_count": 53,
   "metadata": {
    "collapsed": false
   },
   "outputs": [
    {
     "name": "stdout",
     "output_type": "stream",
     "text": [
      "0.114105394864\n",
      "0.730756421151\n"
     ]
    }
   ],
   "source": [
    "#null error\n",
    "MAPE = np.absolute((movie_scores.imdbRating - movie_scores.imdbRating.mean())/movie_scores.imdbRating).mean()\n",
    "RMSE = (np.sqrt((movie_scores.imdbRating - movie_scores.imdbRating.mean())**2)).mean()\n",
    "print MAPE\n",
    "print RMSE"
   ]
  },
  {
   "cell_type": "code",
   "execution_count": 54,
   "metadata": {
    "collapsed": false
   },
   "outputs": [],
   "source": [
    "X = movie_scores.script\n",
    "y = movie_scores.imdbRating\n",
    "\n",
    "# split the new DataFrame into training and testing sets\n",
    "X_train, X_test, y_train, y_test = train_test_split(X, y, random_state=1)"
   ]
  },
  {
   "cell_type": "code",
   "execution_count": 55,
   "metadata": {
    "collapsed": false
   },
   "outputs": [],
   "source": [
    "from nltk.stem.snowball import SnowballStemmer\n",
    "stemmer = SnowballStemmer('english')\n",
    "def word_tokenize(text, how='lemma'):\n",
    "    words = TextBlob(text).words\n",
    "    if how == 'lemma':\n",
    "        return [word.lemmatize() for word in words]\n",
    "    elif how == 'stem':\n",
    "        return [stemmer.stem(word) for word in words]"
   ]
  },
  {
   "cell_type": "code",
   "execution_count": 56,
   "metadata": {
    "collapsed": false
   },
   "outputs": [],
   "source": [
    "vect = TfidfVectorizer(analyzer=lambda x:word_tokenize(x, how='lemma'), stop_words='english', ngram_range=[1,3], min_df=3)\n",
    "X_train_dtm = vect.fit_transform(X_train)\n",
    "X_test_dtm = vect.transform(X_test)"
   ]
  },
  {
   "cell_type": "code",
   "execution_count": 57,
   "metadata": {
    "collapsed": false
   },
   "outputs": [],
   "source": [
    "from sklearn.linear_model import LinearRegression\n",
    "reg = LinearRegression()\n",
    "reg.fit(X_train_dtm, y_train)\n",
    "y_pred = reg.predict(X_test_dtm)"
   ]
  },
  {
   "cell_type": "code",
   "execution_count": 58,
   "metadata": {
    "collapsed": false
   },
   "outputs": [
    {
     "name": "stdout",
     "output_type": "stream",
     "text": [
      "0.702330178237\n"
     ]
    }
   ],
   "source": [
    "print metrics.mean_absolute_error(y_test, y_pred)"
   ]
  },
  {
   "cell_type": "code",
   "execution_count": 35,
   "metadata": {
    "collapsed": false
   },
   "outputs": [],
   "source": [
    "#2.68546572034 CountVectorizer(analyzer=lambda x:word_tokenize(x, how='lemma'), stop_words='english', ngram_range=[1,3], min_df=3)\n",
    "#0.813613305902 TfidfVectorizer(analyzer=lambda x:word_tokenize(x, how='lemma'), stop_words='english', ngram_range=[1,3], min_df=3)\n",
    "#0.696885490284 no missing values"
   ]
  },
  {
   "cell_type": "code",
   "execution_count": 66,
   "metadata": {
    "collapsed": false
   },
   "outputs": [
    {
     "name": "stdout",
     "output_type": "stream",
     "text": [
      "17.2776104012\n",
      "44509339.5365\n"
     ]
    }
   ],
   "source": [
    "MAPE = np.absolute((movies.profit - movies.profit.mean())/movies.profit).mean()\n",
    "RMSE = (np.sqrt((movies.profit - movies.profit.mean())**2)).mean()\n",
    "print MAPE\n",
    "print RMSE"
   ]
  },
  {
   "cell_type": "code",
   "execution_count": 64,
   "metadata": {
    "collapsed": true
   },
   "outputs": [],
   "source": [
    "y = movies.profit\n",
    "X_train, X_test, y_train, y_test = train_test_split(X, y)\n",
    "X_train_dtm = vect.fit_transform(X_train)\n",
    "X_test_dtm = vect.transform(X_test)"
   ]
  },
  {
   "cell_type": "code",
   "execution_count": 67,
   "metadata": {
    "collapsed": true
   },
   "outputs": [],
   "source": [
    "from sklearn.linear_model import LinearRegression\n",
    "reg = LinearRegression()\n",
    "reg.fit(X_train_dtm, y_train)\n",
    "y_pred = reg.predict(X_test_dtm)"
   ]
  },
  {
   "cell_type": "code",
   "execution_count": 68,
   "metadata": {
    "collapsed": false
   },
   "outputs": [
    {
     "name": "stdout",
     "output_type": "stream",
     "text": [
      "50822005.2416\n"
     ]
    }
   ],
   "source": [
    "print metrics.mean_absolute_error(y_test, y_pred)"
   ]
  },
  {
   "cell_type": "code",
   "execution_count": 61,
   "metadata": {
    "collapsed": false
   },
   "outputs": [
    {
     "data": {
      "text/plain": [
       "0.980392156862745"
      ]
     },
     "execution_count": 61,
     "metadata": {},
     "output_type": "execute_result"
    }
   ],
   "source": [
    "B = (0.99/10000) + 0.01*9999/10000\n",
    "(0.99/10000)*100/B"
   ]
  },
  {
   "cell_type": "code",
   "execution_count": 69,
   "metadata": {
    "collapsed": false
   },
   "outputs": [
    {
     "data": {
      "text/html": [
       "<div>\n",
       "<table border=\"1\" class=\"dataframe\">\n",
       "  <thead>\n",
       "    <tr style=\"text-align: right;\">\n",
       "      <th></th>\n",
       "      <th>title</th>\n",
       "      <th>script</th>\n",
       "      <th>Actors</th>\n",
       "      <th>Awards</th>\n",
       "      <th>Director</th>\n",
       "      <th>Genre</th>\n",
       "      <th>Runtime</th>\n",
       "      <th>Writer</th>\n",
       "      <th>imdbRating</th>\n",
       "      <th>Budget</th>\n",
       "      <th>Revenue</th>\n",
       "      <th>sentiment</th>\n",
       "      <th>sentiment_avg</th>\n",
       "      <th>sentiment_stdev</th>\n",
       "      <th>profit</th>\n",
       "    </tr>\n",
       "  </thead>\n",
       "  <tbody>\n",
       "    <tr>\n",
       "      <th>0</th>\n",
       "      <td>10 Things I Hate About You</td>\n",
       "      <td>\\n\\n\\n\\n&lt;b&gt;&lt;!--\\n&lt;/b&gt;if (window!= top)\\ntop.lo...</td>\n",
       "      <td>Heath Ledger, Julia Stiles, Joseph Gordon-Levi...</td>\n",
       "      <td>0</td>\n",
       "      <td>Gil Junger</td>\n",
       "      <td>Comedy, Drama, Romance</td>\n",
       "      <td>97 min</td>\n",
       "      <td>Karen McCullah, Kirsten Smith</td>\n",
       "      <td>7.2</td>\n",
       "      <td>16000000.0</td>\n",
       "      <td>38176108.0</td>\n",
       "      <td>[0.11383952936, 0.105862606283, 0.081115874257...</td>\n",
       "      <td>0.050608</td>\n",
       "      <td>0.060887</td>\n",
       "      <td>22176108.0</td>\n",
       "    </tr>\n",
       "    <tr>\n",
       "      <th>1</th>\n",
       "      <td>12</td>\n",
       "      <td>\\n\\n\\n  \\n  12 - Script\\n</td>\n",
       "      <td>Sergey Makovetskiy, Nikita Mikhalkov, Sergey G...</td>\n",
       "      <td>1</td>\n",
       "      <td>Nikita Mikhalkov</td>\n",
       "      <td>Crime, Drama, Thriller</td>\n",
       "      <td>159 min</td>\n",
       "      <td>Nikita Mikhalkov, Aleksandr Novototskiy-Vlasov...</td>\n",
       "      <td>7.8</td>\n",
       "      <td>4000000.0</td>\n",
       "      <td>125024.0</td>\n",
       "      <td>[0.0, 0.0, 0.0, 0.0, 0.0, 0.0, 0.0, 0.0, 0.0, ...</td>\n",
       "      <td>0.000000</td>\n",
       "      <td>0.000000</td>\n",
       "      <td>-3874976.0</td>\n",
       "    </tr>\n",
       "    <tr>\n",
       "      <th>2</th>\n",
       "      <td>12 and Holding</td>\n",
       "      <td>\\n           \\n          \\n          \\n       ...</td>\n",
       "      <td>Conor Donovan, Jesse Camacho, Zoe Weizenbaum, ...</td>\n",
       "      <td>0</td>\n",
       "      <td>Michael Cuesta</td>\n",
       "      <td>Drama</td>\n",
       "      <td>94 min</td>\n",
       "      <td>Anthony Cipriano</td>\n",
       "      <td>7.6</td>\n",
       "      <td>400000.0</td>\n",
       "      <td>95687.0</td>\n",
       "      <td>[0.0166268533054, -0.00886338353005, -0.051273...</td>\n",
       "      <td>0.012207</td>\n",
       "      <td>0.075825</td>\n",
       "      <td>-304313.0</td>\n",
       "    </tr>\n",
       "    <tr>\n",
       "      <th>4</th>\n",
       "      <td>12 Years a Slave</td>\n",
       "      <td>\\n\\r\\n\\r\\n\\r\\n                             12 ...</td>\n",
       "      <td>Chiwetel Ejiofor, Dwight Henry, Dickie Gravois...</td>\n",
       "      <td>1</td>\n",
       "      <td>Steve McQueen</td>\n",
       "      <td>Biography, Drama, History</td>\n",
       "      <td>134 min</td>\n",
       "      <td>John Ridley (screenplay), Solomon Northup (bas...</td>\n",
       "      <td>8.1</td>\n",
       "      <td>20000000.0</td>\n",
       "      <td>56667870.0</td>\n",
       "      <td>[0.144452514765, 0.152337532525, 0.14795544635...</td>\n",
       "      <td>0.049629</td>\n",
       "      <td>0.064201</td>\n",
       "      <td>36667870.0</td>\n",
       "    </tr>\n",
       "    <tr>\n",
       "      <th>5</th>\n",
       "      <td>127 Hours</td>\n",
       "      <td>\\n\\r\\n\\r\\n \\r\\n                               ...</td>\n",
       "      <td>James Franco, Kate Mara, Amber Tamblyn, Sean Bott</td>\n",
       "      <td>1</td>\n",
       "      <td>Danny Boyle</td>\n",
       "      <td>Adventure, Biography, Drama</td>\n",
       "      <td>94 min</td>\n",
       "      <td>Danny Boyle (screenplay), Simon Beaufoy (scree...</td>\n",
       "      <td>7.6</td>\n",
       "      <td>18000000.0</td>\n",
       "      <td>18329466.0</td>\n",
       "      <td>[-0.00192164832522, -0.00922014348086, -0.0075...</td>\n",
       "      <td>0.052450</td>\n",
       "      <td>0.061374</td>\n",
       "      <td>329466.0</td>\n",
       "    </tr>\n",
       "  </tbody>\n",
       "</table>\n",
       "</div>"
      ],
      "text/plain": [
       "                        title  \\\n",
       "0  10 Things I Hate About You   \n",
       "1                          12   \n",
       "2              12 and Holding   \n",
       "4            12 Years a Slave   \n",
       "5                   127 Hours   \n",
       "\n",
       "                                              script  \\\n",
       "0  \\n\\n\\n\\n<b><!--\\n</b>if (window!= top)\\ntop.lo...   \n",
       "1                          \\n\\n\\n  \\n  12 - Script\\n   \n",
       "2  \\n           \\n          \\n          \\n       ...   \n",
       "4  \\n\\r\\n\\r\\n\\r\\n                             12 ...   \n",
       "5  \\n\\r\\n\\r\\n \\r\\n                               ...   \n",
       "\n",
       "                                              Actors  Awards  \\\n",
       "0  Heath Ledger, Julia Stiles, Joseph Gordon-Levi...       0   \n",
       "1  Sergey Makovetskiy, Nikita Mikhalkov, Sergey G...       1   \n",
       "2  Conor Donovan, Jesse Camacho, Zoe Weizenbaum, ...       0   \n",
       "4  Chiwetel Ejiofor, Dwight Henry, Dickie Gravois...       1   \n",
       "5  James Franco, Kate Mara, Amber Tamblyn, Sean Bott       1   \n",
       "\n",
       "           Director                        Genre  Runtime  \\\n",
       "0        Gil Junger       Comedy, Drama, Romance   97 min   \n",
       "1  Nikita Mikhalkov       Crime, Drama, Thriller  159 min   \n",
       "2    Michael Cuesta                        Drama   94 min   \n",
       "4     Steve McQueen    Biography, Drama, History  134 min   \n",
       "5       Danny Boyle  Adventure, Biography, Drama   94 min   \n",
       "\n",
       "                                              Writer  imdbRating      Budget  \\\n",
       "0                      Karen McCullah, Kirsten Smith         7.2  16000000.0   \n",
       "1  Nikita Mikhalkov, Aleksandr Novototskiy-Vlasov...         7.8   4000000.0   \n",
       "2                                   Anthony Cipriano         7.6    400000.0   \n",
       "4  John Ridley (screenplay), Solomon Northup (bas...         8.1  20000000.0   \n",
       "5  Danny Boyle (screenplay), Simon Beaufoy (scree...         7.6  18000000.0   \n",
       "\n",
       "      Revenue                                          sentiment  \\\n",
       "0  38176108.0  [0.11383952936, 0.105862606283, 0.081115874257...   \n",
       "1    125024.0  [0.0, 0.0, 0.0, 0.0, 0.0, 0.0, 0.0, 0.0, 0.0, ...   \n",
       "2     95687.0  [0.0166268533054, -0.00886338353005, -0.051273...   \n",
       "4  56667870.0  [0.144452514765, 0.152337532525, 0.14795544635...   \n",
       "5  18329466.0  [-0.00192164832522, -0.00922014348086, -0.0075...   \n",
       "\n",
       "   sentiment_avg  sentiment_stdev      profit  \n",
       "0       0.050608         0.060887  22176108.0  \n",
       "1       0.000000         0.000000  -3874976.0  \n",
       "2       0.012207         0.075825   -304313.0  \n",
       "4       0.049629         0.064201  36667870.0  \n",
       "5       0.052450         0.061374    329466.0  "
      ]
     },
     "execution_count": 69,
     "metadata": {},
     "output_type": "execute_result"
    }
   ],
   "source": [
    "movies.head()"
   ]
  },
  {
   "cell_type": "code",
   "execution_count": 72,
   "metadata": {
    "collapsed": false
   },
   "outputs": [
    {
     "data": {
      "text/plain": [
       "<matplotlib.axes._subplots.AxesSubplot at 0x2c247748>"
      ]
     },
     "execution_count": 72,
     "metadata": {},
     "output_type": "execute_result"
    },
    {
     "data": {
      "image/png": "[encoded data removed]",
      "text/plain": [
       "<matplotlib.figure.Figure at 0x2e7cd550>"
      ]
     },
     "metadata": {},
     "output_type": "display_data"
    }
   ],
   "source": [
    "pd.Series(movies.sentiment[4]).plot()"
   ]
  },
  {
   "cell_type": "code",
   "execution_count": null,
   "metadata": {
    "collapsed": true
   },
   "outputs": [],
   "source": [
    "        "
   ]
  }
 ],
 "metadata": {
  "anaconda-cloud": {},
  "kernelspec": {
   "display_name": "Python [Root]",
   "language": "python",
   "name": "Python [Root]"
  },
  "language_info": {
   "codemirror_mode": {
    "name": "ipython",
    "version": 2
   },
   "file_extension": ".py",
   "mimetype": "text/x-python",
   "name": "python",
   "nbconvert_exporter": "python",
   "pygments_lexer": "ipython2",
   "version": "2.7.12"
  }
 },
 "nbformat": 4,
 "nbformat_minor": 0
}
